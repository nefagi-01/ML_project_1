{
 "cells": [
  {
   "cell_type": "code",
   "execution_count": null,
   "metadata": {
    "tags": []
   },
   "outputs": [],
   "source": [
    "# Useful starting lines\n",
    "%matplotlib inline\n",
    "import numpy as np\n",
    "import matplotlib.pyplot as plt\n",
    "import collections\n",
    "%load_ext autoreload\n",
    "%autoreload 2"
   ]
  },
  {
   "cell_type": "markdown",
   "metadata": {},
   "source": [
    "## Load the training data into feature matrix, class labels, and event ids:"
   ]
  },
  {
   "cell_type": "code",
   "execution_count": null,
   "metadata": {
    "collapsed": false,
    "jupyter": {
     "outputs_hidden": false
    }
   },
   "outputs": [],
   "source": [
    "from proj1_helpers import *\n",
    "DATA_TRAIN_PATH = '../data/train.csv'\n",
    "y, tX, ids = load_csv_data(DATA_TRAIN_PATH)"
   ]
  },
  {
   "cell_type": "code",
   "execution_count": null,
   "metadata": {},
   "outputs": [],
   "source": [
    "from implementations import *"
   ]
  },
  {
   "cell_type": "markdown",
   "metadata": {
    "tags": []
   },
   "source": [
    "## Do your thing crazy machine learning thing here :) ..."
   ]
  },
  {
   "cell_type": "markdown",
   "metadata": {
    "jp-MarkdownHeadingCollapsed": true,
    "tags": []
   },
   "source": [
    "### Testing functions"
   ]
  },
  {
   "cell_type": "code",
   "execution_count": null,
   "metadata": {},
   "outputs": [],
   "source": [
    "#GD\n",
    "initial_w=np.zeros(tX.shape[1])\n",
    "max_iters=50\n",
    "gamma=1e-1\n",
    "w,loss = least_squares_GD(y,tX,initial_w,max_iters,gamma)\n",
    "print(f'w:{w}\\nloss:{loss}')"
   ]
  },
  {
   "cell_type": "code",
   "execution_count": null,
   "metadata": {},
   "outputs": [],
   "source": [
    "#SDG\n",
    "initial_w=np.zeros(tX.shape[1])\n",
    "max_iters=20\n",
    "gamma=1e-4\n",
    "w,loss = least_squares_SGD(y,tX,initial_w,max_iters,gamma)\n",
    "print(f'w:{w}\\nloss:{loss}')"
   ]
  },
  {
   "cell_type": "code",
   "execution_count": null,
   "metadata": {},
   "outputs": [],
   "source": [
    "#LS\n",
    "w,loss = least_squares(y,tX)\n",
    "print(f'w:{w}\\nloss:{loss}')"
   ]
  },
  {
   "cell_type": "code",
   "execution_count": null,
   "metadata": {},
   "outputs": [],
   "source": [
    "#RR\n",
    "lambda_=0.1\n",
    "w,loss = ridge_regression(y,tX,lambda_)\n",
    "print(f'w:{w}\\nloss:{loss}')"
   ]
  },
  {
   "cell_type": "code",
   "execution_count": null,
   "metadata": {},
   "outputs": [],
   "source": [
    "#LR\n",
    "initial_w=np.zeros(tX.shape[1])\n",
    "max_iters=300\n",
    "gamma=1e-9\n",
    "w,loss = logistic_regression(y,tX,initial_w,max_iters,gamma)\n",
    "print(f'w:{w}\\nloss:{loss}')"
   ]
  },
  {
   "cell_type": "code",
   "execution_count": null,
   "metadata": {},
   "outputs": [],
   "source": [
    "#RLR\n",
    "initial_w=np.zeros(tX.shape[1])\n",
    "max_iters=300\n",
    "gamma=1e-9\n",
    "lambda_=0.01\n",
    "w,loss = reg_logistic_regression(y,tX, lambda_, initial_w, max_iters,gamma)\n",
    "print(f'w:{w}\\nloss:{loss}')"
   ]
  },
  {
   "cell_type": "markdown",
   "metadata": {},
   "source": [
    "### Cleaning dataset"
   ]
  },
  {
   "cell_type": "markdown",
   "metadata": {},
   "source": [
    "### Subsample\n"
   ]
  },
  {
   "cell_type": "code",
   "execution_count": null,
   "metadata": {},
   "outputs": [],
   "source": [
    "N=4\n",
    "y=y[1::N]\n",
    "tX=tX[1::N]"
   ]
  },
  {
   "cell_type": "markdown",
   "metadata": {},
   "source": [
    "#### Transform [-1,1] into [0,1]"
   ]
  },
  {
   "cell_type": "code",
   "execution_count": null,
   "metadata": {},
   "outputs": [],
   "source": [
    "#we normalize the data ranging from [0,1] instead of [-1,1] since it is a binary prediction \n",
    "#and it fits the structure for the logistic regression\n",
    "y = (y-min(y))/(max(y)-min(y))\n"
   ]
  },
  {
   "cell_type": "markdown",
   "metadata": {
    "tags": []
   },
   "source": [
    "### Remove columns containing over 39% of NULL values"
   ]
  },
  {
   "cell_type": "code",
   "execution_count": null,
   "metadata": {},
   "outputs": [],
   "source": [
    "#remove the column contaning over a percentage of null values.\n",
    "percentage = 0.39\n",
    "remove_features=[]\n",
    "for i in range(tX.shape[1]):\n",
    "    col=tX[:,i]\n",
    "    total=col.shape[0]\n",
    "    counter_=collections.Counter(col)\n",
    "    nulls=counter_[-999]\n",
    "    null_percentage=round(nulls/total,2)\n",
    "    print(f'NULL percentage is: {null_percentage}')\n",
    "    if null_percentage>percentage:\n",
    "        remove_features.append(i)\n",
    "tX=np.delete(tX,remove_features,1)"
   ]
  },
  {
   "cell_type": "markdown",
   "metadata": {},
   "source": [
    "### Removing outliers"
   ]
  },
  {
   "cell_type": "code",
   "execution_count": null,
   "metadata": {},
   "outputs": [],
   "source": [
    "#remove the outliers in the code using the following formula and setting the outliers to the median\n",
    "k = 1\n",
    "for i in range(0,tX.shape[1]):\n",
    "    q1 = np.percentile(tX[:,i],25)\n",
    "    q2 = np.percentile(tX[:,i],50)\n",
    "    q3 = np.percentile(tX[:,i],75)\n",
    "    tX[:,i][(tX[:,i] < q1 - k*(q3-q1))] = q2\n",
    "    tX[:,i][(tX[:,i] > q3 + k*(q3-q1))] = q2"
   ]
  },
  {
   "cell_type": "markdown",
   "metadata": {},
   "source": [
    "### Normalization of features\n"
   ]
  },
  {
   "cell_type": "code",
   "execution_count": null,
   "metadata": {},
   "outputs": [],
   "source": [
    "#feature scaling by standardizing the dataset\n",
    "tX = standardize(tX)"
   ]
  },
  {
   "cell_type": "markdown",
   "metadata": {
    "jp-MarkdownHeadingCollapsed": true,
    "tags": []
   },
   "source": [
    "### Remove less influent features"
   ]
  },
  {
   "cell_type": "code",
   "execution_count": null,
   "metadata": {},
   "outputs": [],
   "source": [
    "#Apply least squares\n",
    "threshold=1e-3\n",
    "w,loss = least_squares(y,tX)\n",
    "print(f'w:{w}\\nloss:{loss}')\n",
    "print(f'w:{w}\\n\\tshape:{w.shape}')\n",
    "w=w[np.abs(w)>=threshold]\n",
    "print(f'w:{w}\\n\\tshape:{w.shape}')\n"
   ]
  },
  {
   "cell_type": "markdown",
   "metadata": {
    "jp-MarkdownHeadingCollapsed": true,
    "tags": []
   },
   "source": [
    "### Logistic Cross Validation - Searching best Degree"
   ]
  },
  {
   "cell_type": "code",
   "execution_count": null,
   "metadata": {},
   "outputs": [],
   "source": [
    "degrees=np.arange(3)\n",
    "k_fold=4\n",
    "max_iters=100\n",
    "gammas=np.logspace(-10,0,10)\n",
    "interactions=[False,True]\n",
    "loss_tr_list=np.zeros((len(degrees),len(gammas),len(interactions)))\n",
    "loss_te_list=np.zeros((len(degrees),len(gammas),len(interactions)))\n",
    "\n",
    "for i,D in enumerate(degrees):\n",
    "    print(i)\n",
    "    for k,interaction in enumerate(interactions):\n",
    "        phi_x=build_poly(tX, D, interaction)\n",
    "        for j,gamma in enumerate(gammas):\n",
    "            #compute loss with cross-validation\n",
    "            loss_tr, loss_te=apply_cross_validation_logistic(y,phi_x,k_fold,max_iters,gamma,1)\n",
    "            loss_tr_list[i,j,k]=loss_tr\n",
    "            loss_te_list[i,j,k]=loss_te\n",
    "D_best_index, gamma_best_index, interaction_index=np.unravel_index(np.argmin(loss_te_list),loss_te_list.shape)\n",
    "gamma_best=gammas[gamma_best_index]\n",
    "D_best_logistic=degrees[D_best_index]\n",
    "interaction_logistic=interactions[interaction_index]\n",
    "print(f'Best degree logistic: {D_best_logistic}, best gamma logistic:{gamma_best}, interaction:{interaction_logistic}')"
   ]
  },
  {
   "cell_type": "markdown",
   "metadata": {},
   "source": [
    "### Cross Validation Ridge Regression - Best Degree"
   ]
  },
  {
   "cell_type": "code",
   "execution_count": null,
   "metadata": {},
   "outputs": [],
   "source": [
    "degrees=np.arange(3)\n",
    "lambdas=np.logspace(-10,0,10)\n",
    "k_fold=4\n",
    "interactions=[False,True]\n",
    "rmse_tr_list=np.zeros((len(degrees),len(lambdas),len(interactions)))\n",
    "rmse_te_list=np.zeros((len(degrees),len(lambdas),len(interactions)))\n",
    "for i,D in enumerate(degrees):\n",
    "    print(f'Degree:{D}')\n",
    "    for k,interaction in enumerate(interactions):\n",
    "        phi_x=build_poly(tX, D, interaction)\n",
    "        for j,lambda_ in enumerate(lambdas):\n",
    "            #compute loss with cross-validation\n",
    "            rmse_tr, rmse_te=apply_cross_validation(y,phi_x,k_fold,D,lambda_,1)\n",
    "            rmse_tr_list[i,j,k]=rmse_tr\n",
    "            rmse_te_list[i,j,k]=rmse_te\n",
    "D_best_index,lambda_best_index,interaction_index=np.unravel_index(np.argmin(rmse_te_list),rmse_te_list.shape)\n",
    "D_best_ridge=degrees[D_best_index]\n",
    "lambda_best_ridge=lambdas[lambda_best_index]\n",
    "interaction_ridge=interactions[interaction_index]\n",
    "print(f'Best degree ridge:{D_best_ridge}, best lambda_ ridge:{lambda_best_ridge}, interactions: {interaction_ridge}')"
   ]
  },
  {
   "cell_type": "markdown",
   "metadata": {},
   "source": [
    "### Testing accuracy (ridge-regression vs logistic)"
   ]
  },
  {
   "cell_type": "code",
   "execution_count": null,
   "metadata": {},
   "outputs": [],
   "source": [
    "#Re-transform y data\n",
    "y_act=y*2-1\n",
    "\n",
    "#Ridge\n",
    "phi_tX_ridge=build_poly(tX,D_best_ridge,interaction_ridge)\n",
    "w_ridge,_=ridge_regression(y,phi_tX_ridge,lambda_best_ridge)\n",
    "y_pred_ridge=predict_labels(w_ridge,phi_tX_ridge)\n",
    "accuracy_ridge=accuracy(y_pred_ridge,y_act)\n",
    "#Logistic\n",
    "phi_tX_logistic=build_poly(tX, D_best_logistic, interaction_logistic)\n",
    "w_initial=np.zeros(phi_tX_logistic.shape[1])\n",
    "max_iters=100\n",
    "w_logistic,loss_logistic=logistic_regression(y,phi_tX_logistic,w_initial,max_iters,gamma_best)\n",
    "y_pred_logistic=predict_labels(w_logistic,phi_tX_logistic,logistic=True)\n",
    "accuracy_logistic=accuracy(y_pred_logistic,y_act)\n",
    "print(f'Accuracy ridge:{accuracy_ridge} Accuracy logistic:{accuracy_logistic}')"
   ]
  },
  {
   "cell_type": "markdown",
   "metadata": {
    "jp-MarkdownHeadingCollapsed": true,
    "tags": []
   },
   "source": [
    "## Generate predictions and save ouput in csv format for submission:"
   ]
  },
  {
   "cell_type": "code",
   "execution_count": null,
   "metadata": {
    "collapsed": false,
    "jupyter": {
     "outputs_hidden": false
    }
   },
   "outputs": [],
   "source": [
    "DATA_TEST_PATH = '../data/test.csv'\n",
    "_, tX_test, ids_test = load_csv_data(DATA_TEST_PATH)\n",
    "tX_test=np.delete(tX_test,remove_features,1)\n",
    "tX_test= standardize(tX_test)"
   ]
  },
  {
   "cell_type": "code",
   "execution_count": null,
   "metadata": {
    "collapsed": false,
    "jupyter": {
     "outputs_hidden": false
    }
   },
   "outputs": [],
   "source": [
    "tX_test_ridge=build_poly(tX_test,D_best_ridge,interaction_ridge)\n",
    "weights=w_ridge\n",
    "OUTPUT_PATH = 'output_ridge.csv' # TODO: fill in desired name of output file for submission\n",
    "y_pred = predict_labels(weights, tX_test_ridge)\n",
    "create_csv_submission(ids_test, y_pred, OUTPUT_PATH)"
   ]
  },
  {
   "cell_type": "code",
   "execution_count": null,
   "metadata": {},
   "outputs": [],
   "source": [
    "tX_test_logistic=build_poly(tX_test,D_best_logistic,interaction_logistic)\n",
    "weights=w_logistic\n",
    "OUTPUT_PATH = 'output_logistic.csv' # TODO: fill in desired name of output file for submission\n",
    "y_pred = predict_labels(weights, tX_test_logistic, logistic=True)\n",
    "create_csv_submission(ids_test, y_pred, OUTPUT_PATH)"
   ]
  }
 ],
 "metadata": {
  "anaconda-cloud": {},
  "interpreter": {
   "hash": "769d560f7a9260275cfba8eac8dfb7a8ebd643a4b3237d9fce15021d62ac6fd5"
  },
  "kernelspec": {
   "display_name": "Python 3 (ipykernel)",
   "language": "python",
   "name": "python3"
  },
  "language_info": {
   "codemirror_mode": {
    "name": "ipython",
    "version": 3
   },
   "file_extension": ".py",
   "mimetype": "text/x-python",
   "name": "python",
   "nbconvert_exporter": "python",
   "pygments_lexer": "ipython3",
   "version": "3.7.11"
  }
 },
 "nbformat": 4,
 "nbformat_minor": 4
}
