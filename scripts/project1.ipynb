{
 "cells": [
  {
   "cell_type": "code",
   "execution_count": 1,
   "metadata": {
    "tags": []
   },
   "outputs": [],
   "source": [
    "# Useful starting lines\n",
    "%matplotlib inline\n",
    "import numpy as np\n",
    "import matplotlib.pyplot as plt\n",
    "%load_ext autoreload\n",
    "%autoreload 2"
   ]
  },
  {
   "cell_type": "markdown",
   "metadata": {},
   "source": [
    "## Load the training data into feature matrix, class labels, and event ids:"
   ]
  },
  {
   "cell_type": "code",
   "execution_count": 2,
   "metadata": {
    "collapsed": false,
    "jupyter": {
     "outputs_hidden": false
    }
   },
   "outputs": [],
   "source": [
    "from proj1_helpers import *\n",
    "DATA_TRAIN_PATH = '../data/train.csv'\n",
    "y, tX, ids = load_csv_data(DATA_TRAIN_PATH)"
   ]
  },
  {
   "cell_type": "code",
   "execution_count": 23,
   "metadata": {},
   "outputs": [],
   "source": [
    "#import all scripts\n",
    "from least_square import *"
   ]
  },
  {
   "cell_type": "markdown",
   "metadata": {},
   "source": [
    "## Do your thing crazy machine learning thing here :) ..."
   ]
  },
  {
   "cell_type": "code",
   "execution_count": 52,
   "metadata": {},
   "outputs": [
    {
     "name": "stdout",
     "output_type": "stream",
     "text": [
      "Gradient Descent(0/29): loss=0.3396868094770931, w0=8.034943108457065e-05, w1=-0.007202022733290323\n",
      "Gradient Descent(1/29): loss=0.3396868094770931, w0=8.035619448807387e-05, w1=-0.007202026652906316\n",
      "Gradient Descent(2/29): loss=0.33968692971209086, w0=-0.00035005137957202354, w1=-0.006983038624760862\n",
      "Gradient Descent(3/29): loss=395.6995428246848, w0=24.917654338501393, w1=-12.55490699054905\n",
      "Gradient Descent(4/29): loss=1300133461436.722, w0=-1430061.5639749072, w1=719537.6533415295\n",
      "Gradient Descent(5/29): loss=4.2754668167594723e+21, w0=82012917917.39725, w1=-41262080190.54301\n",
      "Gradient Descent(6/29): loss=1.40598001030238e+31, w0=-4703082536861913.0, w1=2366186192473753.0\n",
      "Gradient Descent(7/29): loss=4.623541414659205e+40, w0=2.6969979755201787e+20, w1=-1.3568964884870916e+20\n",
      "Gradient Descent(8/29): loss=1.5204437514354165e+50, w0=-1.5466015535367216e+25, w1=7.781163152828815e+24\n",
      "Gradient Descent(9/29): loss=4.999953485761953e+59, w0=8.869032507098266e+29, w1=-4.462131085624397e+29\n",
      "Gradient Descent(10/29): loss=1.6442262225209992e+69, w0=-5.085972994610617e+34, w1=2.558822303847311e+34\n",
      "Gradient Descent(11/29): loss=5.407010042241796e+78, w0=2.916566296686904e+39, w1=-1.4673642385275756e+39\n",
      "Gradient Descent(12/29): loss=1.7780860806415113e+88, w0=-1.6725135921429784e+44, w1=8.414643741662975e+43\n",
      "Gradient Descent(13/29): loss=5.847205915046287e+97, w0=9.591078793835915e+48, w1=-4.825402407936444e+48\n",
      "Gradient Descent(14/29): loss=1.922843746722152e+107, w0=-5.500032577414666e+53, w1=2.767141320936917e+53\n",
      "Gradient Descent(15/29): loss=6.32323904447141e+116, w0=3.154009992292392e+58, w1=-1.5868253966638632e+58\n",
      "Gradient Descent(16/29): loss=2.0793864338528178e+126, w0=-1.8086763835417643e+63, w1=9.099697295708985e+62\n",
      "Gradient Descent(17/29): loss=6.838027015713737e+135, w0=1.0371908359123693e+68, w1=-5.218248400083672e+67\n",
      "Gradient Descent(18/29): loss=2.248673584976392e+145, w0=-5.947801607239596e+72, w1=2.9924200201490585e+72\n",
      "Gradient Descent(19/29): loss=7.39472494061621e+154, w0=3.4107844703393426e+77, w1=-1.7160121348085503e+77\n",
      "Gradient Descent(20/29): loss=2.431742753270501e+164, w0=-1.955924469462452e+82, w1=9.840522476732793e+81\n",
      "Gradient Descent(21/29): loss=7.996744795203742e+173, w0=1.1216306874592278e+87, w1=-5.643076797116412e+86\n",
      "Gradient Descent(22/29): loss=2.6297159612633063e+183, w0=-6.432024440064467e+91, w1=3.2360391242891024e+91\n",
      "Gradient Descent(23/29): loss=8.647776331527666e+192, w0=3.688463489823196e+96, w1=-1.8557162325490403e+96\n",
      "Gradient Descent(24/29): loss=2.8438065776580694e+202, w0=-2.115160326664176e+101, w1=1.0641659768259203e+101\n",
      "Gradient Descent(25/29): loss=9.351809691986636e+211, w0=1.212944961997864e+106, w1=-6.102491352777115e+105\n",
      "Gradient Descent(26/29): loss=3.075326754014232e+221, w0=-6.955668855402027e+110, w1=3.499491763662291e+110\n",
      "Gradient Descent(27/29): loss=1.011315986472625e+231, w0=3.988748932706721e+115, w1=-2.0067939298868685e+115\n",
      "Gradient Descent(28/29): loss=3.325695466864088e+240, w0=-2.2873599044055466e+120, w1=1.1508019303969468e+120\n",
      "Gradient Descent(29/29): loss=1.093649313000327e+250, w0=1.3116933205248797e+125, w1=-6.599307797786684e+124\n"
     ]
    }
   ],
   "source": [
    "#least_square for normal equation\n",
    "weights_norm_eq,err_norm_eq = least_squares(y, tX)\n",
    "\n",
    "#gradient_descent\n",
    "#initial_w = np.array([10]*30)\n",
    "initial_w = weights_norm_eq\n",
    "max_iters = 30\n",
    "gamma = 0.01\n",
    "weights_GD,err_GD = least_squares_GD(y, tX, initial_w, max_iters, gamma)\n",
    "#ERR: why loss to inf?"
   ]
  },
  {
   "cell_type": "code",
   "execution_count": null,
   "metadata": {},
   "outputs": [],
   "source": []
  },
  {
   "cell_type": "code",
   "execution_count": null,
   "metadata": {},
   "outputs": [],
   "source": []
  },
  {
   "cell_type": "code",
   "execution_count": null,
   "metadata": {},
   "outputs": [],
   "source": []
  },
  {
   "cell_type": "code",
   "execution_count": null,
   "metadata": {},
   "outputs": [],
   "source": []
  },
  {
   "cell_type": "markdown",
   "metadata": {},
   "source": [
    "## Generate predictions and save ouput in csv format for submission:"
   ]
  },
  {
   "cell_type": "code",
   "execution_count": 10,
   "metadata": {
    "collapsed": false,
    "jupyter": {
     "outputs_hidden": false
    }
   },
   "outputs": [],
   "source": [
    "DATA_TEST_PATH = '../data/test.csv'\n",
    "_, tX_test, ids_test = load_csv_data(DATA_TEST_PATH)"
   ]
  },
  {
   "cell_type": "code",
   "execution_count": 31,
   "metadata": {
    "collapsed": false,
    "jupyter": {
     "outputs_hidden": false
    }
   },
   "outputs": [],
   "source": [
    "OUTPUT_PATH = '' # TODO: fill in desired name of output file for submission\n",
    "y_pred = predict_labels(weights, tX_test)\n",
    "create_csv_submission(ids_test, y_pred, OUTPUT_PATH)"
   ]
  },
  {
   "cell_type": "code",
   "execution_count": null,
   "metadata": {
    "collapsed": true,
    "jupyter": {
     "outputs_hidden": true
    }
   },
   "outputs": [],
   "source": []
  }
 ],
 "metadata": {
  "anaconda-cloud": {},
  "kernelspec": {
   "display_name": "Python 3 (ipykernel)",
   "language": "python",
   "name": "python3"
  },
  "language_info": {
   "codemirror_mode": {
    "name": "ipython",
    "version": 3
   },
   "file_extension": ".py",
   "mimetype": "text/x-python",
   "name": "python",
   "nbconvert_exporter": "python",
   "pygments_lexer": "ipython3",
   "version": "3.7.11"
  }
 },
 "nbformat": 4,
 "nbformat_minor": 4
}
