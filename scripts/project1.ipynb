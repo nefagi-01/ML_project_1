{
 "cells": [
  {
   "cell_type": "code",
   "execution_count": 1,
   "metadata": {
    "tags": []
   },
   "outputs": [],
   "source": [
    "# Useful starting lines\n",
    "%matplotlib inline\n",
    "import numpy as np\n",
    "import matplotlib.pyplot as plt\n",
    "import collections\n",
    "%load_ext autoreload\n",
    "%autoreload 2"
   ]
  },
  {
   "cell_type": "markdown",
   "metadata": {},
   "source": [
    "## Load the training data into feature matrix, class labels, and event ids:"
   ]
  },
  {
   "cell_type": "code",
   "execution_count": 2,
   "metadata": {
    "collapsed": false,
    "jupyter": {
     "outputs_hidden": false
    }
   },
   "outputs": [],
   "source": [
    "from proj1_helpers import *\n",
    "DATA_TRAIN_PATH = '../data/train.csv'\n",
    "y, tX, ids = load_csv_data(DATA_TRAIN_PATH)"
   ]
  },
  {
   "cell_type": "code",
   "execution_count": 3,
   "metadata": {},
   "outputs": [],
   "source": [
    "from implementations import *"
   ]
  },
  {
   "cell_type": "markdown",
   "metadata": {
    "tags": []
   },
   "source": [
    "## Do your thing crazy machine learning thing here :) ..."
   ]
  },
  {
   "cell_type": "markdown",
   "metadata": {
    "jp-MarkdownHeadingCollapsed": true,
    "tags": []
   },
   "source": [
    "### Testing functions"
   ]
  },
  {
   "cell_type": "code",
   "execution_count": null,
   "metadata": {},
   "outputs": [],
   "source": [
    "#GD\n",
    "initial_w=np.zeros(tX.shape[1])\n",
    "max_iters=50\n",
    "gamma=1e-1\n",
    "w,loss = least_squares_GD(y,tX,initial_w,max_iters,gamma)\n",
    "print(f'w:{w}\\nloss:{loss}')"
   ]
  },
  {
   "cell_type": "code",
   "execution_count": null,
   "metadata": {},
   "outputs": [],
   "source": [
    "#SDG\n",
    "initial_w=np.zeros(tX.shape[1])\n",
    "max_iters=20\n",
    "gamma=1e-4\n",
    "w,loss = least_squares_SGD(y,tX,initial_w,max_iters,gamma)\n",
    "print(f'w:{w}\\nloss:{loss}')"
   ]
  },
  {
   "cell_type": "code",
   "execution_count": null,
   "metadata": {},
   "outputs": [],
   "source": [
    "#LS\n",
    "w,loss = least_squares(y,tX)\n",
    "print(f'w:{w}\\nloss:{loss}')"
   ]
  },
  {
   "cell_type": "code",
   "execution_count": null,
   "metadata": {},
   "outputs": [],
   "source": [
    "#RR\n",
    "lambda_=0.1\n",
    "w,loss = ridge_regression(y,tX,lambda_)\n",
    "print(f'w:{w}\\nloss:{loss}')"
   ]
  },
  {
   "cell_type": "code",
   "execution_count": null,
   "metadata": {},
   "outputs": [],
   "source": [
    "#LR\n",
    "initial_w=np.zeros(tX.shape[1])\n",
    "max_iters=300\n",
    "gamma=1e-9\n",
    "w,loss = logistic_regression(y,tX,initial_w,max_iters,gamma)\n",
    "print(f'w:{w}\\nloss:{loss}')"
   ]
  },
  {
   "cell_type": "code",
   "execution_count": null,
   "metadata": {},
   "outputs": [],
   "source": [
    "#RLR\n",
    "initial_w=np.zeros(tX.shape[1])\n",
    "max_iters=300\n",
    "gamma=1e-9\n",
    "lambda_=0.01\n",
    "w,loss = reg_logistic_regression(y,tX, lambda_, initial_w, max_iters,gamma)\n",
    "print(f'w:{w}\\nloss:{loss}')"
   ]
  },
  {
   "cell_type": "markdown",
   "metadata": {},
   "source": [
    "### Cleaning dataset"
   ]
  },
  {
   "cell_type": "markdown",
   "metadata": {},
   "source": [
    "### Subsample\n"
   ]
  },
  {
   "cell_type": "code",
   "execution_count": 4,
   "metadata": {},
   "outputs": [
    {
     "name": "stdout",
     "output_type": "stream",
     "text": [
      "tX shape:(83334, 30) y shape:(83334,)\n"
     ]
    }
   ],
   "source": [
    "N=3\n",
    "y=y[::N]\n",
    "tX=tX[::N,:]\n",
    "print(f'tX shape:{tX.shape} y shape:{y.shape}')"
   ]
  },
  {
   "cell_type": "markdown",
   "metadata": {},
   "source": [
    "#### Transform [-1,1] into [0,1]"
   ]
  },
  {
   "cell_type": "code",
   "execution_count": 5,
   "metadata": {},
   "outputs": [],
   "source": [
    "#tX[:,:][tX[:,:] == -999] = 0\n",
    "#we could normalize the data ranging from [0,1] since its binary prediction\",\n",
    "y = (y-min(y))/(max(y)-min(y))\n"
   ]
  },
  {
   "cell_type": "markdown",
   "metadata": {},
   "source": [
    "### Split dataset"
   ]
  },
  {
   "cell_type": "code",
   "execution_count": 6,
   "metadata": {},
   "outputs": [
    {
     "name": "stdout",
     "output_type": "stream",
     "text": [
      "tX_0 shape: (33203, 19)\n",
      "y_0 shape: (33203,)\n",
      "tX_1 shape: (25881, 22)\n",
      "y_1 shape: (25881,)\n",
      "tX_2 shape: (16823, 29)\n",
      "y_2 shape: (16823,)\n",
      "tX_3 shape: (7427, 29)\n",
      "y_3 shape: (7427,)\n"
     ]
    }
   ],
   "source": [
    "tX_list,y_list=split_data(tX, y)"
   ]
  },
  {
   "cell_type": "code",
   "execution_count": null,
   "metadata": {},
   "outputs": [],
   "source": [
    "tX_list[0][0,:]"
   ]
  },
  {
   "cell_type": "markdown",
   "metadata": {
    "tags": []
   },
   "source": [
    "### Remove columns containing over 39% of NULL values"
   ]
  },
  {
   "cell_type": "code",
   "execution_count": null,
   "metadata": {},
   "outputs": [],
   "source": [
    "remove_features=[]\n",
    "for i in range(tX.shape[1]):\n",
    "    col=tX[:,i]\n",
    "    total=col.shape[0]\n",
    "    counter_=collections.Counter(col)\n",
    "    nulls=counter_[-999]\n",
    "    null_percentage=round(nulls/total,2)\n",
    "    print(f'NULL percentage is: {null_percentage}')\n",
    "    if null_percentage>0.39:\n",
    "        remove_features.append(i)\n",
    "tX=np.delete(tX,remove_features,1)"
   ]
  },
  {
   "cell_type": "markdown",
   "metadata": {},
   "source": [
    "### Removing outliers"
   ]
  },
  {
   "cell_type": "code",
   "execution_count": null,
   "metadata": {},
   "outputs": [],
   "source": [
    "for j,x in enumerate(tX_list):\n",
    "    k = 1\n",
    "    for i in range(0,x.shape[1]):\n",
    "        q1 = np.percentile(x[:,i],25)\n",
    "        q2 = np.percentile(x[:,i],50)\n",
    "        q3 = np.percentile(x[:,i],75)\n",
    "        tX_list[j][:,i][(x[:,i] < q1 - k*(q3-q1))] = q2\n",
    "        tX_list[j][:,i][(x[:,i] > q3 + k*(q3-q1))] = q2"
   ]
  },
  {
   "cell_type": "markdown",
   "metadata": {},
   "source": [
    "### Normalization of features\n"
   ]
  },
  {
   "cell_type": "code",
   "execution_count": null,
   "metadata": {},
   "outputs": [],
   "source": [
    "for i,x in enumerate(tX_list):\n",
    "    tX_list[i] = standardize(x)\n"
   ]
  },
  {
   "cell_type": "code",
   "execution_count": null,
   "metadata": {},
   "outputs": [],
   "source": [
    "tX_list[3][0,:]"
   ]
  },
  {
   "cell_type": "markdown",
   "metadata": {
    "jp-MarkdownHeadingCollapsed": true,
    "tags": []
   },
   "source": [
    "### Remove less influent features"
   ]
  },
  {
   "cell_type": "code",
   "execution_count": null,
   "metadata": {},
   "outputs": [],
   "source": [
    "#Apply least squares\n",
    "threshold=1e-3\n",
    "w,loss = least_squares(y,tX)\n",
    "print(f'w:{w}\\nloss:{loss}')\n",
    "print(f'w:{w}\\n\\tshape:{w.shape}')\n",
    "w=w[np.abs(w)>=threshold]\n",
    "print(f'w:{w}\\n\\tshape:{w.shape}')\n"
   ]
  },
  {
   "cell_type": "markdown",
   "metadata": {
    "jp-MarkdownHeadingCollapsed": true,
    "tags": []
   },
   "source": [
    "### Logistic Cross Validation - Searching best Degree"
   ]
  },
  {
   "cell_type": "code",
   "execution_count": 7,
   "metadata": {},
   "outputs": [
    {
     "name": "stdout",
     "output_type": "stream",
     "text": [
      "0\n",
      "1\n",
      "2\n",
      "tX_0 Best degree logistic: 2, best gamma logistic:2.782559402207126e-06, interaction:True\n",
      "0\n",
      "1\n",
      "2\n",
      "tX_1 Best degree logistic: 2, best gamma logistic:2.782559402207126e-06, interaction:True\n",
      "0\n",
      "1\n",
      "2\n",
      "tX_2 Best degree logistic: 1, best gamma logistic:3.5938136638046256e-05, interaction:True\n",
      "0\n",
      "1\n",
      "2\n",
      "tX_3 Best degree logistic: 2, best gamma logistic:3.5938136638046256e-05, interaction:True\n"
     ]
    }
   ],
   "source": [
    "degrees=np.arange(3)\n",
    "k_fold=4\n",
    "max_iters=100\n",
    "gammas=np.logspace(-10,0,10)\n",
    "interactions=[False,True]\n",
    "tX_results_list_logistic=[]\n",
    "for h,x in enumerate(tX_list):\n",
    "    loss_tr_list=np.zeros((len(degrees),len(gammas),len(interactions)))\n",
    "    loss_te_list=np.zeros((len(degrees),len(gammas),len(interactions)))\n",
    "    for i,D in enumerate(degrees):\n",
    "        print(i)\n",
    "        for k,interaction in enumerate(interactions):\n",
    "            phi_x=build_poly(x, D, interaction)\n",
    "            for j,gamma in enumerate(gammas):\n",
    "                #compute loss with cross-validation\n",
    "                loss_tr, loss_te=apply_cross_validation_logistic(y_list[h],phi_x,k_fold,max_iters,gamma,1)\n",
    "                loss_tr_list[i,j,k]=loss_tr\n",
    "                loss_te_list[i,j,k]=loss_te\n",
    "    D_best_index, gamma_best_index, interaction_index=np.unravel_index(np.argmin(loss_te_list),loss_te_list.shape)\n",
    "    gamma_best=gammas[gamma_best_index]\n",
    "    D_best_logistic=degrees[D_best_index]\n",
    "    interaction_logistic=interactions[interaction_index]\n",
    "    print(f'tX_{h} Best degree logistic: {D_best_logistic}, best gamma logistic:{gamma_best}, interaction:{interaction_logistic}')\n",
    "    tX_results_list_logistic.append({'D_best':D_best_logistic,'gamma_best':gamma_best,'interaction':interaction_logistic})"
   ]
  },
  {
   "cell_type": "markdown",
   "metadata": {},
   "source": [
    "### Cross Validation Ridge Regression - Best Degree"
   ]
  },
  {
   "cell_type": "code",
   "execution_count": 8,
   "metadata": {},
   "outputs": [
    {
     "name": "stdout",
     "output_type": "stream",
     "text": [
      "Degree:0\n",
      "Degree:1\n",
      "Degree:2\n",
      "tX_0 Best degree ridge:2, best lambda_ ridge:3.5938136638046256e-05, interactions: True\n",
      "Degree:0\n",
      "Degree:1\n",
      "Degree:2\n",
      "tX_1 Best degree ridge:2, best lambda_ ridge:0.0004641588833612782, interactions: True\n",
      "Degree:0\n",
      "Degree:1\n",
      "Degree:2\n",
      "tX_2 Best degree ridge:2, best lambda_ ridge:0.0004641588833612782, interactions: True\n",
      "Degree:0\n",
      "Degree:1\n",
      "Degree:2\n",
      "tX_3 Best degree ridge:2, best lambda_ ridge:0.07742636826811278, interactions: True\n"
     ]
    }
   ],
   "source": [
    "degrees=np.arange(3)\n",
    "lambdas=np.logspace(-10,0,10)\n",
    "k_fold=4\n",
    "interactions=[False,True]\n",
    "tX_results_list_ridge=[]\n",
    "for h,x in enumerate(tX_list):\n",
    "    rmse_tr_list=np.zeros((len(degrees),len(lambdas),len(interactions)))\n",
    "    rmse_te_list=np.zeros((len(degrees),len(lambdas),len(interactions)))\n",
    "    for i,D in enumerate(degrees):\n",
    "        print(f'Degree:{D}')\n",
    "        for k,interaction in enumerate(interactions):\n",
    "            phi_x=build_poly(x, D, interaction)\n",
    "            for j,lambda_ in enumerate(lambdas):\n",
    "                #compute loss with cross-validation\n",
    "                rmse_tr, rmse_te=apply_cross_validation(y_list[h],phi_x,k_fold,D,lambda_,1)\n",
    "                rmse_tr_list[i,j,k]=rmse_tr\n",
    "                rmse_te_list[i,j,k]=rmse_te\n",
    "    D_best_index,lambda_best_index,interaction_index=np.unravel_index(np.argmin(rmse_te_list),rmse_te_list.shape)\n",
    "    D_best_ridge=degrees[D_best_index]\n",
    "    lambda_best_ridge=lambdas[lambda_best_index]\n",
    "    interaction_ridge=interactions[interaction_index]\n",
    "    print(f'tX_{h} Best degree ridge:{D_best_ridge}, best lambda_ ridge:{lambda_best_ridge}, interactions: {interaction_ridge}')\n",
    "    tX_results_list_ridge.append({'D_best':D_best_ridge,'lambda_best':lambda_best_ridge,'interaction':interaction_ridge})"
   ]
  },
  {
   "cell_type": "markdown",
   "metadata": {},
   "source": [
    "### Testing accuracy (ridge-regression vs logistic)"
   ]
  },
  {
   "cell_type": "code",
   "execution_count": 9,
   "metadata": {},
   "outputs": [
    {
     "name": "stdout",
     "output_type": "stream",
     "text": [
      "tX_0 -- Accuracy ridge:0.8383880974610728 Accuracy logistic:0.8376652712104328\n",
      "tX_1 -- Accuracy ridge:0.8036783740968277 Accuracy logistic:0.7983076388083923\n",
      "tX_2 -- Accuracy ridge:0.8403970754324437 Accuracy logistic:0.8301135350413125\n",
      "tX_3 -- Accuracy ridge:0.8388312912346843 Accuracy logistic:0.8490642251245456\n"
     ]
    }
   ],
   "source": [
    "weights_ridge=[]\n",
    "weights_logistic=[]\n",
    "for i,x in enumerate(tX_list):\n",
    "    D_best_ridge=tX_results_list_ridge[i]['D_best']\n",
    "    interaction_ridge=tX_results_list_ridge[i]['interaction']\n",
    "    lambda_best_ridge=tX_results_list_ridge[i]['lambda_best']\n",
    "\n",
    "    D_best_logistic=tX_results_list_logistic[i]['D_best']\n",
    "    interaction_logistic=tX_results_list_logistic[i]['interaction']\n",
    "    gamma_best=tX_results_list_logistic[i]['gamma_best']\n",
    "    #Re-transform y data\n",
    "    y_act=y_list[i]*2-1\n",
    "    #Ridge\n",
    "    phi_x_ridge=build_poly(x,D_best_ridge,interaction_ridge)\n",
    "    w_ridge,_=ridge_regression(y_list[i],phi_x_ridge,lambda_best_ridge)\n",
    "    weights_ridge.append(w_ridge)\n",
    "    y_pred_ridge=predict_labels(w_ridge,phi_x_ridge)\n",
    "    accuracy_ridge=accuracy(y_pred_ridge,y_act)\n",
    "    #Logistic\n",
    "    phi_x_logistic=build_poly(x, D_best_logistic, interaction_logistic)\n",
    "    w_initial=np.zeros(phi_x_logistic.shape[1])\n",
    "    max_iters=100\n",
    "    w_logistic,loss_logistic=logistic_regression(y_list[i],phi_x_logistic,w_initial,max_iters,gamma_best)\n",
    "    weights_logistic.append(w_logistic)\n",
    "    y_pred_logistic=predict_labels(w_logistic,phi_x_logistic,logistic=True)\n",
    "    accuracy_logistic=accuracy(y_pred_logistic,y_act)\n",
    "    print(f'tX_{i} -- Accuracy ridge:{accuracy_ridge} Accuracy logistic:{accuracy_logistic}')"
   ]
  },
  {
   "cell_type": "markdown",
   "metadata": {
    "jp-MarkdownHeadingCollapsed": true,
    "tags": []
   },
   "source": [
    "## Generate predictions and save ouput in csv format for submission:"
   ]
  },
  {
   "cell_type": "code",
   "execution_count": 10,
   "metadata": {
    "collapsed": false,
    "jupyter": {
     "outputs_hidden": false
    }
   },
   "outputs": [],
   "source": [
    "DATA_TEST_PATH = '../data/test.csv'\n",
    "_, tX_test, ids_test = load_csv_data(DATA_TEST_PATH)\n"
   ]
  },
  {
   "cell_type": "code",
   "execution_count": 11,
   "metadata": {},
   "outputs": [
    {
     "name": "stdout",
     "output_type": "stream",
     "text": [
      "tX_0 shape: (227458, 19)\n",
      "tX_1 shape: (175338, 22)\n",
      "tX_2 shape: (114648, 29)\n",
      "tX_3 shape: (50794, 29)\n"
     ]
    }
   ],
   "source": [
    "#dummy predict for obtaining y\n",
    "w_dummy=np.zeros(tX_test.shape[1])\n",
    "y_pred=predict_labels(w_dummy,tX_test)\n",
    "tX_test_list,_=split_data(tX_test,y_pred,ignore_y=True)"
   ]
  },
  {
   "cell_type": "code",
   "execution_count": 12,
   "metadata": {
    "collapsed": false,
    "jupyter": {
     "outputs_hidden": false
    }
   },
   "outputs": [],
   "source": [
    "for i,x in enumerate(tX_results_list_ridge):\n",
    "    D_best_ridge=tX_results_list_ridge[i]['D_best']\n",
    "    interaction_ridge=tX_results_list_ridge[i]['interaction']\n",
    "    lambda_best_ridge=tX_results_list_ridge[i]['lambda_best']\n",
    "\n",
    "    tX_test_ridge=build_poly(tX_test_list[i],D_best_ridge,interaction_ridge)\n",
    "    weights=weights_ridge[i]\n",
    "    y_pred[tX_test[:,22]==i] = predict_labels(weights, tX_test_ridge)\n",
    "\n",
    "OUTPUT_PATH = 'output_ridge.csv' # TODO: fill in desired name of output file for submission\n",
    "create_csv_submission(ids_test, y_pred, OUTPUT_PATH)"
   ]
  },
  {
   "cell_type": "code",
   "execution_count": null,
   "metadata": {},
   "outputs": [],
   "source": [
    "for i,x in enumerate(tX_results_list_logistic):\n",
    "    D_best_logistic=tX_results_list_logistic[i]['D_best']\n",
    "    interaction_logistic=tX_results_list_logistic[i]['interaction']\n",
    "    gamma_best=tX_results_list_logistic[i]['gamma_best']\n",
    "\n",
    "    tX_test_logistic=build_poly(tX_test_list[i],D_best_logistic,interaction_logistic)\n",
    "    weights=weights_logistic[i]\n",
    "    y_pred[tX_test[:,22]==i]=predict_labels(weights,tX_test_logistic, logistic=True)\n",
    "    \n",
    "OUTPUT_PATH = 'output_logistic.csv' # TODO: fill in desired name of output file for submission\n",
    "create_csv_submission(ids_test, y_pred, OUTPUT_PATH)"
   ]
  },
  {
   "cell_type": "code",
   "execution_count": null,
   "metadata": {},
   "outputs": [],
   "source": []
  },
  {
   "cell_type": "code",
   "execution_count": null,
   "metadata": {},
   "outputs": [],
   "source": []
  }
 ],
 "metadata": {
  "anaconda-cloud": {},
  "interpreter": {
   "hash": "769d560f7a9260275cfba8eac8dfb7a8ebd643a4b3237d9fce15021d62ac6fd5"
  },
  "kernelspec": {
   "display_name": "Python 3.8.8 64-bit ('base': conda)",
   "name": "python3"
  },
  "language_info": {
   "codemirror_mode": {
    "name": "ipython",
    "version": 3
   },
   "file_extension": ".py",
   "mimetype": "text/x-python",
   "name": "python",
   "nbconvert_exporter": "python",
   "pygments_lexer": "ipython3",
   "version": "3.8.8"
  }
 },
 "nbformat": 4,
 "nbformat_minor": 4
}
