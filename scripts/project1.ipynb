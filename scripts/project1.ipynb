{
 "cells": [
  {
   "cell_type": "code",
   "execution_count": 63,
   "metadata": {
    "tags": []
   },
   "outputs": [
    {
     "name": "stdout",
     "output_type": "stream",
     "text": [
      "The autoreload extension is already loaded. To reload it, use:\n",
      "  %reload_ext autoreload\n"
     ]
    }
   ],
   "source": [
    "# Useful starting lines\n",
    "%matplotlib inline\n",
    "import numpy as np\n",
    "import matplotlib.pyplot as plt\n",
    "import collections\n",
    "%load_ext autoreload\n",
    "%autoreload 2"
   ]
  },
  {
   "cell_type": "code",
   "execution_count": null,
   "metadata": {},
   "outputs": [],
   "source": []
  },
  {
   "cell_type": "markdown",
   "metadata": {},
   "source": [
    "## Load the training data into feature matrix, class labels, and event ids:"
   ]
  },
  {
   "cell_type": "code",
   "execution_count": 64,
   "metadata": {
    "collapsed": false,
    "jupyter": {
     "outputs_hidden": false
    }
   },
   "outputs": [],
   "source": [
    "from proj1_helpers import *\n",
    "DATA_TRAIN_PATH = '../data/train.csv'\n",
    "y, tX, ids = load_csv_data(DATA_TRAIN_PATH)"
   ]
  },
  {
   "cell_type": "code",
   "execution_count": 65,
   "metadata": {},
   "outputs": [],
   "source": [
    "from implementations import *"
   ]
  },
  {
   "cell_type": "markdown",
   "metadata": {
    "jp-MarkdownHeadingCollapsed": true,
    "tags": []
   },
   "source": [
    "## Do your thing crazy machine learning thing here :) ..."
   ]
  },
  {
   "cell_type": "markdown",
   "metadata": {},
   "source": [
    "### Testing functions"
   ]
  },
  {
   "cell_type": "code",
   "execution_count": 66,
   "metadata": {},
   "outputs": [
    {
     "name": "stdout",
     "output_type": "stream",
     "text": [
      "w:[-4.54923076e+282  2.28877997e+282  3.44914262e+282  1.32768179e+282\n",
      " -4.28465514e+283 -4.35313371e+283 -4.28400596e+283  1.07251294e+281\n",
      "  6.14903484e+281  4.19957674e+282  5.93063550e+280 -2.10909762e+280\n",
      " -4.28437769e+283  1.49000734e+282 -6.83515162e+278 -5.32642641e+278\n",
      "  1.84170287e+282 -1.27975893e+279  1.82888164e+279  1.43856554e+282\n",
      " -7.48343795e+278  6.33994079e+282  1.42853297e+280 -2.56196364e+283\n",
      " -2.65631526e+283 -2.65633841e+283 -4.29028832e+283 -4.28431938e+283\n",
      " -4.28432022e+283  8.67866511e+281]\n",
      "loss:inf\n"
     ]
    }
   ],
   "source": [
    "#GD\n",
    "initial_w=np.zeros(tX.shape[1])\n",
    "max_iters=50\n",
    "gamma=1e-1\n",
    "w,loss = least_squares_GD(y,tX,initial_w,max_iters,gamma)\n",
    "print(f'w:{w}\\nloss:{loss}')"
   ]
  },
  {
   "cell_type": "code",
   "execution_count": 67,
   "metadata": {},
   "outputs": [
    {
     "name": "stdout",
     "output_type": "stream",
     "text": [
      "w:[ 1.46183656e+44  1.24827887e+44  1.21848164e+44  3.71262738e+43\n",
      " -1.56920987e+45 -1.56922425e+45 -1.56920975e+45  3.60176358e+42\n",
      "  3.71285549e+43  1.19833860e+44  2.21430460e+42 -1.80012948e+42\n",
      " -1.56920983e+45  4.97367079e+43  1.07920608e+42  5.58293804e+41\n",
      "  7.00982694e+43  2.86723266e+42 -2.57934380e+42  5.59033257e+43\n",
      "  2.61107881e+42  2.64514583e+44 -3.11584980e+37 -1.56921109e+45\n",
      " -1.56920978e+45 -1.56920982e+45 -1.56921081e+45 -1.56920985e+45\n",
      " -1.56920983e+45 -2.68855344e+39]\n",
      "loss:1.2361401739286464e+92\n"
     ]
    }
   ],
   "source": [
    "#SDG\n",
    "initial_w=np.zeros(tX.shape[1])\n",
    "max_iters=20\n",
    "gamma=1e-4\n",
    "w,loss = least_squares_SGD(y,tX,initial_w,max_iters,gamma)\n",
    "print(f'w:{w}\\nloss:{loss}')"
   ]
  },
  {
   "cell_type": "code",
   "execution_count": 68,
   "metadata": {},
   "outputs": [
    {
     "name": "stdout",
     "output_type": "stream",
     "text": [
      "w:[ 8.03494312e-05 -7.20202273e-03 -6.05417273e-03 -5.47559065e-04\n",
      " -1.93874700e-02  4.73451621e-04 -2.60379054e-02  3.25106300e-01\n",
      " -3.80780281e-05 -2.72725003e+00 -2.21220140e-01  9.50794091e-02\n",
      "  6.40351613e-02  2.73550971e+00 -3.31801241e-04 -9.54325119e-04\n",
      "  2.74026646e+00 -5.34164892e-04  9.73498582e-04  3.69225052e-03\n",
      "  3.54487449e-04 -5.43344598e-04 -3.30448035e-01 -1.40800498e-03\n",
      "  8.31432887e-04  1.02117272e-03 -1.68047416e-03 -5.83664817e-03\n",
      " -1.11087997e-02  2.72770997e+00]\n",
      "loss:0.33968680947709307\n"
     ]
    }
   ],
   "source": [
    "#LS\n",
    "w,loss = least_squares(y,tX)\n",
    "print(f'w:{w}\\nloss:{loss}')"
   ]
  },
  {
   "cell_type": "code",
   "execution_count": 69,
   "metadata": {},
   "outputs": [
    {
     "name": "stdout",
     "output_type": "stream",
     "text": [
      "w:[ 8.03357874e-05 -7.20229357e-03 -6.05414322e-03 -5.47524708e-04\n",
      " -1.93892567e-02  4.73474160e-04 -2.60360866e-02  3.25109901e-01\n",
      " -3.81780647e-05 -4.25488847e-01 -2.21215574e-01  9.50773063e-02\n",
      "  6.40334364e-02  4.33748519e-01 -3.32367323e-04 -9.54270952e-04\n",
      "  4.38505213e-01 -5.32787121e-04  9.72271361e-04  3.69233071e-03\n",
      "  3.55493260e-04 -5.43272790e-04 -3.30447361e-01 -1.40802204e-03\n",
      "  8.31788674e-04  1.02083858e-03 -1.68036824e-03 -5.83753485e-03\n",
      " -1.11063383e-02  4.25948612e-01]\n",
      "loss:0.3396876032273416\n"
     ]
    }
   ],
   "source": [
    "#RR\n",
    "lambda_=0.1\n",
    "w,loss = ridge_regression(y,tX,lambda_)\n",
    "print(f'w:{w}\\nloss:{loss}')"
   ]
  },
  {
   "cell_type": "code",
   "execution_count": 70,
   "metadata": {},
   "outputs": [
    {
     "name": "stdout",
     "output_type": "stream",
     "text": [
      "w:[ 6.52327568e+00 -2.51719116e+00 -3.04656915e+00 -1.95857136e+00\n",
      "  2.13455271e+01  1.61360538e+01  2.13909532e+01 -8.43372250e-02\n",
      " -8.14310085e-01 -6.36342267e+00 -6.56042370e-02  1.70165825e-02\n",
      "  2.13766411e+01 -1.15067443e+00  2.11707940e-04 -2.08867554e-04\n",
      " -1.84395107e+00  6.35723274e-04 -9.80819194e-04 -1.68288632e+00\n",
      "  1.14431941e-03 -8.24124750e+00 -4.50590350e-02  1.27086850e+01\n",
      "  1.47138710e+01  1.47140174e+01  2.03951076e+01  2.13832539e+01\n",
      "  2.13827966e+01 -3.36879710e+00]\n",
      "loss:nan\n"
     ]
    }
   ],
   "source": [
    "#LR\n",
    "initial_w=np.zeros(tX.shape[1])\n",
    "max_iters=300\n",
    "gamma=1e-9\n",
    "w,loss = logistic_regression(y,tX,initial_w,max_iters,gamma)\n",
    "print(f'w:{w}\\nloss:{loss}')"
   ]
  },
  {
   "cell_type": "code",
   "execution_count": 71,
   "metadata": {},
   "outputs": [
    {
     "name": "stdout",
     "output_type": "stream",
     "text": [
      "w:[ 6.52327566e+00 -2.51719115e+00 -3.04656914e+00 -1.95857136e+00\n",
      "  2.13455270e+01  1.61360537e+01  2.13909531e+01 -8.43372248e-02\n",
      " -8.14310083e-01 -6.36342265e+00 -6.56042368e-02  1.70165824e-02\n",
      "  2.13766410e+01 -1.15067443e+00  2.11707939e-04 -2.08867554e-04\n",
      " -1.84395107e+00  6.35723272e-04 -9.80819191e-04 -1.68288632e+00\n",
      "  1.14431941e-03 -8.24124748e+00 -4.50590349e-02  1.27086849e+01\n",
      "  1.47138710e+01  1.47140174e+01  2.03951075e+01  2.13832539e+01\n",
      "  2.13827965e+01 -3.36879709e+00]\n",
      "loss:nan\n"
     ]
    }
   ],
   "source": [
    "#RLR\n",
    "initial_w=np.zeros(tX.shape[1])\n",
    "max_iters=300\n",
    "gamma=1e-9\n",
    "lambda_=0.01\n",
    "w,loss = reg_logistic_regression(y,tX, lambda_, initial_w, max_iters,gamma)\n",
    "print(f'w:{w}\\nloss:{loss}')"
   ]
  },
  {
   "cell_type": "markdown",
   "metadata": {},
   "source": [
    "### Cleaning dataset"
   ]
  },
  {
   "cell_type": "markdown",
   "metadata": {},
   "source": [
    "#### Transform [-1,1] into [0,1]"
   ]
  },
  {
   "cell_type": "code",
   "execution_count": 72,
   "metadata": {},
   "outputs": [],
   "source": [
    "#tX[:,:][tX[:,:] == -999] = 0\n",
    "#we could normalize the data ranging from [0,1] since its binary prediction\",\n",
    "y = (y-min(y))/(max(y)-min(y))\n"
   ]
  },
  {
   "cell_type": "markdown",
   "metadata": {},
   "source": [
    "### Remove columns containing over 50% of NULL values"
   ]
  },
  {
   "cell_type": "code",
   "execution_count": 73,
   "metadata": {},
   "outputs": [
    {
     "data": {
      "text/plain": [
       "\"remove_features=[]\\nfor i in range(tX.shape[1]):\\n    col=tX[:,i]\\n    total=col.shape[0]\\n    counter_=collections.Counter(col)\\n    nulls=counter_[-999]\\n    null_percentage=round(nulls/total,2)\\n    print(f'NULL percentage is: {null_percentage}')\\n    if null_percentage>0.5:\\n        remove_features.append(i)\\ntX=np.delete(tX,remove_features,1)\""
      ]
     },
     "execution_count": 73,
     "metadata": {},
     "output_type": "execute_result"
    }
   ],
   "source": [
    "\"\"\"remove_features=[]\n",
    "for i in range(tX.shape[1]):\n",
    "    col=tX[:,i]\n",
    "    total=col.shape[0]\n",
    "    counter_=collections.Counter(col)\n",
    "    nulls=counter_[-999]\n",
    "    null_percentage=round(nulls/total,2)\n",
    "    print(f'NULL percentage is: {null_percentage}')\n",
    "    if null_percentage>0.5:\n",
    "        remove_features.append(i)\n",
    "tX=np.delete(tX,remove_features,1)\"\"\""
   ]
  },
  {
   "cell_type": "code",
   "execution_count": 74,
   "metadata": {},
   "outputs": [
    {
     "data": {
      "text/plain": [
       "\"remove_features=[]\\nfor i in range(tX.shape[1]):\\n    col=tX[:,i]\\n    total=col.shape[0]\\n    counter_=collections.Counter(col)\\n    nulls=counter_[-999]\\n    null_percentage=round(nulls/total,2)\\n    print(f'NULL percentage is: {null_percentage}')\\n    if null_percentage>0.5:\\n        remove_features.append(i)\\ntX=np.delete(tX,remove_features,1)\""
      ]
     },
     "execution_count": 74,
     "metadata": {},
     "output_type": "execute_result"
    }
   ],
   "source": [
    "\"\"\"remove_features=[]\n",
    "for i in range(tX.shape[1]):\n",
    "    col=tX[:,i]\n",
    "    total=col.shape[0]\n",
    "    counter_=collections.Counter(col)\n",
    "    nulls=counter_[-999]\n",
    "    null_percentage=round(nulls/total,2)\n",
    "    print(f'NULL percentage is: {null_percentage}')\n",
    "    if null_percentage>0.5:\n",
    "        remove_features.append(i)\n",
    "tX=np.delete(tX,remove_features,1)\"\"\""
   ]
  },
  {
   "cell_type": "markdown",
   "metadata": {
    "tags": []
   },
   "source": [
    "### Split train set into three sets according to category of jet_num (lot of column depend on this column so splitting will ensure better accuracy!!="
   ]
  },
  {
   "cell_type": "code",
   "execution_count": 75,
   "metadata": {},
   "outputs": [
    {
     "name": "stdout",
     "output_type": "stream",
     "text": [
      "(99913, 30)\n",
      "(77544, 30)\n",
      "(22164, 30)\n"
     ]
    }
   ],
   "source": [
    "tX_0 = tX[:,:][(tX[:,22] == 0)]\n",
    "print(tX_0.shape)\n",
    "tX_1 = tX[:,:][(tX[:,22] == 1)]\n",
    "print(tX_1.shape)\n",
    "tX_2 = tX[:,:][(tX[:,22] >= 2)]\n",
    "print(tX_3.shape)\n",
    "splitted_dataset = [tX_0,tX_1,tX_2,tX_3]"
   ]
  },
  {
   "cell_type": "markdown",
   "metadata": {},
   "source": [
    "### Removing outliers (for all 4 datasets)"
   ]
  },
  {
   "cell_type": "code",
   "execution_count": 76,
   "metadata": {},
   "outputs": [],
   "source": [
    "q1 = []\n",
    "q2 = []\n",
    "k = 1\n",
    "for dataset in splitted_dataset:\n",
    "    for i in range(0,dataset.shape[1]):\n",
    "        q1 = np.percentile(dataset[:,i],25)\n",
    "        mean = np.mean(dataset[:,i])\n",
    "        q3 = np.percentile(dataset[:,i],75)\n",
    "        dataset[:,i][(dataset[:,i] < q1 - k*(q3-q1))] = mean\n",
    "        dataset[:,i][(dataset[:,i] > q3 + k*(q3-q1))] = mean"
   ]
  },
  {
   "cell_type": "markdown",
   "metadata": {},
   "source": [
    "### Normalization of features\n"
   ]
  },
  {
   "cell_type": "code",
   "execution_count": 77,
   "metadata": {},
   "outputs": [
    {
     "name": "stdout",
     "output_type": "stream",
     "text": [
      "[[ 160.937        68.768       103.235      ... -999.\n",
      "  -999.           46.226     ]\n",
      " [  12.84574404   46.05359999   82.21903267 ... -999.\n",
      "  -999.           44.251     ]\n",
      " [ 154.916        10.418        94.714      ... -999.\n",
      "  -999.           30.638     ]\n",
      " ...\n",
      " [  12.84574404   78.256        79.699      ... -999.\n",
      "  -999.           78.984     ]\n",
      " [ 133.457        77.54         88.989      ... -999.\n",
      "  -999.           70.969     ]\n",
      " [ 105.457        60.526        75.839      ... -999.\n",
      "  -999.           41.992     ]]\n",
      "[4.94019801e+02 2.87160884e+01 1.96201988e+01 1.18620575e+01\n",
      " 0.00000000e+00 0.00000000e+00 0.00000000e+00 4.39011056e-01\n",
      " 1.18620576e+01 1.39903827e+01 4.73140841e-01 1.98615037e-01\n",
      " 0.00000000e+00 8.87296053e+00 1.23342423e+00 1.81734217e+00\n",
      " 9.74265867e+00 1.31084863e+00 1.81783473e+00 1.48525355e+01\n",
      " 1.81099743e+00 4.29839994e+01 0.00000000e+00 0.00000000e+00\n",
      " 0.00000000e+00 0.00000000e+00 0.00000000e+00 0.00000000e+00\n",
      " 0.00000000e+00 0.00000000e+00]\n",
      "[45.75243948 30.44778004 19.21592245 23.83816794  0.          0.\n",
      "  0.          0.62220078 12.73219425 31.55873386  0.54551554  1.1063327\n",
      "  0.         10.99717886  1.21818737  1.81444814 11.91369327  1.26220634\n",
      "  1.8154439  17.28207694  1.81192526 56.27808352  0.         19.38172467\n",
      "  1.77622317  1.81751683  0.          0.          0.         19.38172494]\n",
      "[ 30.40615025  26.21765724  19.02066818  50.87443651   1.65700095\n",
      " 190.78096394   2.14323747   0.73244204  18.94403578  77.132908\n",
      "   0.62153837   0.75296635   0.39867861  14.67468983   1.18221374\n",
      "   1.81837922  15.23342715   1.20101053   1.8161594   26.14240112\n",
      "   1.81406907  92.62083579   0.46063118  38.32382144   1.71954077\n",
      "   1.808942    15.73888765   2.0317286    1.8169372   63.16642708]\n",
      "[1.16322574e+00 1.72423317e+01 9.14511297e-01 3.52134663e+01\n",
      " 7.99756519e-01 8.25546064e+01 1.64536649e-02 7.25908600e-01\n",
      " 1.37957664e+01 7.27690495e+01 7.52084517e-02 4.33979818e-01\n",
      " 3.87627049e-01 8.83164719e-01 1.20470959e+00 1.82411340e+00\n",
      " 1.04975039e+00 1.21765619e+00 1.81806005e+00 2.56655230e+00\n",
      " 1.81234158e+00 7.82553080e+01 0.00000000e+00 3.24945180e+01\n",
      " 1.51127486e+00 1.80673322e+00 1.55994511e+01 1.72056258e+00\n",
      " 1.81474060e+00 6.64353037e+01]\n"
     ]
    }
   ],
   "source": [
    "#tX,_,_ = standardize(tX)\n",
    "    \n",
    "###for all datasets\n",
    "for dataset in splitted_dataset:\n",
    "    dataset,_,_ = standardize(dataset)"
   ]
  },
  {
   "cell_type": "markdown",
   "metadata": {
    "tags": []
   },
   "source": [
    "### Remove less influent features"
   ]
  },
  {
   "cell_type": "code",
   "execution_count": 15,
   "metadata": {},
   "outputs": [
    {
     "name": "stdout",
     "output_type": "stream",
     "text": [
      "[ 5  4 28  1  3]\n",
      "[ 5  4 28  1  3]\n",
      "[ 5  4 28  1  3]\n"
     ]
    }
   ],
   "source": [
    "arr=np.array([5,4,28,1,3])\n",
    "arr.argsort()[:3]\n",
    "arr[arr<=3]"
   ]
  },
  {
   "cell_type": "code",
   "execution_count": 59,
   "metadata": {},
   "outputs": [
    {
     "name": "stdout",
     "output_type": "stream",
     "text": [
      "w:[ 1.16975242e-01 -1.38150093e-01  3.99292663e-02 -1.40284132e-02\n",
      " -3.11943953e-02 -1.95051690e-02  2.73461699e-03 -3.06395624e-02\n",
      "  5.08073509e-02  3.30298815e-02 -1.09746816e-03 -7.30123610e-04\n",
      " -6.91177499e-03 -4.81678407e-04  1.61056629e-03 -7.18376228e-03\n",
      "  1.36619527e-04  8.37007020e-03 -3.31878295e-02  6.62202272e-02\n",
      " -4.58988756e-02 -2.22432239e-02  3.71830081e-02]\n",
      "loss:0.13944857218343729\n",
      "w:[ 1.16975242e-01 -1.38150093e-01  3.99292663e-02 -1.40284132e-02\n",
      " -3.11943953e-02 -1.95051690e-02  2.73461699e-03 -3.06395624e-02\n",
      "  5.08073509e-02  3.30298815e-02 -1.09746816e-03 -7.30123610e-04\n",
      " -6.91177499e-03 -4.81678407e-04  1.61056629e-03 -7.18376228e-03\n",
      "  1.36619527e-04  8.37007020e-03 -3.31878295e-02  6.62202272e-02\n",
      " -4.58988756e-02 -2.22432239e-02  3.71830081e-02]\n",
      "\tshape:(23,)\n",
      "w:[ 0.11697524 -0.13815009  0.03992927 -0.01402841 -0.0311944  -0.01950517\n",
      "  0.00273462 -0.03063956  0.05080735  0.03302988 -0.00109747 -0.00691177\n",
      "  0.00161057 -0.00718376  0.00837007 -0.03318783  0.06622023 -0.04589888\n",
      " -0.02224322  0.03718301]\n",
      "\tshape:(20,)\n"
     ]
    }
   ],
   "source": [
    "#Apply least squares\n",
    "threshold=1e-3\n",
    "w,loss = least_squares(y,tX)\n",
    "print(f'w:{w}\\nloss:{loss}')\n",
    "print(f'w:{w}\\n\\tshape:{w.shape}')\n",
    "w=w[np.abs(w)>=threshold]\n",
    "print(f'w:{w}\\n\\tshape:{w.shape}')\n"
   ]
  },
  {
   "cell_type": "markdown",
   "metadata": {},
   "source": [
    "### Logistic Cross Validation - Searching best Degree"
   ]
  },
  {
   "cell_type": "code",
   "execution_count": 15,
   "metadata": {},
   "outputs": [
    {
     "name": "stdout",
     "output_type": "stream",
     "text": [
      "[0.5946081976956543, 0.57258475274175, 0.769664518409219, 0.7800454783380737, 1.1340303010250576, 1.3728935014020909]\n"
     ]
    }
   ],
   "source": [
    "degrees=np.arange(6)\n",
    "k_fold=5\n",
    "max_iters=50\n",
    "gamma=1e-8\n",
    "rmse_tr_list=[]\n",
    "rmse_te_list=[]\n",
    "for D in degrees:\n",
    "    #compute loss with cross-validation\n",
    "    rmse_tr, rmse_te=apply_cross_validation_logistic(y,tX,k_fold,D,max_iters,gamma,1)\n",
    "    rmse_tr_list.append(rmse_tr)\n",
    "    rmse_te_list.append(rmse_te)\n",
    "print(rmse_te_list)\n",
    "D_best_index=degrees[np.argmin(np.array(rmse_te_list))]\n",
    "D_best=degrees[D_best_index]\n",
    "    "
   ]
  },
  {
   "cell_type": "code",
   "execution_count": 16,
   "metadata": {},
   "outputs": [
    {
     "data": {
      "text/plain": [
       "1"
      ]
     },
     "execution_count": 16,
     "metadata": {},
     "output_type": "execute_result"
    }
   ],
   "source": [
    "D_best"
   ]
  },
  {
   "cell_type": "markdown",
   "metadata": {},
   "source": [
    "### Cross Validation Ridge Regression - Best Degree"
   ]
  },
  {
   "cell_type": "code",
   "execution_count": 60,
   "metadata": {},
   "outputs": [
    {
     "name": "stdout",
     "output_type": "stream",
     "text": [
      "degree:5 lambda_:0.0001\n"
     ]
    }
   ],
   "source": [
    "degrees=np.arange(6)\n",
    "lambdas=np.logspace(-6,0,10)\n",
    "k_fold=10\n",
    "rmse_tr_list=np.zeros((len(degrees),len(lambdas)))\n",
    "rmse_te_list=np.zeros((len(degrees),len(lambdas)))\n",
    "for i,D in enumerate(degrees):\n",
    "    for j,lambda_ in enumerate(lambdas):\n",
    "        #compute loss with cross-validation\n",
    "        rmse_tr, rmse_te=apply_cross_validation(y,tX,k_fold,D,lambda_,1)\n",
    "        rmse_tr_list[i,j]=rmse_tr\n",
    "        rmse_te_list[i,j]=rmse_te\n",
    "D_best_index,lambda_best_index=np.unravel_index(np.argmin(rmse_te_list),rmse_te_list.shape)\n",
    "D_best=degrees[D_best_index]\n",
    "lambda_best=lambdas[lambda_best_index]\n",
    "print(f'degree:{D_best} lambda_:{lambda_best}')    "
   ]
  },
  {
   "cell_type": "markdown",
   "metadata": {},
   "source": [
    "### Testing ridge-regression with best Degree"
   ]
  },
  {
   "cell_type": "code",
   "execution_count": 61,
   "metadata": {},
   "outputs": [
    {
     "name": "stdout",
     "output_type": "stream",
     "text": [
      "w:[ 4.49194916e+02  3.37350622e-01 -2.07981427e-01  1.19106993e-02\n",
      " -3.21258465e-02 -1.43233988e-02 -2.15183691e-02 -8.27066892e-03\n",
      " -3.01615397e-02 -3.91084251e-02  2.85889649e-02 -9.89020450e-04\n",
      " -4.05536127e-03 -1.32385199e-02 -1.71464011e-04  2.31157332e-03\n",
      " -3.92496271e-03 -6.93262789e-04  8.76510651e-03 -2.39755687e+01\n",
      "  3.67831678e+01 -4.53846408e+02  1.16963732e+02  2.73576681e-02\n",
      " -1.77049329e-02 -5.97305031e-02 -3.17167466e-03  1.51709603e-02\n",
      "  4.83252214e-03  1.26459450e-04  3.79595880e-02  2.57357457e-02\n",
      "  3.68755081e-02 -1.01021570e-02 -7.46933219e-03 -9.18574504e-03\n",
      " -5.55925907e-03 -3.22946753e-02 -8.23481796e-03 -1.21166419e-02\n",
      "  1.58333965e-03 -1.02037443e-02  2.80809352e+01 -5.51456944e+01\n",
      " -5.02800694e+02  6.65514231e+01 -8.31335366e-02 -8.85960820e-02\n",
      "  6.07393701e-02  1.04700462e-02 -1.00029537e-03 -1.47836607e-02\n",
      "  1.38422719e-02 -1.40721501e-02 -5.85230900e-03  1.66241742e-01\n",
      " -1.63676379e-03 -4.15861075e-04  4.42018326e-03  9.00625497e-03\n",
      "  2.23280789e-03  2.80893459e-04  4.29758733e-04  1.72497086e-03\n",
      " -2.13862522e-03 -2.93931503e+01  3.95640404e+01 -3.33626375e+02\n",
      " -8.01123370e+01  9.20847165e-02  7.54221970e-04  1.59087810e-02\n",
      " -3.71124261e-03 -3.75395338e-03 -6.46632334e-03 -6.11081506e-03\n",
      " -7.62611291e-03 -3.28668305e-03  1.93581113e-02  2.42463632e-03\n",
      " -3.30084523e-03  2.78610621e-03 -3.60270546e-03  8.42878525e-05\n",
      "  2.11637224e-03  6.96270908e-03 -1.07611403e-03 -1.13575068e-03\n",
      "  3.60542357e+01 -1.35056367e+01  2.51783286e+02  4.51919867e+01\n",
      " -3.70482387e-02  5.85839071e-03 -8.47340887e-03 -1.96459478e-03\n",
      "  1.20485503e-03  1.87208535e-03  6.22584337e-04  2.89916088e-03\n",
      "  1.31909697e-03 -8.62911852e-02 -6.03611828e-04  1.78106794e-04\n",
      " -1.11557918e-03  4.91046960e-04 -7.34079804e-04 -5.41978187e-04\n",
      " -1.94990878e-03 -5.21867405e-04  9.22072411e-04 -1.24429668e+01\n",
      "  1.74419944e+00  6.28904251e+02 -7.39232466e+01  4.96730008e-03]\n",
      "loss:0.06993653599707152\n"
     ]
    }
   ],
   "source": [
    "phi_tX=build_poly(tX,D_best)\n",
    "w,loss=ridge_regression(y,phi_tX,lambda_best)\n",
    "print(f'w:{w}\\nloss:{loss}')"
   ]
  },
  {
   "cell_type": "markdown",
   "metadata": {},
   "source": []
  },
  {
   "cell_type": "markdown",
   "metadata": {
    "tags": []
   },
   "source": [
    "## Generate predictions and save ouput in csv format for submission:"
   ]
  },
  {
   "cell_type": "code",
   "execution_count": 62,
   "metadata": {
    "collapsed": false,
    "jupyter": {
     "outputs_hidden": false
    }
   },
   "outputs": [
    {
     "name": "stdout",
     "output_type": "stream",
     "text": [
      "[406.01834519  35.39343386  40.47399952  63.30439439   0.77997775\n",
      "  21.76043127 116.25814329   0.84526994   1.19452041  22.43646206\n",
      "   1.2132615    1.81577961  22.17629532   1.26392824   1.81442676\n",
      "  32.31916029   1.81291407 126.95594878   0.97939339 533.15593608\n",
      " 489.46814712 489.45777374  98.47043502]\n"
     ]
    }
   ],
   "source": [
    "DATA_TEST_PATH = '../data/test.csv'\n",
    "_, tX_test, ids_test = load_csv_data(DATA_TEST_PATH)\n",
    "tX_test=np.delete(tX_test,remove_features,1)\n",
    "tX_test,_,_ = standardize(tX_test)\n",
    "tX_test=build_poly(tX_test,D_best)"
   ]
  },
  {
   "cell_type": "code",
   "execution_count": 64,
   "metadata": {
    "collapsed": false,
    "jupyter": {
     "outputs_hidden": false
    }
   },
   "outputs": [],
   "source": [
    "weights=w\n",
    "OUTPUT_PATH = 'output6.csv' # TODO: fill in desired name of output file for submission\n",
    "y_pred = predict_labels(weights, tX_test)\n",
    "create_csv_submission(ids_test, y_pred, OUTPUT_PATH)"
   ]
  },
  {
   "cell_type": "code",
   "execution_count": null,
   "metadata": {},
   "outputs": [],
   "source": []
  }
 ],
 "metadata": {
  "anaconda-cloud": {},
  "interpreter": {
   "hash": "769d560f7a9260275cfba8eac8dfb7a8ebd643a4b3237d9fce15021d62ac6fd5"
  },
  "kernelspec": {
   "display_name": "Python 3 (ipykernel)",
   "language": "python",
   "name": "python3"
  },
  "language_info": {
   "codemirror_mode": {
    "name": "ipython",
    "version": 3
   },
   "file_extension": ".py",
   "mimetype": "text/x-python",
   "name": "python",
   "nbconvert_exporter": "python",
   "pygments_lexer": "ipython3",
   "version": "3.7.11"
  }
 },
 "nbformat": 4,
 "nbformat_minor": 4
}
