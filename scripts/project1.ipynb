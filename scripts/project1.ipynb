{
 "cells": [
  {
   "cell_type": "code",
   "execution_count": null,
   "metadata": {
    "tags": []
   },
   "outputs": [],
   "source": [
    "# Useful starting lines\n",
    "%matplotlib inline\n",
    "import numpy as np\n",
    "import matplotlib.pyplot as plt\n",
    "%load_ext autoreload\n",
    "%autoreload 2"
   ]
  },
  {
   "cell_type": "markdown",
   "metadata": {},
   "source": [
    "## Load the training data into feature matrix, class labels, and event ids:"
   ]
  },
  {
   "cell_type": "code",
<<<<<<< HEAD
   "execution_count": null,
=======
   "execution_count": 47,
>>>>>>> e2062e41fbc32ba3a4e138d0009d81675d1cdc36
   "metadata": {
    "collapsed": false,
    "jupyter": {
     "outputs_hidden": false
    }
   },
   "outputs": [
    {
     "name": "stdout",
     "output_type": "stream",
     "text": [
      "[[ 138.47    51.655   97.827 ...    1.24    -2.475  113.497]\n",
      " [ 160.937   68.768  103.235 ... -999.    -999.      46.226]\n",
      " [-999.     162.172  125.953 ... -999.    -999.      44.251]\n",
      " ...\n",
      " [ 105.457   60.526   75.839 ... -999.    -999.      41.992]\n",
      " [  94.951   19.362   68.812 ... -999.    -999.       0.   ]\n",
      " [-999.      72.756   70.831 ... -999.    -999.       0.   ]]\n",
      "[ 1. -1. -1. ...  1. -1. -1.]\n"
     ]
    }
   ],
   "source": [
    "from proj1_helpers import *\n",
    "DATA_TRAIN_PATH = '../data/train.csv'\n",
    "y, tX, ids = load_csv_data(DATA_TRAIN_PATH)\n",
    "print(tX)\n",
    "print(y)"
   ]
  },
  {
   "cell_type": "code",
<<<<<<< HEAD
   "execution_count": null,
=======
   "execution_count": 20,
>>>>>>> e2062e41fbc32ba3a4e138d0009d81675d1cdc36
   "metadata": {},
   "outputs": [],
   "source": [
    "from implementations import *"
   ]
  },
  {
   "cell_type": "markdown",
   "metadata": {},
   "source": [
    "## Do your thing crazy machine learning thing here :) ..."
   ]
  },
  {
   "cell_type": "markdown",
   "metadata": {},
   "source": [
    "### Testing functions"
   ]
  },
  {
   "cell_type": "code",
<<<<<<< HEAD
   "execution_count": null,
   "metadata": {},
   "outputs": [],
   "source": [
    "#GD\n",
    "initial_w=np.zeros(tX.shape[1])\n",
    "max_iters=20\n",
    "gamma=0.0001\n",
    "w,loss = least_squares_GD(y,tX,initial_w,max_iters,gamma)\n",
    "print(f'w:{w}\\nloss:{loss}')"
   ]
  },
  {
   "cell_type": "code",
   "execution_count": null,
   "metadata": {},
   "outputs": [],
   "source": [
    "#SDG\n",
    "initial_w=np.zeros(tX.shape[1])\n",
    "max_iters=20\n",
    "gamma=0.0001\n",
    "w,loss = least_squares_SGD(y,tX,initial_w,max_iters,gamma)\n",
    "print(f'w:{w}\\nloss:{loss}')"
   ]
  },
  {
   "cell_type": "code",
   "execution_count": null,
   "metadata": {},
   "outputs": [],
   "source": [
    "#LS\n",
    "w,loss = least_squares(y,tX)\n",
    "print(f'w:{w}\\nloss:{loss}')"
   ]
  },
  {
   "cell_type": "code",
   "execution_count": null,
   "metadata": {},
   "outputs": [],
   "source": [
    "#RR\n",
    "lambda_=0.1\n",
    "w,loss = ridge_regression(y,tX,lambda_)\n",
    "print(f'w:{w}\\nloss:{loss}')"
   ]
  },
  {
   "cell_type": "code",
   "execution_count": null,
   "metadata": {},
   "outputs": [],
   "source": [
    "#LR\n",
    "initial_w=np.zeros(tX.shape[1])\n",
    "max_iters=5\n",
    "gamma=0.00001\n",
    "y_=(y+1)/2\n",
    "w,loss = logistic_regression(y_,tX,initial_w,max_iters,gamma)\n",
    "print(f'w:{w}\\nloss:{loss}')"
   ]
  },
  {
   "cell_type": "code",
   "execution_count": null,
   "metadata": {},
   "outputs": [],
   "source": [
    "#RLR\n",
    "initial_w=np.zeros(tX.shape[1])\n",
    "max_iters=5\n",
    "gamma=0.00001\n",
    "lambda_=0.01\n",
    "w,loss = reg_logistic_regression(y,tX, lambda_, initial_w, max_iters,gamma)\n",
    "print(f'w:{w}\\nloss:{loss}')"
   ]
  },
  {
   "cell_type": "markdown",
   "metadata": {},
   "source": [
    "### Cleaning dataset"
   ]
  },
  {
   "cell_type": "code",
   "execution_count": null,
   "metadata": {},
   "outputs": [],
   "source": []
  },
  {
=======
   "execution_count": 21,
   "metadata": {},
   "outputs": [],
   "source": [
    "##clean dataset\n",
    "#tX[:,:][tX[:,:] == -999] = 0\n",
    "#we could normalize the data ranging from [0,1] since its binary prediction\n",
    "#y = (y-min(y))/(max(y)-min(y))"
   ]
  },
  {
   "cell_type": "code",
   "execution_count": 48,
   "metadata": {},
   "outputs": [
    {
     "name": "stdout",
     "output_type": "stream",
     "text": [
      "Gradient Descent(0/29): loss=1.0, w0=215.33299020799998, w1=-54.56839720800001\n",
      "Gradient Descent(1/29): loss=16065340930611.773, w0=-765445872.6687402, w1=359218895.56639737\n",
      "Gradient Descent(2/29): loss=2.1124920868895686e+27, w0=8177198599138947.0, w1=-4102240720248643.5\n",
      "Gradient Descent(3/29): loss=2.778850100007706e+41, w0=-9.35227784128769e+22, w1=4.704521018771992e+22\n",
      "Gradient Descent(4/29): loss=3.6554073774522115e+55, w0=1.072478245926594e+30, w1=-5.3957247816434554e+29\n",
      "Gradient Descent(5/29): loss=4.808464921019981e+69, w0=-1.2300404859808719e+37, w1=6.188495823136787e+36\n",
      "Gradient Descent(6/29): loss=6.325241624494671e+83, w0=1.410764069389617e+44, w1=-7.097745709132271e+43\n",
      "Gradient Descent(7/29): loss=8.320468645485011e+97, w0=-1.618041643718687e+51, w1=8.14058789680122e+50\n",
      "Gradient Descent(8/29): loss=1.09450678077504e+112, w0=1.8557737463996314e+58, w1=-9.336650539653005e+57\n",
      "Gradient Descent(9/29): loss=1.439756754341704e+126, w0=-2.1284348454769523e+65, w1=1.0708445680401541e+65\n",
      "Gradient Descent(10/29): loss=1.8939119867349747e+140, w0=2.4411569041054347e+72, w1=-1.2281792962377202e+72\n",
      "Gradient Descent(11/29): loss=2.491325428883609e+154, w0=-2.799825911211671e+79, w1=1.4086305601452977e+79\n",
      "Gradient Descent(12/29): loss=3.277186287469563e+168, w0=3.211192660305852e+86, w1=-1.6155947759855363e+86\n",
      "Gradient Descent(13/29): loss=4.310938201112987e+182, w0=-3.6829998109212944e+93, w1=1.8529673812575252e+93\n",
      "Gradient Descent(14/29): loss=5.670775642163693e+196, w0=4.22412761928606e+100, w1=-2.125216153852623e+100\n",
      "Gradient Descent(15/29): loss=7.459558658357629e+210, w0=-4.844761080656126e+107, w1=2.4374653036422915e+107\n",
      "Gradient Descent(16/29): loss=9.81259335385148e+224, w0=5.556581629180837e+114, w1=-2.7955919192923745e+114\n",
      "Gradient Descent(17/29): loss=1.2907866636341952e+239, w0=-6.3729870034310315e+121, w1=3.206336585605711e+121\n",
      "Gradient Descent(18/29): loss=1.6979509401171048e+253, w0=7.309343415852665e+128, w1=-3.677430253409782e+128\n",
      "Gradient Descent(19/29): loss=2.233550652690663e+267, w0=-8.383274772427036e+135, w1=4.21773974990801e+135\n",
      "Gradient Descent(20/29): loss=2.938099329177803e+281, w0=9.614994386169938e+142, w1=-4.837434668260395e+142\n",
      "Gradient Descent(21/29): loss=3.86489003852048e+295, w0=-1.1027685427912413e+150, w1=5.548178777554474e+149\n",
      "Gradient Descent(22/29): loss=inf, w0=1.2647937275128683e+157, w1=-6.363349555845389e+156\n",
      "Gradient Descent(23/29): loss=inf, w0=-1.4506245971678262e+164, w1=7.298289978270291e+163\n",
      "Gradient Descent(24/29): loss=inf, w0=1.6637588218011702e+171, w1=-8.370597299340746e+170\n",
      "Gradient Descent(25/29): loss=inf, w0=-1.908207969536427e+178, w1=9.600454264813492e+177\n",
      "Gradient Descent(26/29): loss=inf, w0=2.1885730114779175e+185, w1=-1.101100898714057e+185\n",
      "Gradient Descent(27/29): loss=inf, w0=-2.510130920233574e+192, w1=1.2628810634435716e+192\n",
      "Gradient Descent(28/29): loss=inf, w0=2.8789339919977503e+199, w1=-1.4484309133404282e+199\n",
      "Gradient Descent(29/29): loss=inf, w0=-3.30192376161354e+206, w1=1.661242829154139e+206\n"
     ]
    }
   ],
   "source": [
    "#least_square for normal equation\n",
    "weights_norm_eq,err_norm_eq = least_squares(y, tX)\n",
    "#gradient_descent\n",
    "#initial_w = np.array([10]*30)\n",
    "initial_w = np.array([0]*30)\n",
    "max_iters = 30\n",
    "gamma = 1\n",
    "weights_GD,err_GD = least_squares_GD(y, tX, initial_w, max_iters, gamma)\n",
    "#weights_SGD, err_SGD = least<_squares_SGD(y, tX, initial_w, max_iters, gamma)\n",
    "#ERR: why loss to inf?"
   ]
  },
  {
>>>>>>> e2062e41fbc32ba3a4e138d0009d81675d1cdc36
   "cell_type": "markdown",
   "metadata": {},
   "source": [
    "## Generate predictions and save ouput in csv format for submission:"
   ]
  },
  {
   "cell_type": "code",
<<<<<<< HEAD
   "execution_count": null,
=======
   "execution_count": 15,
>>>>>>> e2062e41fbc32ba3a4e138d0009d81675d1cdc36
   "metadata": {
    "collapsed": false,
    "jupyter": {
     "outputs_hidden": false
    }
   },
   "outputs": [],
   "source": [
    "DATA_TEST_PATH = '../data/test.csv'\n",
    "_, tX_test, ids_test = load_csv_data(DATA_TEST_PATH)"
   ]
  },
  {
   "cell_type": "code",
<<<<<<< HEAD
   "execution_count": null,
=======
   "execution_count": 16,
>>>>>>> e2062e41fbc32ba3a4e138d0009d81675d1cdc36
   "metadata": {
    "collapsed": false,
    "jupyter": {
     "outputs_hidden": false
    }
   },
   "outputs": [
    {
     "name": "stdout",
     "output_type": "stream",
     "text": [
      "[-1.  1.  1. ...  1.  1.  1.]\n"
     ]
    }
   ],
   "source": [
    "OUTPUT_PATH = '' # TODO: fill in desired name of output file for submission\n",
    "weights = weights_norm_eq\n",
    "y_pred = predict_labels(weights, tX_test)\n",
    "#create_csv_submission(ids_test, y_pred, OUTPUT_PATH)\n",
    "print(y_pred)"
   ]
  },
  {
   "cell_type": "code",
   "execution_count": null,
   "metadata": {},
   "outputs": [],
   "source": []
  }
 ],
 "metadata": {
  "anaconda-cloud": {},
  "kernelspec": {
   "display_name": "Python 3",
   "language": "python",
   "name": "python3"
  },
  "language_info": {
   "codemirror_mode": {
    "name": "ipython",
    "version": 3
   },
   "file_extension": ".py",
   "mimetype": "text/x-python",
   "name": "python",
   "nbconvert_exporter": "python",
   "pygments_lexer": "ipython3",
   "version": "3.8.8"
  }
 },
 "nbformat": 4,
 "nbformat_minor": 4
}
