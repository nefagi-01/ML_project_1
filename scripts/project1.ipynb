{
 "cells": [
  {
   "cell_type": "code",
   "execution_count": 1,
   "metadata": {
    "tags": []
   },
   "outputs": [],
   "source": [
    "# Useful starting lines\n",
    "%matplotlib inline\n",
    "import numpy as np\n",
    "import matplotlib.pyplot as plt\n",
    "%load_ext autoreload\n",
    "%autoreload 2"
   ]
  },
  {
   "cell_type": "markdown",
   "metadata": {},
   "source": [
    "## Load the training data into feature matrix, class labels, and event ids:"
   ]
  },
  {
   "cell_type": "code",
   "execution_count": 2,
   "metadata": {
    "collapsed": false,
    "jupyter": {
     "outputs_hidden": false
    }
   },
   "outputs": [],
   "source": [
    "from proj1_helpers import *\n",
    "DATA_TRAIN_PATH = '../data/train.csv'\n",
    "y, tX, ids = load_csv_data(DATA_TRAIN_PATH)"
   ]
  },
  {
   "cell_type": "code",
   "execution_count": null,
   "metadata": {},
   "outputs": [],
   "source": []
  },
  {
   "cell_type": "code",
   "execution_count": 3,
   "metadata": {},
   "outputs": [],
   "source": [
    "from implementations import *"
   ]
  },
  {
   "cell_type": "markdown",
   "metadata": {},
   "source": [
    "## Do your thing crazy machine learning thing here :) ..."
   ]
  },
  {
   "cell_type": "markdown",
   "metadata": {},
   "source": [
    "### Testing functions"
   ]
  },
  {
   "cell_type": "code",
   "execution_count": 4,
   "metadata": {},
   "outputs": [
    {
     "name": "stdout",
     "output_type": "stream",
     "text": [
      "w:[-7.99213994e+89  4.02095449e+89  6.05949268e+89  2.33248635e+89\n",
      " -7.52733051e+90 -7.64763444e+90 -7.52619003e+90  1.88420283e+88\n",
      "  1.08026938e+89  7.37786382e+89  1.04190074e+88 -3.70528650e+87\n",
      " -7.52684309e+90  2.61766172e+89 -1.20080715e+86 -9.35752604e+85\n",
      "  3.23552439e+89 -2.24829494e+86  3.21299990e+86  2.52728817e+89\n",
      " -1.31469882e+86  1.11380795e+90  2.50966285e+87 -4.50088665e+90\n",
      " -4.66664463e+90 -4.66668529e+90 -7.53722695e+90 -7.52674065e+90\n",
      " -7.52674212e+90  1.52467768e+89]\n",
      "loss:4.0601271092253336e+179\n"
     ]
    }
   ],
   "source": [
    "#GD\n",
    "initial_w=np.zeros(tX.shape[1])\n",
    "max_iters=20\n",
    "gamma=0.01\n",
    "w,loss = least_squares_GD(y,tX,initial_w,max_iters,gamma)\n",
    "print(f'w:{w}\\nloss:{loss}')"
   ]
  },
  {
   "cell_type": "code",
   "execution_count": 5,
   "metadata": {},
   "outputs": [
    {
     "name": "stdout",
     "output_type": "stream",
     "text": [
      "w:[ 5.52363008e+42  2.80825359e+41  4.00920233e+42  2.92949237e+41\n",
      " -4.88892834e+43 -4.88892834e+43 -4.88892834e+43  1.54799393e+41\n",
      "  2.92950836e+41  4.00259832e+42  3.31030341e+40 -6.91994392e+40\n",
      " -4.88892834e+43  2.38728182e+42  8.00285285e+40  1.07866487e+41\n",
      "  1.61531439e+42  6.00883229e+40 -4.56359876e+40  1.00116946e+42\n",
      " -5.66821637e+40  7.91267404e+42  6.97489455e+34 -4.88892116e+43\n",
      " -4.88892136e+43 -4.88892137e+43 -4.88892834e+43 -4.88892834e+43\n",
      " -4.88892834e+43  2.11401356e+36]\n",
      "loss:1.1998655036116833e+89\n"
     ]
    }
   ],
   "source": [
    "#SDG\n",
    "initial_w=np.zeros(tX.shape[1])\n",
    "max_iters=20\n",
    "gamma=0.0001\n",
    "w,loss = least_squares_SGD(y,tX,initial_w,max_iters,gamma)\n",
    "print(f'w:{w}\\nloss:{loss}')"
   ]
  },
  {
   "cell_type": "code",
   "execution_count": 6,
   "metadata": {},
   "outputs": [
    {
     "name": "stdout",
     "output_type": "stream",
     "text": [
      "w:[ 8.03494312e-05 -7.20202273e-03 -6.05417273e-03 -5.47559065e-04\n",
      " -1.93874700e-02  4.73451621e-04 -2.60379054e-02  3.25106300e-01\n",
      " -3.80780281e-05 -2.72725003e+00 -2.21220140e-01  9.50794091e-02\n",
      "  6.40351613e-02  2.73550971e+00 -3.31801241e-04 -9.54325119e-04\n",
      "  2.74026646e+00 -5.34164892e-04  9.73498582e-04  3.69225052e-03\n",
      "  3.54487449e-04 -5.43344598e-04 -3.30448035e-01 -1.40800498e-03\n",
      "  8.31432887e-04  1.02117272e-03 -1.68047416e-03 -5.83664817e-03\n",
      " -1.11087997e-02  2.72770997e+00]\n",
      "loss:0.33968680947709307\n"
     ]
    }
   ],
   "source": [
    "#LS\n",
    "w,loss = least_squares(y,tX)\n",
    "print(f'w:{w}\\nloss:{loss}')"
   ]
  },
  {
   "cell_type": "code",
   "execution_count": 7,
   "metadata": {},
   "outputs": [
    {
     "name": "stdout",
     "output_type": "stream",
     "text": [
      "w:[ 8.03357874e-05 -7.20229357e-03 -6.05414322e-03 -5.47524708e-04\n",
      " -1.93892567e-02  4.73474160e-04 -2.60360866e-02  3.25109901e-01\n",
      " -3.81780647e-05 -4.25488847e-01 -2.21215574e-01  9.50773063e-02\n",
      "  6.40334364e-02  4.33748519e-01 -3.32367323e-04 -9.54270952e-04\n",
      "  4.38505213e-01 -5.32787121e-04  9.72271361e-04  3.69233071e-03\n",
      "  3.55493260e-04 -5.43272790e-04 -3.30447361e-01 -1.40802204e-03\n",
      "  8.31788674e-04  1.02083858e-03 -1.68036824e-03 -5.83753485e-03\n",
      " -1.11063383e-02  4.25948612e-01]\n",
      "loss:0.3396876032273416\n"
     ]
    }
   ],
   "source": [
    "#RR\n",
    "lambda_=0.1\n",
    "w,loss = ridge_regression(y,tX,lambda_)\n",
    "print(f'w:{w}\\nloss:{loss}')"
   ]
  },
  {
   "cell_type": "code",
   "execution_count": 33,
   "metadata": {},
   "outputs": [
    {
     "name": "stdout",
     "output_type": "stream",
     "text": [
      "nan\n",
      "nan\n",
      "nan\n",
      "nan\n",
      "nan\n",
      "nan\n",
      "nan\n",
      "nan\n",
      "nan\n",
      "nan\n",
      "w:[ 2.24442241e-01 -9.05934883e-02 -1.11932854e-01 -7.35473881e-02\n",
      "  7.97201682e-01  6.25514806e-01  7.98589091e-01 -3.10596225e-03\n",
      " -3.01528908e-02 -2.33774200e-01 -2.37904197e-03  5.86564609e-04\n",
      "  7.98236347e-01 -4.34799140e-02  7.79790943e-06 -8.22167268e-06\n",
      " -6.77634380e-02  2.34475649e-05 -3.92153090e-05 -6.17774960e-02\n",
      "  4.02797750e-05 -3.03913023e-01 -1.64707941e-03  4.65262344e-01\n",
      "  5.38707027e-01  5.38712361e-01  7.63299909e-01  7.98462728e-01\n",
      "  7.98446231e-01 -1.22530846e-01]\n",
      "loss:nan\n"
     ]
    }
   ],
   "source": [
    "#LR\n",
    "initial_w=np.zeros(tX.shape[1])\n",
    "max_iters=10\n",
    "gamma=1e-9\n",
    "w,loss = logistic_regression(y,tX,initial_w,max_iters,gamma)\n",
    "print(f'w:{w}\\nloss:{loss}')"
   ]
  },
  {
   "cell_type": "code",
   "execution_count": 9,
   "metadata": {},
   "outputs": [
    {
     "name": "stdout",
     "output_type": "stream",
     "text": [
      "w:[ 1.16356629e+03 -4.83380749e+02 -6.06378345e+02 -4.00243324e+02\n",
      "  4.42933552e+03  3.59922309e+03  4.43557408e+03 -1.68691485e+01\n",
      " -1.62844366e+02 -1.25297612e+03 -1.27422061e+01  3.07353766e+00\n",
      "  4.43439057e+03 -2.39692494e+02  4.54113005e-02 -4.15284876e-02\n",
      " -3.66377451e+02  1.28991065e-01 -2.19462004e-01 -3.32900247e+02\n",
      "  2.10923540e-01 -1.63666069e+03 -8.75065887e+00  2.55202972e+03\n",
      "  2.94307346e+03  2.94309907e+03  4.25382569e+03  4.43551759e+03\n",
      "  4.43543162e+03 -6.46906168e+02]\n",
      "loss:nan\n"
     ]
    }
   ],
   "source": [
    "#RLR\n",
    "initial_w=np.zeros(tX.shape[1])\n",
    "max_iters=5\n",
    "gamma=0.00001\n",
    "lambda_=0.01\n",
    "w,loss = reg_logistic_regression(y,tX, lambda_, initial_w, max_iters,gamma)\n",
    "print(f'w:{w}\\nloss:{loss}')"
   ]
  },
  {
   "cell_type": "markdown",
   "metadata": {},
   "source": [
    "### Cleaning dataset"
   ]
  },
  {
   "cell_type": "code",
   "execution_count": null,
   "metadata": {},
   "outputs": [],
   "source": [
    "tX[:,:][tX[:,:] == -999] = 0\n",
    "#we could normalize the data ranging from [0,1] since its binary prediction\",\n",
    "y = (y-min(y))/(max(y)-min(y))\n"
   ]
  },
  {
   "cell_type": "code",
   "execution_count": null,
   "metadata": {},
   "outputs": [],
   "source": [
    "q1 = []\n",
    "q2 = []\n",
    "k = 1\n",
    "for i in range(0,tX.shape[1]):\n",
    "    q1 = np.percentile(tX[:,i],25)\n",
    "    q2 = np.percentile(tX[:,i],50)\n",
    "    q3 = np.percentile(tX[:,i],75)\n",
    "    tX[:,i][(tX[:,i] < q1 - k*(q3-q1))] = q2\n",
    "    tX[:,i][(tX[:,i] > q3 + k*(q3-q1))] = q2\n",
    "    \n",
    "#tX[:,:][tX[:,:] = -999].shape[0]"
   ]
  },
  {
   "cell_type": "markdown",
   "metadata": {},
   "source": [
    "## Generate predictions and save ouput in csv format for submission:"
   ]
  },
  {
   "cell_type": "code",
   "execution_count": 9,
   "metadata": {
    "collapsed": false,
    "jupyter": {
     "outputs_hidden": false
    }
   },
   "outputs": [],
   "source": [
    "DATA_TEST_PATH = '../data/test.csv'\n",
    "_, tX_test, ids_test = load_csv_data(DATA_TEST_PATH)"
   ]
  },
  {
   "cell_type": "code",
   "execution_count": 10,
   "metadata": {
    "collapsed": false,
    "jupyter": {
     "outputs_hidden": false
    }
   },
   "outputs": [
    {
     "ename": "NameError",
     "evalue": "name 'weights' is not defined",
     "output_type": "error",
     "traceback": [
      "\u001b[0;31m---------------------------------------------------------------------------\u001b[0m",
      "\u001b[0;31mNameError\u001b[0m                                 Traceback (most recent call last)",
      "\u001b[0;32m/var/folders/7g/2ds3y3yd6319x1125r61pg1c0000gn/T/ipykernel_8871/2223051364.py\u001b[0m in \u001b[0;36m<module>\u001b[0;34m\u001b[0m\n\u001b[1;32m      1\u001b[0m \u001b[0mOUTPUT_PATH\u001b[0m \u001b[0;34m=\u001b[0m \u001b[0;34m''\u001b[0m \u001b[0;31m# TODO: fill in desired name of output file for submission\u001b[0m\u001b[0;34m\u001b[0m\u001b[0;34m\u001b[0m\u001b[0m\n\u001b[0;32m----> 2\u001b[0;31m \u001b[0my_pred\u001b[0m \u001b[0;34m=\u001b[0m \u001b[0mpredict_labels\u001b[0m\u001b[0;34m(\u001b[0m\u001b[0mweights\u001b[0m\u001b[0;34m,\u001b[0m \u001b[0mtX_test\u001b[0m\u001b[0;34m)\u001b[0m\u001b[0;34m\u001b[0m\u001b[0;34m\u001b[0m\u001b[0m\n\u001b[0m\u001b[1;32m      3\u001b[0m \u001b[0mcreate_csv_submission\u001b[0m\u001b[0;34m(\u001b[0m\u001b[0mids_test\u001b[0m\u001b[0;34m,\u001b[0m \u001b[0my_pred\u001b[0m\u001b[0;34m,\u001b[0m \u001b[0mOUTPUT_PATH\u001b[0m\u001b[0;34m)\u001b[0m\u001b[0;34m\u001b[0m\u001b[0;34m\u001b[0m\u001b[0m\n",
      "\u001b[0;31mNameError\u001b[0m: name 'weights' is not defined"
     ]
    }
   ],
   "source": [
    "OUTPUT_PATH = '' # TODO: fill in desired name of output file for submission\n",
    "y_pred = predict_labels(weights, tX_test)\n",
    "create_csv_submission(ids_test, y_pred, OUTPUT_PATH)"
   ]
  },
  {
   "cell_type": "code",
   "execution_count": null,
   "metadata": {},
   "outputs": [],
   "source": []
  }
 ],
 "metadata": {
  "anaconda-cloud": {},
  "kernelspec": {
   "display_name": "Python 3 (ipykernel)",
   "language": "python",
   "name": "python3"
  },
  "language_info": {
   "codemirror_mode": {
    "name": "ipython",
    "version": 3
   },
   "file_extension": ".py",
   "mimetype": "text/x-python",
   "name": "python",
   "nbconvert_exporter": "python",
   "pygments_lexer": "ipython3",
   "version": "3.7.11"
  }
 },
 "nbformat": 4,
 "nbformat_minor": 4
}
