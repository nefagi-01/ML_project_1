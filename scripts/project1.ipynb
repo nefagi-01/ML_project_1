{
 "cells": [
  {
   "cell_type": "code",
   "execution_count": 1,
   "metadata": {
    "tags": []
   },
   "outputs": [
    {
     "name": "stdout",
     "output_type": "stream",
     "text": [
      "The autoreload extension is already loaded. To reload it, use:\n",
      "  %reload_ext autoreload\n"
     ]
    }
   ],
   "source": [
    "# Useful starting lines\n",
    "%matplotlib inline\n",
    "import numpy as np\n",
    "import matplotlib.pyplot as plt\n",
    "import collections\n",
    "from implementations import *\n",
    "%load_ext autoreload\n",
    "%autoreload 2"
   ]
  },
  {
   "cell_type": "markdown",
   "metadata": {},
   "source": [
    "# Load the training data into feature matrix, class labels, and event ids:"
   ]
  },
  {
   "cell_type": "code",
   "execution_count": 2,
   "metadata": {
    "collapsed": false,
    "jupyter": {
     "outputs_hidden": false
    }
   },
   "outputs": [],
   "source": [
    "from proj1_helpers import *\n",
    "DATA_TRAIN_PATH = '../data/train.csv'\n",
    "y, tX, ids = load_csv_data(DATA_TRAIN_PATH)"
   ]
  },
  {
   "cell_type": "markdown",
   "metadata": {
    "tags": []
   },
   "source": [
    "# Do your thing crazy machine learning thing here :) ..."
   ]
  },
  {
   "cell_type": "markdown",
   "metadata": {
    "tags": []
   },
   "source": [
    "### Testing functions"
   ]
  },
  {
   "cell_type": "code",
   "execution_count": 14,
   "metadata": {},
   "outputs": [
    {
     "name": "stdout",
     "output_type": "stream",
     "text": [
      "w:[ 0.22129147 -0.26195391  0.08131285 -0.01371648  0.01037168  0.00520771\n",
      "  0.00657906 -0.05185827 -0.04341919  0.01011411 -0.06832369  0.11059552\n",
      "  0.00932825  0.0692866  -0.00216724 -0.00135043 -0.01202921 -0.0010739\n",
      "  0.00310472 -0.01866083  0.00051143  0.01267996 -0.07904982  0.00283501\n",
      " -0.00603223 -0.00603639  0.00748116  0.00904447  0.00902787  0.04208359]\n",
      "loss:0.3719737383665724\n"
     ]
    }
   ],
   "source": [
    "#GD\n",
    "initial_w=np.zeros(tX.shape[1])\n",
    "max_iters=50\n",
    "gamma=1e-1\n",
    "w,loss = least_squares_GD(y,tX,initial_w,max_iters,gamma)\n",
    "print(f'w:{w}\\nloss:{loss}')"
   ]
  },
  {
   "cell_type": "code",
   "execution_count": 15,
   "metadata": {},
   "outputs": [
    {
     "name": "stdout",
     "output_type": "stream",
     "text": [
      "w:[ 4.29326649e-04 -5.22707525e-04  2.07169401e-04  5.62981578e-04\n",
      " -2.97725508e-06 -9.54295554e-05 -5.26652185e-06  1.98688408e-04\n",
      "  4.43013332e-04  5.33089183e-04 -2.28825663e-04  1.71456404e-03\n",
      " -3.68721011e-06  4.00294992e-04  6.79400910e-05  4.78657998e-05\n",
      "  4.62441067e-04  1.92830625e-04 -4.55297600e-05  4.13256697e-05\n",
      "  6.00738289e-04  7.48921074e-04  5.07058669e-04  9.99169894e-04\n",
      "  1.01656240e-03  1.01543419e-03  3.05919892e-05 -4.24197856e-06\n",
      " -4.63036187e-06  4.89880371e-04]\n",
      "loss:0.49358541098728487\n"
     ]
    }
   ],
   "source": [
    "#SDG\n",
    "initial_w=np.zeros(tX.shape[1])\n",
    "max_iters=20\n",
    "gamma=1e-4\n",
    "w,loss = least_squares_SGD(y,tX,initial_w,max_iters,gamma)\n",
    "print(f'w:{w}\\nloss:{loss}')"
   ]
  },
  {
   "cell_type": "code",
   "execution_count": 16,
   "metadata": {},
   "outputs": [
    {
     "name": "stdout",
     "output_type": "stream",
     "text": [
      "w:[ 2.24880523e-01 -2.66430812e-01  7.77308098e-02 -2.44119301e-02\n",
      "  2.68390156e+01 -2.79944631e-02 -1.49681395e+01 -5.59769882e-02\n",
      " -2.04155168e-02 -1.19170216e-03 -6.09622440e-02  9.31314883e-02\n",
      " -3.73557747e+00  6.83728225e-02 -1.69832465e-03 -2.19385536e-03\n",
      " -1.15573293e-02 -2.33354850e-04  2.26963381e-03 -1.64550284e-02\n",
      " -5.53853233e-06  1.13096541e-02 -2.36938428e-01  1.56186604e-01\n",
      " -1.41924155e-01  7.64053826e-02 -1.21467670e-02 -3.24218360e+00\n",
      " -4.70428232e+00  4.53342424e-02]\n",
      "loss:0.36414105057796897\n"
     ]
    }
   ],
   "source": [
    "#LS\n",
    "w,loss = least_squares(y,tX)\n",
    "print(f'w:{w}\\nloss:{loss}')"
   ]
  },
  {
   "cell_type": "code",
   "execution_count": null,
   "metadata": {},
   "outputs": [],
   "source": [
    "#RR\n",
    "lambda_=0.1\n",
    "w,loss = ridge_regression(y,tX,lambda_)\n",
    "print(f'w:{w}\\nloss:{loss}')"
   ]
  },
  {
   "cell_type": "code",
   "execution_count": null,
   "metadata": {},
   "outputs": [],
   "source": [
    "#LR\n",
    "initial_w=np.zeros(tX.shape[1])\n",
    "max_iters=300\n",
    "gamma=1e-9\n",
    "w,loss = logistic_regression(y,tX,initial_w,max_iters,gamma)\n",
    "print(f'w:{w}\\nloss:{loss}')"
   ]
  },
  {
   "cell_type": "code",
   "execution_count": 17,
   "metadata": {},
   "outputs": [
    {
     "name": "stdout",
     "output_type": "stream",
     "text": [
      "w:[ 2.26600697e-02 -2.68746639e-02  1.56197477e-02  9.33999980e-03\n",
      "  8.90385311e-03  8.45174582e-03  8.82654311e-03  1.60471727e-03\n",
      " -1.44673436e-03  1.22314172e-02 -1.77522520e-02  1.84109276e-02\n",
      "  8.88260276e-03  1.91508573e-02 -7.87004301e-05 -3.10086187e-04\n",
      " -3.14250044e-03  8.37097378e-05  2.89218577e-04 -6.66335362e-03\n",
      "  5.11345113e-04  1.08159822e-02  8.24004235e-03  1.00867162e-02\n",
      "  9.60159237e-03  9.60150377e-03  8.83911082e-03  8.87686082e-03\n",
      "  8.87621516e-03  1.14808594e-02]\n",
      "loss:0.6405330604643346\n"
     ]
    }
   ],
   "source": [
    "#RLR\n",
    "initial_w=np.zeros(tX.shape[1])\n",
    "max_iters=300\n",
    "gamma=1e-9\n",
    "lambda_=0.01\n",
    "w,loss = reg_logistic_regression(y,tX, lambda_, initial_w, max_iters,gamma)\n",
    "print(f'w:{w}\\nloss:{loss}')"
   ]
  },
  {
   "cell_type": "code",
   "execution_count": null,
   "metadata": {},
   "outputs": [],
   "source": []
  },
  {
   "cell_type": "markdown",
   "metadata": {},
   "source": [
    "## NO SPLIT"
   ]
  },
  {
   "cell_type": "code",
   "execution_count": 3,
   "metadata": {},
   "outputs": [
    {
     "name": "stdout",
     "output_type": "stream",
     "text": [
      "-------------------------NO_SPLIT---------------------------\n"
     ]
    }
   ],
   "source": [
    "print('-------------------------NO_SPLIT---------------------------')"
   ]
  },
  {
   "cell_type": "markdown",
   "metadata": {},
   "source": [
    "### Subsample\n"
   ]
  },
  {
   "cell_type": "code",
   "execution_count": 4,
   "metadata": {},
   "outputs": [
    {
     "name": "stdout",
     "output_type": "stream",
     "text": [
      "Subsample: 20\n",
      "\ttX shape:(12500, 30) y shape:(12500,)\n"
     ]
    }
   ],
   "source": [
    "#Subsample\n",
    "N=20\n",
    "y=y[::N]\n",
    "tX=tX[::N,:]\n",
    "print(f'Subsample: {N}\\n\\ttX shape:{tX.shape} y shape:{y.shape}')"
   ]
  },
  {
   "cell_type": "markdown",
   "metadata": {},
   "source": [
    "### Transform [-1,1] into [0,1]"
   ]
  },
  {
   "cell_type": "code",
   "execution_count": 5,
   "metadata": {},
   "outputs": [],
   "source": [
    "#we normalize the data ranging from [0,1] instead of [-1,1] since it is a binary prediction \n",
    "#and it fits the structure for the logistic regression\n",
    "#Transform y [-1,1] into [0,1]\n",
    "y = (y-min(y))/(max(y)-min(y))\n"
   ]
  },
  {
   "cell_type": "markdown",
   "metadata": {},
   "source": [
    "### Cleaning dataset"
   ]
  },
  {
   "cell_type": "markdown",
   "metadata": {
    "tags": []
   },
   "source": [
    "#### Remove columns containing over 39% of NULL values"
   ]
  },
  {
   "cell_type": "code",
   "execution_count": 6,
   "metadata": {},
   "outputs": [
    {
     "name": "stdout",
     "output_type": "stream",
     "text": [
      "NULL percentage is: 0.16\n",
      "NULL percentage is: 0.0\n",
      "NULL percentage is: 0.0\n",
      "NULL percentage is: 0.0\n",
      "NULL percentage is: 0.72\n",
      "NULL percentage is: 0.72\n",
      "NULL percentage is: 0.72\n",
      "NULL percentage is: 0.0\n",
      "NULL percentage is: 0.0\n",
      "NULL percentage is: 0.0\n",
      "NULL percentage is: 0.0\n",
      "NULL percentage is: 0.0\n",
      "NULL percentage is: 0.72\n",
      "NULL percentage is: 0.0\n",
      "NULL percentage is: 0.0\n",
      "NULL percentage is: 0.0\n",
      "NULL percentage is: 0.0\n",
      "NULL percentage is: 0.0\n",
      "NULL percentage is: 0.0\n",
      "NULL percentage is: 0.0\n",
      "NULL percentage is: 0.0\n",
      "NULL percentage is: 0.0\n",
      "NULL percentage is: 0.0\n",
      "NULL percentage is: 0.41\n",
      "NULL percentage is: 0.41\n",
      "NULL percentage is: 0.41\n",
      "NULL percentage is: 0.72\n",
      "NULL percentage is: 0.72\n",
      "NULL percentage is: 0.72\n",
      "NULL percentage is: 0.0\n"
     ]
    }
   ],
   "source": [
    "#remove the column contaning over a percentage of null values.\n",
    "percentage = 0.39\n",
    "remove_features=[]\n",
    "for i in range(tX.shape[1]):\n",
    "    col=tX[:,i]\n",
    "    total=col.shape[0]\n",
    "    counter_=collections.Counter(col)\n",
    "    nulls=counter_[-999]\n",
    "    null_percentage=round(nulls/total,2)\n",
    "    print(f'NULL percentage is: {null_percentage}')\n",
    "    if null_percentage>percentage:\n",
    "        remove_features.append(i)\n",
    "tX=np.delete(tX,remove_features,1)"
   ]
  },
  {
   "cell_type": "markdown",
   "metadata": {},
   "source": [
    "#### Removing outliers"
   ]
  },
  {
   "cell_type": "code",
   "execution_count": 7,
   "metadata": {},
   "outputs": [],
   "source": [
    "#remove the outliers in the code using the following formula and setting the outliers to the median\n",
    "k = 1\n",
    "for i in range(0,tX.shape[1]):\n",
    "    q1 = np.percentile(tX[:,i],25)\n",
    "    q2 = np.percentile(tX[:,i],50)\n",
    "    q3 = np.percentile(tX[:,i],75)\n",
    "    tX[:,i][(tX[:,i] < q1 - k*(q3-q1))] = q2\n",
    "    tX[:,i][(tX[:,i] > q3 + k*(q3-q1))] = q2"
   ]
  },
  {
   "cell_type": "markdown",
   "metadata": {},
   "source": [
    "#### Normalization of features\n"
   ]
  },
  {
   "cell_type": "code",
   "execution_count": 8,
   "metadata": {},
   "outputs": [],
   "source": [
    "#feature scaling by standardizing the dataset\n",
    "tX = standardize(tX)"
   ]
  },
  {
   "cell_type": "markdown",
   "metadata": {
    "jp-MarkdownHeadingCollapsed": true,
    "tags": []
   },
   "source": [
    "#### Remove less influent features"
   ]
  },
  {
   "cell_type": "code",
   "execution_count": 9,
   "metadata": {},
   "outputs": [
    {
     "name": "stdout",
     "output_type": "stream",
     "text": [
      "w:[ 0.11566407 -0.14630898  0.03587093 -0.0176847  -0.03335179 -0.01870645\n",
      " -0.00638124 -0.01842546  0.04752682  0.03948424 -0.00324505 -0.00239184\n",
      " -0.00489926  0.00303545  0.00267247 -0.00551165 -0.00527374  0.01081581\n",
      " -0.04106284  0.04869892]\n",
      "loss:0.13678588877421838\n",
      "w:[ 0.11566407 -0.14630898  0.03587093 -0.0176847  -0.03335179 -0.01870645\n",
      " -0.00638124 -0.01842546  0.04752682  0.03948424 -0.00324505 -0.00239184\n",
      " -0.00489926  0.00303545  0.00267247 -0.00551165 -0.00527374  0.01081581\n",
      " -0.04106284  0.04869892]\n",
      "\tshape:(20,)\n",
      "w:[ 0.11566407 -0.14630898  0.03587093 -0.0176847  -0.03335179 -0.01870645\n",
      " -0.00638124 -0.01842546  0.04752682  0.03948424 -0.00324505 -0.00239184\n",
      " -0.00489926  0.00303545  0.00267247 -0.00551165 -0.00527374  0.01081581\n",
      " -0.04106284  0.04869892]\n",
      "\tshape:(20,)\n"
     ]
    }
   ],
   "source": [
    "#Apply least squares\n",
    "threshold=1e-3\n",
    "w,loss = least_squares(y,tX)\n",
    "print(f'w:{w}\\nloss:{loss}')\n",
    "print(f'w:{w}\\n\\tshape:{w.shape}')\n",
    "w=w[np.abs(w)>=threshold]\n",
    "print(f'w:{w}\\n\\tshape:{w.shape}')\n"
   ]
  },
  {
   "cell_type": "markdown",
   "metadata": {
    "jp-MarkdownHeadingCollapsed": true,
    "tags": []
   },
   "source": [
    "### Logistic Cross Validation - Best degree, gamma, and if interaction is needed"
   ]
  },
  {
   "cell_type": "code",
   "execution_count": 10,
   "metadata": {},
   "outputs": [
    {
     "name": "stdout",
     "output_type": "stream",
     "text": [
      "0\n",
      "1\n",
      "2\n",
      "Best degree logistic: 2, best gamma logistic:3.5938136638046256e-05, interaction:True\n"
     ]
    }
   ],
   "source": [
    "degrees=np.arange(3)\n",
    "k_fold=4\n",
    "max_iters=100\n",
    "gammas=np.logspace(-10,0,10)\n",
    "interactions=[False,True]\n",
    "loss_tr_list=np.zeros((len(degrees),len(gammas),len(interactions)))\n",
    "loss_te_list=np.zeros((len(degrees),len(gammas),len(interactions)))\n",
    "\n",
    "for i,D in enumerate(degrees):\n",
    "    print(i)\n",
    "    for k,interaction in enumerate(interactions):\n",
    "        phi_x=build_poly(tX, D, interaction)\n",
    "        for j,gamma in enumerate(gammas):\n",
    "            #compute loss with cross-validation\n",
    "            loss_tr, loss_te=apply_cross_validation_logistic(y,phi_x,k_fold,max_iters,gamma,1)\n",
    "            loss_tr_list[i,j,k]=loss_tr\n",
    "            loss_te_list[i,j,k]=loss_te\n",
    "D_best_index, gamma_best_index, interaction_index=np.unravel_index(np.argmin(loss_te_list),loss_te_list.shape)\n",
    "gamma_best=gammas[gamma_best_index]\n",
    "D_best_logistic=degrees[D_best_index]\n",
    "interaction_logistic=interactions[interaction_index]\n",
    "print(f'Best degree logistic: {D_best_logistic}, best gamma logistic:{gamma_best}, interaction:{interaction_logistic}')"
   ]
  },
  {
   "cell_type": "markdown",
   "metadata": {},
   "source": [
    "### Cross Validation Ridge Regression - Best degree, lambda_m, and if interaction is needed"
   ]
  },
  {
   "cell_type": "code",
   "execution_count": 11,
   "metadata": {},
   "outputs": [
    {
     "name": "stdout",
     "output_type": "stream",
     "text": [
      "Degree:0\n",
      "Degree:1\n",
      "Degree:2\n",
      "Best degree ridge:2, best lambda_ ridge:0.0004641588833612782, interactions: True\n"
     ]
    }
   ],
   "source": [
    "degrees=np.arange(3)\n",
    "lambdas=np.logspace(-10,0,10)\n",
    "k_fold=4\n",
    "interactions=[False,True]\n",
    "rmse_tr_list=np.zeros((len(degrees),len(lambdas),len(interactions)))\n",
    "rmse_te_list=np.zeros((len(degrees),len(lambdas),len(interactions)))\n",
    "for i,D in enumerate(degrees):\n",
    "    print(f'Degree:{D}')\n",
    "    for k,interaction in enumerate(interactions):\n",
    "        phi_x=build_poly(tX, D, interaction)\n",
    "        for j,lambda_ in enumerate(lambdas):\n",
    "            #compute loss with cross-validation\n",
    "            rmse_tr, rmse_te=apply_cross_validation(y,phi_x,k_fold,D,lambda_,1)\n",
    "            rmse_tr_list[i,j,k]=rmse_tr\n",
    "            rmse_te_list[i,j,k]=rmse_te\n",
    "D_best_index,lambda_best_index,interaction_index=np.unravel_index(np.argmin(rmse_te_list),rmse_te_list.shape)\n",
    "D_best_ridge=degrees[D_best_index]\n",
    "lambda_best_ridge=lambdas[lambda_best_index]\n",
    "interaction_ridge=interactions[interaction_index]\n",
    "print(f'Best degree ridge:{D_best_ridge}, best lambda_ ridge:{lambda_best_ridge}, interactions: {interaction_ridge}')"
   ]
  },
  {
   "cell_type": "markdown",
   "metadata": {},
   "source": [
    "### Testing accuracy (ridge-regression vs logistic)"
   ]
  },
  {
   "cell_type": "code",
   "execution_count": 12,
   "metadata": {},
   "outputs": [
    {
     "name": "stdout",
     "output_type": "stream",
     "text": [
      "Accuracy ridge:0.8136 Accuracy logistic:0.80288\n"
     ]
    }
   ],
   "source": [
    "#Re-transform y data\n",
    "y_act=y*2-1\n",
    "\n",
    "#Ridge\n",
    "phi_tX_ridge=build_poly(tX,D_best_ridge,interaction_ridge)\n",
    "w_ridge,_=ridge_regression(y,phi_tX_ridge,lambda_best_ridge)\n",
    "y_pred_ridge=predict_labels(w_ridge,phi_tX_ridge)\n",
    "accuracy_ridge=accuracy(y_pred_ridge,y_act)\n",
    "#Logistic\n",
    "phi_tX_logistic=build_poly(tX, D_best_logistic, interaction_logistic)\n",
    "w_initial=np.zeros(phi_tX_logistic.shape[1])\n",
    "max_iters=100\n",
    "w_logistic,loss_logistic=logistic_regression(y,phi_tX_logistic,w_initial,max_iters,gamma_best)\n",
    "y_pred_logistic=predict_labels(w_logistic,phi_tX_logistic,logistic=True)\n",
    "accuracy_logistic=accuracy(y_pred_logistic,y_act)\n",
    "print(f'Accuracy ridge:{accuracy_ridge} Accuracy logistic:{accuracy_logistic}')"
   ]
  },
  {
   "cell_type": "markdown",
   "metadata": {
    "tags": []
   },
   "source": [
    "### Generate predictions and save ouput in csv format for submission:"
   ]
  },
  {
   "cell_type": "code",
   "execution_count": 13,
   "metadata": {
    "collapsed": false,
    "jupyter": {
     "outputs_hidden": false
    }
   },
   "outputs": [],
   "source": [
    "DATA_TEST_PATH = '../data/test.csv'\n",
    "_, tX_test, ids_test = load_csv_data(DATA_TEST_PATH)\n",
    "tX_test=np.delete(tX_test,remove_features,1)\n",
    "tX_test= standardize(tX_test)"
   ]
  },
  {
   "cell_type": "code",
   "execution_count": 14,
   "metadata": {},
   "outputs": [],
   "source": [
    "tX_test_ridge=build_poly(tX_test,D_best_ridge,interaction_ridge)\n",
    "weights=w_ridge\n",
    "OUTPUT_PATH = 'output_ridge_NO_SPLIT.csv' # TODO: fill in desired name of output file for submission\n",
    "y_pred = predict_labels(weights, tX_test_ridge)\n",
    "create_csv_submission(ids_test, y_pred, OUTPUT_PATH)"
   ]
  },
  {
   "cell_type": "code",
   "execution_count": 15,
   "metadata": {
    "collapsed": false,
    "jupyter": {
     "outputs_hidden": false
    }
   },
   "outputs": [],
   "source": [
    "tX_test_logistic=build_poly(tX_test,D_best_logistic,interaction_logistic)\n",
    "weights=w_logistic\n",
    "OUTPUT_PATH = 'output_logistic_NO_SPLIT.csv' # TODO: fill in desired name of output file for submission\n",
    "y_pred = predict_labels(weights, tX_test_logistic, logistic=True)\n",
    "create_csv_submission(ids_test, y_pred, OUTPUT_PATH)"
   ]
  },
  {
   "cell_type": "markdown",
   "metadata": {},
   "source": [
    "## SPLIT"
   ]
  },
  {
   "cell_type": "code",
   "execution_count": 16,
   "metadata": {},
   "outputs": [
    {
     "name": "stdout",
     "output_type": "stream",
     "text": [
      "-----------------------SPLIT---------------------------\n"
     ]
    }
   ],
   "source": [
    "print('-----------------------SPLIT---------------------------')"
   ]
  },
  {
   "cell_type": "markdown",
   "metadata": {},
   "source": [
    "### Re-import data "
   ]
  },
  {
   "cell_type": "code",
   "execution_count": 17,
   "metadata": {},
   "outputs": [],
   "source": [
    "from proj1_helpers import *\n",
    "DATA_TRAIN_PATH = '../data/train.csv'\n",
    "y, tX, ids = load_csv_data(DATA_TRAIN_PATH)"
   ]
  },
  {
   "cell_type": "markdown",
   "metadata": {},
   "source": [
    "### Transform [-1,1] into [0,1]"
   ]
  },
  {
   "cell_type": "code",
   "execution_count": 18,
   "metadata": {},
   "outputs": [],
   "source": [
    "#Transform y [-1,1] into [0,1]\n",
    "y = (y-min(y))/(max(y)-min(y))"
   ]
  },
  {
   "cell_type": "markdown",
   "metadata": {},
   "source": [
    "### Subsample"
   ]
  },
  {
   "cell_type": "code",
   "execution_count": 19,
   "metadata": {},
   "outputs": [
    {
     "name": "stdout",
     "output_type": "stream",
     "text": [
      "Subsample: 20\n",
      "\ttX shape:(12500, 30) y shape:(12500,)\n"
     ]
    }
   ],
   "source": [
    "#Subsample\n",
    "N=20\n",
    "y=y[::N]\n",
    "tX=tX[::N,:]\n",
    "print(f'Subsample: {N}\\n\\ttX shape:{tX.shape} y shape:{y.shape}')"
   ]
  },
  {
   "cell_type": "markdown",
   "metadata": {},
   "source": [
    "### Split dataset"
   ]
  },
  {
   "cell_type": "code",
   "execution_count": 20,
   "metadata": {},
   "outputs": [
    {
     "name": "stdout",
     "output_type": "stream",
     "text": [
      "tX_0 shape: (5108, 19)\n",
      "y_0 shape: (5108,)\n",
      "tX_1 shape: (3898, 22)\n",
      "y_1 shape: (3898,)\n",
      "tX_2 shape: (2407, 29)\n",
      "y_2 shape: (2407,)\n",
      "tX_3 shape: (1087, 29)\n",
      "y_3 shape: (1087,)\n"
     ]
    }
   ],
   "source": [
    "tX_list,y_list=split_data(tX, y)"
   ]
  },
  {
   "cell_type": "markdown",
   "metadata": {},
   "source": [
    "### Logistic Cross Validation - Best degree, gamma, and if interaction is needed"
   ]
  },
  {
   "cell_type": "code",
   "execution_count": 21,
   "metadata": {},
   "outputs": [
    {
     "name": "stdout",
     "output_type": "stream",
     "text": [
      "Logistic Cross Validation:\n",
      "\t-tX_0 iteration\n",
      "\t\tDegree: 0\n",
      "\t\tDegree: 1\n",
      "\t\tDegree: 2\n",
      "\t\ttX_0 Best degree logistic: 2, best gamma logistic:3.5938136638046256e-05, interaction:True\n",
      "\t-tX_1 iteration\n",
      "\t\tDegree: 0\n",
      "\t\tDegree: 1\n",
      "\t\tDegree: 2\n",
      "\t\ttX_1 Best degree logistic: 2, best gamma logistic:3.5938136638046256e-05, interaction:True\n",
      "\t-tX_2 iteration\n",
      "\t\tDegree: 0\n",
      "\t\tDegree: 1\n",
      "\t\tDegree: 2\n",
      "\t\ttX_2 Best degree logistic: 2, best gamma logistic:3.5938136638046256e-05, interaction:True\n",
      "\t-tX_3 iteration\n",
      "\t\tDegree: 0\n",
      "\t\tDegree: 1\n",
      "\t\tDegree: 2\n",
      "\t\ttX_3 Best degree logistic: 2, best gamma logistic:0.0004641588833612782, interaction:False\n"
     ]
    }
   ],
   "source": [
    "# Logistic Cross Validation - Best degree, gamma, and if interaction is needed\n",
    "print('Logistic Cross Validation:')\n",
    "degrees=np.arange(3)\n",
    "k_fold=4\n",
    "max_iters=100\n",
    "gammas=np.logspace(-10,0,10)\n",
    "interactions=[False,True]\n",
    "tX_results_list_logistic=[]\n",
    "for h,x in enumerate(tX_list):\n",
    "    loss_tr_list=np.zeros((len(degrees),len(gammas),len(interactions)))\n",
    "    loss_te_list=np.zeros((len(degrees),len(gammas),len(interactions)))\n",
    "    print(f'\\t-tX_{h} iteration')\n",
    "    for i,D in enumerate(degrees):\n",
    "        print(f'\\t\\tDegree: {i}')\n",
    "        for k,interaction in enumerate(interactions):\n",
    "            phi_x=build_poly(x, D, interaction)\n",
    "            for j,gamma in enumerate(gammas):\n",
    "                #compute loss with cross-validation\n",
    "                loss_tr, loss_te=apply_cross_validation_logistic(y_list[h],phi_x,k_fold,max_iters,gamma,1)\n",
    "                loss_tr_list[i,j,k]=loss_tr\n",
    "                loss_te_list[i,j,k]=loss_te\n",
    "    D_best_index, gamma_best_index, interaction_index=np.unravel_index(np.argmin(loss_te_list),loss_te_list.shape)\n",
    "    gamma_best=gammas[gamma_best_index]\n",
    "    D_best_logistic=degrees[D_best_index]\n",
    "    interaction_logistic=interactions[interaction_index]\n",
    "    print(f'\\t\\ttX_{h} Best degree logistic: {D_best_logistic}, best gamma logistic:{gamma_best}, interaction:{interaction_logistic}')\n",
    "    tX_results_list_logistic.append({'D_best':D_best_logistic,'gamma_best':gamma_best,'interaction':interaction_logistic})"
   ]
  },
  {
   "cell_type": "markdown",
   "metadata": {},
   "source": [
    "### Cross Validation Ridge Regression - Best degree, lambda_m, and if interaction is needed\n"
   ]
  },
  {
   "cell_type": "code",
   "execution_count": 22,
   "metadata": {},
   "outputs": [
    {
     "name": "stdout",
     "output_type": "stream",
     "text": [
      "Ridge Regression Cross Validation:\n",
      "\t- tX_0 iteration\n",
      "\t\tDegree: 0\n",
      "\t\tDegree: 1\n",
      "\t\tDegree: 2\n",
      "\t\ttX_0 Best degree ridge:2, best lambda_ ridge:0.0004641588833612782, interactions: True\n",
      "\t- tX_1 iteration\n",
      "\t\tDegree: 0\n",
      "\t\tDegree: 1\n",
      "\t\tDegree: 2\n",
      "\t\ttX_1 Best degree ridge:2, best lambda_ ridge:0.07742636826811278, interactions: True\n",
      "\t- tX_2 iteration\n",
      "\t\tDegree: 0\n",
      "\t\tDegree: 1\n",
      "\t\tDegree: 2\n",
      "\t\ttX_2 Best degree ridge:2, best lambda_ ridge:0.0004641588833612782, interactions: False\n",
      "\t- tX_3 iteration\n",
      "\t\tDegree: 0\n",
      "\t\tDegree: 1\n",
      "\t\tDegree: 2\n",
      "\t\ttX_3 Best degree ridge:1, best lambda_ ridge:0.005994842503189421, interactions: False\n"
     ]
    }
   ],
   "source": [
    "print('Ridge Regression Cross Validation:')\n",
    "degrees=np.arange(3)\n",
    "lambdas=np.logspace(-10,0,10)\n",
    "k_fold=4\n",
    "interactions=[False,True]\n",
    "tX_results_list_ridge=[]\n",
    "for h,x in enumerate(tX_list):\n",
    "    rmse_tr_list=np.zeros((len(degrees),len(lambdas),len(interactions)))\n",
    "    rmse_te_list=np.zeros((len(degrees),len(lambdas),len(interactions)))\n",
    "    print(f'\\t- tX_{h} iteration')\n",
    "    for i,D in enumerate(degrees):\n",
    "        print(f'\\t\\tDegree: {D}')\n",
    "        for k,interaction in enumerate(interactions):\n",
    "            phi_x=build_poly(x, D, interaction)\n",
    "            for j,lambda_ in enumerate(lambdas):\n",
    "                #compute loss with cross-validation\n",
    "                rmse_tr, rmse_te=apply_cross_validation(y_list[h],phi_x,k_fold,D,lambda_,1)\n",
    "                rmse_tr_list[i,j,k]=rmse_tr\n",
    "                rmse_te_list[i,j,k]=rmse_te\n",
    "    D_best_index,lambda_best_index,interaction_index=np.unravel_index(np.argmin(rmse_te_list),rmse_te_list.shape)\n",
    "    D_best_ridge=degrees[D_best_index]\n",
    "    lambda_best_ridge=lambdas[lambda_best_index]\n",
    "    interaction_ridge=interactions[interaction_index]\n",
    "    print(f'\\t\\ttX_{h} Best degree ridge:{D_best_ridge}, best lambda_ ridge:{lambda_best_ridge}, interactions: {interaction_ridge}')\n",
    "    tX_results_list_ridge.append({'D_best':D_best_ridge,'lambda_best':lambda_best_ridge,'interaction':interaction_ridge})"
   ]
  },
  {
   "cell_type": "markdown",
   "metadata": {},
   "source": [
    "### Ridge Regression and Logistic accuracy on train data\n"
   ]
  },
  {
   "cell_type": "code",
   "execution_count": 23,
   "metadata": {},
   "outputs": [
    {
     "name": "stdout",
     "output_type": "stream",
     "text": [
      "tX_0 -- Accuracy ridge:0.8418167580266249 Accuracy logistic:0.8386844166014096\n",
      "tX_1 -- Accuracy ridge:0.8081067213955875 Accuracy logistic:0.818881477680862\n",
      "tX_2 -- Accuracy ridge:0.7980889073535521 Accuracy logistic:0.8550062318238472\n",
      "tX_3 -- Accuracy ridge:0.812327506899724 Accuracy logistic:0.84360625574977\n"
     ]
    }
   ],
   "source": [
    "weights_ridge=[]\n",
    "weights_logistic=[]\n",
    "for i,x in enumerate(tX_list):\n",
    "    D_best_ridge=tX_results_list_ridge[i]['D_best']\n",
    "    interaction_ridge=tX_results_list_ridge[i]['interaction']\n",
    "    lambda_best_ridge=tX_results_list_ridge[i]['lambda_best']\n",
    "\n",
    "    D_best_logistic=tX_results_list_logistic[i]['D_best']\n",
    "    interaction_logistic=tX_results_list_logistic[i]['interaction']\n",
    "    gamma_best=tX_results_list_logistic[i]['gamma_best']\n",
    "    #Re-transform y data\n",
    "    y_act=y_list[i]*2-1\n",
    "    #Ridge\n",
    "    phi_x_ridge=build_poly(x,D_best_ridge,interaction_ridge)\n",
    "    w_ridge,_=ridge_regression(y_list[i],phi_x_ridge,lambda_best_ridge)\n",
    "    weights_ridge.append(w_ridge)\n",
    "    y_pred_ridge=predict_labels(w_ridge,phi_x_ridge)\n",
    "    accuracy_ridge=accuracy(y_pred_ridge,y_act)\n",
    "    #Logistic\n",
    "    phi_x_logistic=build_poly(x, D_best_logistic, interaction_logistic)\n",
    "    w_initial=np.zeros(phi_x_logistic.shape[1])\n",
    "    max_iters=100\n",
    "    w_logistic,loss_logistic=logistic_regression(y_list[i],phi_x_logistic,w_initial,max_iters,gamma_best)\n",
    "    weights_logistic.append(w_logistic)\n",
    "    y_pred_logistic=predict_labels(w_logistic,phi_x_logistic,logistic=True)\n",
    "    accuracy_logistic=accuracy(y_pred_logistic,y_act)\n",
    "    print(f'tX_{i} -- Accuracy ridge:{accuracy_ridge} Accuracy logistic:{accuracy_logistic}')"
   ]
  },
  {
   "cell_type": "markdown",
   "metadata": {},
   "source": [
    "### Generate predictions and save ouput in csv format for submission:\n"
   ]
  },
  {
   "cell_type": "code",
   "execution_count": 24,
   "metadata": {},
   "outputs": [],
   "source": [
    "DATA_TEST_PATH = '../data/test.csv'\n",
    "_, tX_test, ids_test = load_csv_data(DATA_TEST_PATH)"
   ]
  },
  {
   "cell_type": "code",
   "execution_count": 26,
   "metadata": {},
   "outputs": [],
   "source": [
    "#dummy predict for obtaining y_pred vector\n",
    "w_dummy=np.zeros(tX_test.shape[1])\n",
    "y_pred=predict_labels(w_dummy,tX_test)\n",
    "tX_test_list,_=split_data(tX_test,y_pred,ignore_y=True,print_=False)"
   ]
  },
  {
   "cell_type": "code",
   "execution_count": 27,
   "metadata": {},
   "outputs": [],
   "source": [
    "#Ridge submission\n",
    "for i,x in enumerate(tX_results_list_ridge):\n",
    "    D_best_ridge=tX_results_list_ridge[i]['D_best']\n",
    "    interaction_ridge=tX_results_list_ridge[i]['interaction']\n",
    "    lambda_best_ridge=tX_results_list_ridge[i]['lambda_best']\n",
    "\n",
    "    tX_test_ridge=build_poly(tX_test_list[i],D_best_ridge,interaction_ridge)\n",
    "    weights=weights_ridge[i]\n",
    "    y_pred[tX_test[:,22]==i] = predict_labels(weights, tX_test_ridge)\n",
    "\n",
    "OUTPUT_PATH = 'output_ridge_SPLIT.csv' # TODO: fill in desired name of output file for submission\n",
    "create_csv_submission(ids_test, y_pred, OUTPUT_PATH)"
   ]
  },
  {
   "cell_type": "code",
   "execution_count": 28,
   "metadata": {},
   "outputs": [],
   "source": [
    "#Logistic submission\n",
    "for i,x in enumerate(tX_results_list_logistic):\n",
    "    D_best_logistic=tX_results_list_logistic[i]['D_best']\n",
    "    interaction_logistic=tX_results_list_logistic[i]['interaction']\n",
    "    gamma_best=tX_results_list_logistic[i]['gamma_best']\n",
    "\n",
    "    tX_test_logistic=build_poly(tX_test_list[i],D_best_logistic,interaction_logistic)\n",
    "    weights=weights_logistic[i]\n",
    "    y_pred[tX_test[:,22]==i]=predict_labels(weights,tX_test_logistic, logistic=True)\n",
    "    \n",
    "OUTPUT_PATH = 'output_logistic_SPLIT.csv' # TODO: fill in desired name of output file for submission\n",
    "create_csv_submission(ids_test, y_pred, OUTPUT_PATH)"
   ]
  }
 ],
 "metadata": {
  "anaconda-cloud": {},
  "interpreter": {
   "hash": "769d560f7a9260275cfba8eac8dfb7a8ebd643a4b3237d9fce15021d62ac6fd5"
  },
  "kernelspec": {
   "display_name": "Python 3.8.8 64-bit ('base': conda)",
   "name": "python3"
  },
  "language_info": {
   "codemirror_mode": {
    "name": "ipython",
    "version": 3
   },
   "file_extension": ".py",
   "mimetype": "text/x-python",
   "name": "python",
   "nbconvert_exporter": "python",
   "pygments_lexer": "ipython3",
   "version": "3.7.11"
  }
 },
 "nbformat": 4,
 "nbformat_minor": 4
}
