{
 "cells": [
  {
   "cell_type": "code",
   "execution_count": 89,
   "metadata": {
    "tags": []
   },
   "outputs": [
    {
     "name": "stdout",
     "output_type": "stream",
     "text": [
      "The autoreload extension is already loaded. To reload it, use:\n",
      "  %reload_ext autoreload\n"
     ]
    }
   ],
   "source": [
    "# Useful starting lines\n",
    "%matplotlib inline\n",
    "import numpy as np\n",
    "import matplotlib.pyplot as plt\n",
    "import collections\n",
    "%load_ext autoreload\n",
    "%autoreload 2"
   ]
  },
  {
   "cell_type": "code",
   "execution_count": null,
   "metadata": {},
   "outputs": [],
   "source": []
  },
  {
   "cell_type": "markdown",
   "metadata": {},
   "source": [
    "## Load the training data into feature matrix, class labels, and event ids:"
   ]
  },
  {
   "cell_type": "code",
   "execution_count": 90,
   "metadata": {
    "collapsed": false,
    "jupyter": {
     "outputs_hidden": false
    }
   },
   "outputs": [],
   "source": [
    "from proj1_helpers import *\n",
    "DATA_TRAIN_PATH = '../data/train.csv'\n",
    "y, tX, ids = load_csv_data(DATA_TRAIN_PATH)"
   ]
  },
  {
   "cell_type": "code",
   "execution_count": 91,
   "metadata": {},
   "outputs": [],
   "source": [
    "from implementations import *"
   ]
  },
  {
   "cell_type": "markdown",
   "metadata": {
    "tags": []
   },
   "source": [
    "## Do your thing crazy machine learning thing here :) ..."
   ]
  },
  {
   "cell_type": "markdown",
   "metadata": {
    "jp-MarkdownHeadingCollapsed": true,
    "tags": []
   },
   "source": [
    "### Testing functions"
   ]
  },
  {
   "cell_type": "code",
   "execution_count": 17,
   "metadata": {},
   "outputs": [
    {
     "ename": "ValueError",
     "evalue": "operands could not be broadcast together with shapes (250000,31) (250000,) ",
     "output_type": "error",
     "traceback": [
      "\u001b[0;31m---------------------------------------------------------------------------\u001b[0m",
      "\u001b[0;31mValueError\u001b[0m                                Traceback (most recent call last)",
      "\u001b[0;32m/var/folders/7g/2ds3y3yd6319x1125r61pg1c0000gn/T/ipykernel_756/1391390215.py\u001b[0m in \u001b[0;36m<module>\u001b[0;34m\u001b[0m\n\u001b[1;32m      3\u001b[0m \u001b[0mmax_iters\u001b[0m\u001b[0;34m=\u001b[0m\u001b[0;36m50\u001b[0m\u001b[0;34m\u001b[0m\u001b[0;34m\u001b[0m\u001b[0m\n\u001b[1;32m      4\u001b[0m \u001b[0mgamma\u001b[0m\u001b[0;34m=\u001b[0m\u001b[0;36m1e-1\u001b[0m\u001b[0;34m\u001b[0m\u001b[0;34m\u001b[0m\u001b[0m\n\u001b[0;32m----> 5\u001b[0;31m \u001b[0mw\u001b[0m\u001b[0;34m,\u001b[0m\u001b[0mloss\u001b[0m \u001b[0;34m=\u001b[0m \u001b[0mleast_squares_GD\u001b[0m\u001b[0;34m(\u001b[0m\u001b[0my\u001b[0m\u001b[0;34m,\u001b[0m\u001b[0mtX\u001b[0m\u001b[0;34m,\u001b[0m\u001b[0minitial_w\u001b[0m\u001b[0;34m,\u001b[0m\u001b[0mmax_iters\u001b[0m\u001b[0;34m,\u001b[0m\u001b[0mgamma\u001b[0m\u001b[0;34m)\u001b[0m\u001b[0;34m\u001b[0m\u001b[0;34m\u001b[0m\u001b[0m\n\u001b[0m\u001b[1;32m      6\u001b[0m \u001b[0mprint\u001b[0m\u001b[0;34m(\u001b[0m\u001b[0;34mf'w:{w}\\nloss:{loss}'\u001b[0m\u001b[0;34m)\u001b[0m\u001b[0;34m\u001b[0m\u001b[0;34m\u001b[0m\u001b[0m\n",
      "\u001b[0;32m~/Documents/school/ML/ml-project-1-ml_ssg/scripts/implementations.py\u001b[0m in \u001b[0;36mleast_squares_GD\u001b[0;34m(y, tx, initial_w, max_iters, gamma)\u001b[0m\n\u001b[1;32m    130\u001b[0m     \u001b[0;32mfor\u001b[0m \u001b[0mn_iter\u001b[0m \u001b[0;32min\u001b[0m \u001b[0mrange\u001b[0m\u001b[0;34m(\u001b[0m\u001b[0mmax_iters\u001b[0m\u001b[0;34m)\u001b[0m\u001b[0;34m:\u001b[0m\u001b[0;34m\u001b[0m\u001b[0;34m\u001b[0m\u001b[0m\n\u001b[1;32m    131\u001b[0m         \u001b[0;31m# compute gradient\u001b[0m\u001b[0;34m\u001b[0m\u001b[0;34m\u001b[0m\u001b[0;34m\u001b[0m\u001b[0m\n\u001b[0;32m--> 132\u001b[0;31m         \u001b[0mgrad\u001b[0m\u001b[0;34m,\u001b[0m \u001b[0merr\u001b[0m \u001b[0;34m=\u001b[0m \u001b[0mcompute_gradient\u001b[0m\u001b[0;34m(\u001b[0m\u001b[0my\u001b[0m\u001b[0;34m,\u001b[0m \u001b[0mtx\u001b[0m\u001b[0;34m,\u001b[0m \u001b[0mw\u001b[0m\u001b[0;34m)\u001b[0m\u001b[0;34m\u001b[0m\u001b[0;34m\u001b[0m\u001b[0m\n\u001b[0m\u001b[1;32m    133\u001b[0m         \u001b[0;31m# gradient w update\u001b[0m\u001b[0;34m\u001b[0m\u001b[0;34m\u001b[0m\u001b[0;34m\u001b[0m\u001b[0m\n\u001b[1;32m    134\u001b[0m         \u001b[0mw\u001b[0m \u001b[0;34m=\u001b[0m \u001b[0mw\u001b[0m \u001b[0;34m-\u001b[0m \u001b[0mgamma\u001b[0m \u001b[0;34m*\u001b[0m \u001b[0mgrad\u001b[0m\u001b[0;34m\u001b[0m\u001b[0;34m\u001b[0m\u001b[0m\n",
      "\u001b[0;32m~/Documents/school/ML/ml-project-1-ml_ssg/scripts/implementations.py\u001b[0m in \u001b[0;36mcompute_gradient\u001b[0;34m(y, tx, w)\u001b[0m\n\u001b[1;32m     10\u001b[0m \u001b[0;32mdef\u001b[0m \u001b[0mcompute_gradient\u001b[0m\u001b[0;34m(\u001b[0m\u001b[0my\u001b[0m\u001b[0;34m,\u001b[0m \u001b[0mtx\u001b[0m\u001b[0;34m,\u001b[0m \u001b[0mw\u001b[0m\u001b[0;34m)\u001b[0m\u001b[0;34m:\u001b[0m\u001b[0;34m\u001b[0m\u001b[0;34m\u001b[0m\u001b[0m\n\u001b[1;32m     11\u001b[0m    \u001b[0;31m#Compute the gradients\u001b[0m\u001b[0;34m\u001b[0m\u001b[0;34m\u001b[0m\u001b[0;34m\u001b[0m\u001b[0m\n\u001b[0;32m---> 12\u001b[0;31m     \u001b[0merr\u001b[0m \u001b[0;34m=\u001b[0m \u001b[0my\u001b[0m \u001b[0;34m-\u001b[0m \u001b[0mtx\u001b[0m\u001b[0;34m.\u001b[0m\u001b[0mdot\u001b[0m\u001b[0;34m(\u001b[0m\u001b[0mw\u001b[0m\u001b[0;34m)\u001b[0m\u001b[0;34m\u001b[0m\u001b[0;34m\u001b[0m\u001b[0m\n\u001b[0m\u001b[1;32m     13\u001b[0m     \u001b[0mgrad\u001b[0m \u001b[0;34m=\u001b[0m \u001b[0;34m-\u001b[0m\u001b[0mtx\u001b[0m\u001b[0;34m.\u001b[0m\u001b[0mT\u001b[0m\u001b[0;34m.\u001b[0m\u001b[0mdot\u001b[0m\u001b[0;34m(\u001b[0m\u001b[0merr\u001b[0m\u001b[0;34m)\u001b[0m \u001b[0;34m/\u001b[0m \u001b[0mlen\u001b[0m\u001b[0;34m(\u001b[0m\u001b[0merr\u001b[0m\u001b[0;34m)\u001b[0m\u001b[0;34m\u001b[0m\u001b[0;34m\u001b[0m\u001b[0m\n\u001b[1;32m     14\u001b[0m     \u001b[0;32mreturn\u001b[0m \u001b[0mgrad\u001b[0m\u001b[0;34m,\u001b[0m \u001b[0merr\u001b[0m\u001b[0;34m\u001b[0m\u001b[0;34m\u001b[0m\u001b[0m\n",
      "\u001b[0;31mValueError\u001b[0m: operands could not be broadcast together with shapes (250000,31) (250000,) "
     ]
    }
   ],
   "source": [
    "#GD\n",
    "initial_w=np.zeros(tX.shape[1])\n",
    "max_iters=50\n",
    "gamma=1e-1\n",
    "w,loss = least_squares_GD(y,tX,initial_w,max_iters,gamma)\n",
    "print(f'w:{w}\\nloss:{loss}')"
   ]
  },
  {
   "cell_type": "code",
   "execution_count": null,
   "metadata": {},
   "outputs": [],
   "source": [
    "#SDG\n",
    "initial_w=np.zeros(tX.shape[1])\n",
    "max_iters=20\n",
    "gamma=1e-4\n",
    "w,loss = least_squares_SGD(y,tX,initial_w,max_iters,gamma)\n",
    "print(f'w:{w}\\nloss:{loss}')"
   ]
  },
  {
   "cell_type": "code",
   "execution_count": null,
   "metadata": {},
   "outputs": [],
   "source": [
    "#LS\n",
    "w,loss = least_squares(y,tX)\n",
    "print(f'w:{w}\\nloss:{loss}')"
   ]
  },
  {
   "cell_type": "code",
   "execution_count": null,
   "metadata": {},
   "outputs": [],
   "source": [
    "#RR\n",
    "lambda_=0.1\n",
    "w,loss = ridge_regression(y,tX,lambda_)\n",
    "print(f'w:{w}\\nloss:{loss}')"
   ]
  },
  {
   "cell_type": "code",
   "execution_count": null,
   "metadata": {},
   "outputs": [],
   "source": [
    "#LR\n",
    "initial_w=np.zeros(tX.shape[1])\n",
    "max_iters=300\n",
    "gamma=1e-9\n",
    "w,loss = logistic_regression(y,tX,initial_w,max_iters,gamma)\n",
    "print(f'w:{w}\\nloss:{loss}')"
   ]
  },
  {
   "cell_type": "code",
   "execution_count": null,
   "metadata": {},
   "outputs": [],
   "source": [
    "#RLR\n",
    "initial_w=np.zeros(tX.shape[1])\n",
    "max_iters=300\n",
    "gamma=1e-9\n",
    "lambda_=0.01\n",
    "w,loss = reg_logistic_regression(y,tX, lambda_, initial_w, max_iters,gamma)\n",
    "print(f'w:{w}\\nloss:{loss}')"
   ]
  },
  {
   "cell_type": "markdown",
   "metadata": {},
   "source": [
    "### Cleaning dataset"
   ]
  },
  {
   "cell_type": "markdown",
   "metadata": {},
   "source": [
    "#### Transform [-1,1] into [0,1]"
   ]
  },
  {
   "cell_type": "code",
   "execution_count": 92,
   "metadata": {},
   "outputs": [],
   "source": [
    "#tX[:,:][tX[:,:] == -999] = 0\n",
    "#we could normalize the data ranging from [0,1] since its binary prediction\",\n",
    "y[:,0] = (y[:,0]-min(y[:,0]))/(max(y[:,0])-min(y[:,0]))"
   ]
  },
  {
   "cell_type": "markdown",
   "metadata": {
    "tags": []
   },
   "source": [
    "### Remove columns containing over 50% of NULL values"
   ]
  },
  {
   "cell_type": "code",
   "execution_count": 12,
   "metadata": {
    "jupyter": {
     "source_hidden": true
    },
    "tags": []
   },
   "outputs": [
    {
     "data": {
      "text/plain": [
       "\"remove_features=[]\\nfor i in range(tX.shape[1]):\\n    col=tX[:,i]\\n    total=col.shape[0]\\n    counter_=collections.Counter(col)\\n    nulls=counter_[-999]\\n    null_percentage=round(nulls/total,2)\\n    print(f'NULL percentage is: {null_percentage}')\\n    if null_percentage>0.5:\\n        remove_features.append(i)\\ntX=np.delete(tX,remove_features,1)\""
      ]
     },
     "execution_count": 12,
     "metadata": {},
     "output_type": "execute_result"
    }
   ],
   "source": [
    "\"\"\"remove_features=[]\n",
    "for i in range(tX.shape[1]):\n",
    "    col=tX[:,i]\n",
    "    total=col.shape[0]\n",
    "    counter_=collections.Counter(col)\n",
    "    nulls=counter_[-999]\n",
    "    null_percentage=round(nulls/total,2)\n",
    "    print(f'NULL percentage is: {null_percentage}')\n",
    "    if null_percentage>0.5:\n",
    "        remove_features.append(i)\n",
    "tX=np.delete(tX,remove_features,1)\"\"\""
   ]
  },
  {
   "cell_type": "code",
   "execution_count": 13,
   "metadata": {},
   "outputs": [
    {
     "data": {
      "text/plain": [
       "\"remove_features=[]\\nfor i in range(tX.shape[1]):\\n    col=tX[:,i]\\n    total=col.shape[0]\\n    counter_=collections.Counter(col)\\n    nulls=counter_[-999]\\n    null_percentage=round(nulls/total,2)\\n    print(f'NULL percentage is: {null_percentage}')\\n    if null_percentage>0.5:\\n        remove_features.append(i)\\ntX=np.delete(tX,remove_features,1)\""
      ]
     },
     "execution_count": 13,
     "metadata": {},
     "output_type": "execute_result"
    }
   ],
   "source": [
    "\"\"\"remove_features=[]\n",
    "for i in range(tX.shape[1]):\n",
    "    col=tX[:,i]\n",
    "    total=col.shape[0]\n",
    "    counter_=collections.Counter(col)\n",
    "    nulls=counter_[-999]\n",
    "    null_percentage=round(nulls/total,2)\n",
    "    print(f'NULL percentage is: {null_percentage}')\n",
    "    if null_percentage>0.5:\n",
    "        remove_features.append(i)\n",
    "tX=np.delete(tX,remove_features,1)\"\"\""
   ]
  },
  {
   "cell_type": "markdown",
   "metadata": {
    "tags": []
   },
   "source": [
    "### Split train set into three sets according to category of jet_num (lot of column depend on this column so splitting will ensure better accuracy!!)"
   ]
  },
  {
   "cell_type": "code",
   "execution_count": 93,
   "metadata": {},
   "outputs": [],
   "source": [
    "tX_0 = tX[:,:][(tX[:,22] == 0)]\n",
    "tX_1 = tX[:,:][(tX[:,22] == 1)]\n",
    "tX_2 = tX[:,:][(tX[:,22] >= 2)]\n",
    "\n",
    "col_to_delete = []\n",
    "for j in range(0,tX.shape[1]):\n",
    "    if np.all(tX_0[:,j]==-999):   \n",
    "        col_to_delete.append(j)   \n",
    "tX_0 = np.delete(tX_0,col_to_delete,1)\n",
    "\n",
    "col_to_delete = []\n",
    "for j in range(0,tX.shape[1]):\n",
    "    if np.all(tX_1[:,j]==-999):  \n",
    "        col_to_delete.append(j)\n",
    "tX_1 = np.delete(tX_1,col_to_delete,1)\n",
    " \n",
    "col_to_delete = []\n",
    "for j in range(0,tX.shape[1]):\n",
    "    if np.all(tX_2[:,j]==-999):\n",
    "        col_to_delete.append(j)\n",
    "tX_2 = np.delete(tX_2,col_to_delete,1)\n",
    "\n",
    "\n",
    "splitted_dataset = [tX_0,tX_1,tX_2]\n",
    "\n",
    "y_0 = y[:,:][(y[:,23] == 0)]\n",
    "y_1 = y[:,:][(y[:,23] == 1)]\n",
    "y_2 = y[:,:][(y[:,23] >= 2)]\n",
    "\n",
    "y_0 = y_0[:,0]\n",
    "y_1 = y_1[:,0]\n",
    "y_2 = y_2[:,0]\n",
    "splitted_y = [y_0,y_1,y_2]"
   ]
  },
  {
   "cell_type": "markdown",
   "metadata": {},
   "source": [
    "### Removing outliers (for all 4 datasets)"
   ]
  },
  {
   "cell_type": "code",
   "execution_count": 94,
   "metadata": {},
   "outputs": [],
   "source": [
    "q1 = []\n",
    "q2 = []\n",
    "k = 1\n",
    "for b in range(0,3):\n",
    "    for i in range(0,splitted_dataset[b].shape[1]):\n",
    "        q1 = np.percentile(splitted_dataset[b][:,i],25)\n",
    "        q2 = np.percentile(splitted_dataset[b][:,i],50)\n",
    "        q3 = np.percentile(splitted_dataset[b][:,i],75)\n",
    "        #splitted_dataset[b][:,i][(splitted_dataset[b][:,i] < q1 - k*(q3-q1))] = q2\n",
    "        #splitted_dataset[b][:,i][(splitted_dataset[b][:,i] > q3 + k*(q3-q1))] = q2\n",
    "        splitted_dataset[b][:,i][splitted_dataset[b][:,i] == -999] = q2"
   ]
  },
  {
   "cell_type": "markdown",
   "metadata": {},
   "source": [
    "### Normalization of features\n"
   ]
  },
  {
   "cell_type": "code",
   "execution_count": 95,
   "metadata": {},
   "outputs": [],
   "source": [
    "tX= standardize(tX)\n",
    "    \n",
    "###for all datasets\n",
    "for i in range(0,3):\n",
    "    splitted_dataset[i] = standardize(splitted_dataset[i])"
   ]
  },
  {
   "cell_type": "markdown",
   "metadata": {
    "jp-MarkdownHeadingCollapsed": true,
    "tags": []
   },
   "source": [
    "### Remove less influent features"
   ]
  },
  {
   "cell_type": "code",
   "execution_count": null,
   "metadata": {},
   "outputs": [],
   "source": [
    "arr=np.array([5,4,28,1,3])\n",
    "arr.argsort()[:3]\n",
    "arr[arr<=3]"
   ]
  },
  {
   "cell_type": "code",
   "execution_count": null,
   "metadata": {},
   "outputs": [],
   "source": [
    "#Apply least squares\n",
    "threshold=1e-3\n",
    "w,loss = least_squares(y,tX)\n",
    "print(f'w:{w}\\nloss:{loss}')\n",
    "print(f'w:{w}\\n\\tshape:{w.shape}')\n",
    "w=w[np.abs(w)>=threshold]\n",
    "print(f'w:{w}\\n\\tshape:{w.shape}')\n"
   ]
  },
  {
   "cell_type": "markdown",
   "metadata": {
    "tags": []
   },
   "source": [
    "### Logistic Cross Validation - Searching best Degree"
   ]
  },
  {
   "cell_type": "code",
   "execution_count": 63,
   "metadata": {},
   "outputs": [
    {
     "name": "stdout",
     "output_type": "stream",
     "text": [
      "[ 0.00154762 -0.0022509  -0.00220169 -0.00166734  0.00613078  0.00683631\n",
      "  0.0061202  -0.00151393 -0.00166714 -0.00239339 -0.00151084 -0.00148429\n",
      "  0.00612881 -0.00168173 -0.00149399 -0.0014942  -0.00191291 -0.00149384\n",
      " -0.00149422 -0.00183379 -0.0014936  -0.0028478  -0.0014992   0.00362647\n",
      "  0.00379324  0.00379325  0.00607019  0.00612823  0.00612811 -0.00178684]\n",
      "0.6780056702488418\n"
     ]
    }
   ],
   "source": [
    "initial_w=np.zeros(tX.shape[1])\n",
    "max_iters = 100\n",
    "gamma = 1e-9\n",
    "w,loss = logistic_regression(y[:,0], tX, initial_w, max_iters, gamma)\n",
    "print(w)\n",
    "print(loss)"
   ]
  },
  {
   "cell_type": "code",
   "execution_count": 106,
   "metadata": {},
   "outputs": [
    {
     "name": "stdout",
     "output_type": "stream",
     "text": [
      "[[0.6576455991573703, 0.6399159634177383, 0.6286541490922599, 0.6157237502214433, 0.6043206246129175, 0.6552794555819778]]\n",
      "[[0.6576504030636176, 0.6399234706575189, 0.6286664116342475, 0.615747626036764, 0.604530487907736, 0.6399094849812567]]\n"
     ]
    }
   ],
   "source": [
    "#no split\n",
    "degrees=np.arange(6)\n",
    "k_fold=3\n",
    "max_iters=50\n",
    "gamma=1e-8\n",
    "D_best = []\n",
    "rmse_tr_list_per_set=[]\n",
    "rmse_te_list_per_set=[]\n",
    "for i in range(0,1):\n",
    "    rmse_tr_list=[]\n",
    "    rmse_te_list=[]\n",
    "    for D in degrees:\n",
    "        #compute loss with cross-validation\n",
    "        rmse_tr, rmse_te=apply_cross_validation_logistic(y[:,0],tX,k_fold,D,max_iters,gamma,1)\n",
    "        rmse_tr_list.append(rmse_tr)\n",
    "        rmse_te_list.append(rmse_te)\n",
    "    D_best_index = degrees[np.argmin(np.array(rmse_te_list))]\n",
    "    D_best.append(degrees[D_best_index])\n",
    "    rmse_tr_list_per_set.append(rmse_tr_list)\n",
    "    rmse_te_list_per_set.append(rmse_te_list)\n",
    "print(rmse_tr_list_per_set)\n",
    "print(rmse_te_list_per_set)"
   ]
  },
  {
   "cell_type": "code",
   "execution_count": 96,
   "metadata": {},
   "outputs": [
    {
     "name": "stdout",
     "output_type": "stream",
     "text": [
      "[[0.6591259321296228, 0.6401676297890301, 0.61411838841359, 0.6162643686454373, 0.6748387589531282, 14.826061137989706], [0.6826661092439953, 0.6784843881163471, 0.6727617741541146, 0.6640244193338595, 1.8509892562491526, 56.77545506377433], [0.6914689130046687, 0.6875850779902947, 0.6467022258214644, 0.6647742536937749, 45.24846622338456, 12731.711719395986]]\n",
      "[[0.6591278082663617, 0.6401714659399079, 0.6142561142724441, 0.6167198088046182, 0.7857928064095973, 53.478411627548034], [0.6826706859547714, 0.6784910292478502, 0.6727731554968891, 0.66418877994501, 1.860659791534294, 59.22030107310828], [0.6914705748201636, 0.6875884795144033, 0.6467124384841466, 0.6647052681901278, 44.85513974683395, 13772.281728280534]]\n"
     ]
    }
   ],
   "source": [
    "degrees=np.arange(6)\n",
    "k_fold=3\n",
    "max_iters=50\n",
    "gamma=1e-8\n",
    "D_best = []\n",
    "rmse_tr_list_per_set=[]\n",
    "rmse_te_list_per_set=[]\n",
    "for i in range(0,3):\n",
    "    rmse_tr_list=[]\n",
    "    rmse_te_list=[]\n",
    "    for D in degrees:\n",
    "        #compute loss with cross-validation\n",
    "        rmse_tr, rmse_te=apply_cross_validation_logistic(splitted_y[i],splitted_dataset[i],k_fold,D,max_iters,gamma,1)\n",
    "        rmse_tr_list.append(rmse_tr)\n",
    "        rmse_te_list.append(rmse_te)\n",
    "    D_best_index = degrees[np.argmin(np.array(rmse_te_list))]\n",
    "    D_best.append(degrees[D_best_index])\n",
    "    rmse_tr_list_per_set.append(rmse_tr_list)\n",
    "    rmse_te_list_per_set.append(rmse_te_list)\n",
    "print(rmse_tr_list_per_set)\n",
    "print(rmse_te_list_per_set)"
   ]
  },
  {
   "cell_type": "code",
   "execution_count": 107,
   "metadata": {},
   "outputs": [
    {
     "data": {
      "text/plain": [
       "[4]"
      ]
     },
     "execution_count": 107,
     "metadata": {},
     "output_type": "execute_result"
    }
   ],
   "source": [
    "D_best"
   ]
  },
  {
   "cell_type": "markdown",
   "metadata": {
    "jp-MarkdownHeadingCollapsed": true,
    "tags": []
   },
   "source": [
    "### Cross Validation Ridge Regression - Best Degree"
   ]
  },
  {
   "cell_type": "code",
   "execution_count": null,
   "metadata": {},
   "outputs": [],
   "source": [
    "degrees=np.arange(6)\n",
    "lambdas=np.logspace(-6,0,10)\n",
    "k_fold=10\n",
    "rmse_tr_list=np.zeros((len(degrees),len(lambdas)))\n",
    "rmse_te_list=np.zeros((len(degrees),len(lambdas)))\n",
    "for i,D in enumerate(degrees):\n",
    "    for j,lambda_ in enumerate(lambdas):\n",
    "        #compute loss with cross-validation\n",
    "        rmse_tr, rmse_te=apply_cross_validation(y,tX,k_fold,D,lambda_,1)\n",
    "        rmse_tr_list[i,j]=rmse_tr\n",
    "        rmse_te_list[i,j]=rmse_te\n",
    "D_best_index,lambda_best_index=np.unravel_index(np.argmin(rmse_te_list),rmse_te_list.shape)\n",
    "D_best=degrees[D_best_index]\n",
    "lambda_best=lambdas[lambda_best_index]\n",
    "print(f'degree:{D_best} lambda_:{lambda_best}')    "
   ]
  },
  {
   "cell_type": "markdown",
   "metadata": {
    "jp-MarkdownHeadingCollapsed": true,
    "tags": []
   },
   "source": [
    "### Testing ridge-regression with best Degree"
   ]
  },
  {
   "cell_type": "code",
   "execution_count": 248,
   "metadata": {},
   "outputs": [
    {
     "name": "stdout",
     "output_type": "stream",
     "text": [
      "(99913, 20)\n",
      "w:[-3.23432223e-03 -5.27023950e-01 -6.86683045e-01 -7.80392012e-02\n",
      "  3.33169009e+01 -7.87053936e-02  2.87583722e+00 -1.80676882e+01\n",
      "  2.07687030e+00 -2.04009485e+00 -5.90256485e-02 -2.92331297e-02\n",
      " -1.89020452e+00  3.14125362e-01 -4.19069080e-03  2.79776328e-01\n",
      " -1.91098007e-01  4.14613146e-02 -6.80880786e+00 -6.80880786e+00]\n",
      "loss:0.0680007684420372\n",
      "(77544, 23)\n",
      "w:[ 4.44008017e-03 -2.86614567e-01 -2.70605549e-01 -8.70533587e-02\n",
      "  1.49380034e+01  1.46362543e-01  3.44454037e+00 -9.19206614e+00\n",
      "  5.88130999e+00 -3.01377619e+00  1.53515487e-01 -9.17715423e-02\n",
      " -2.88609706e+00 -2.88275407e-01  2.21597334e-02  1.44041459e-01\n",
      "  1.03130758e-01 -2.34996795e-02 -5.38605525e+00 -1.68221865e+00\n",
      " -2.15705495e-02 -5.71461218e-02 -1.66991496e+00]\n",
      "loss:0.09310076772827007\n",
      "(72543, 30)\n",
      "w:[ 1.21619786e-02 -2.90215501e-01 -2.61527627e-01  1.06147061e-01\n",
      " -2.60417952e-01  3.73861261e-02  1.34402671e-01  1.93555015e+01\n",
      " -3.86963052e-02  1.42511735e+01 -1.06787991e+01  8.79072510e+00\n",
      "  2.49205322e+01 -1.38400306e+01 -3.40956957e-01 -5.83717294e-02\n",
      " -1.36557560e+01 -3.67446212e-01  7.78046347e-02  1.47233839e-01\n",
      "  1.95174000e-01 -8.56927481e-02 -1.49469510e+01 -1.37762636e-01\n",
      "  1.79081145e-01  1.42968005e-01  6.93083830e-02  1.63974101e-01\n",
      " -1.09411165e-01 -1.42312865e+01]\n",
      "loss:0.0901088400198405\n"
     ]
    }
   ],
   "source": [
    "max_iters=300\n",
    "gamma=1e-9\n",
    "ws = []\n",
    "losses = []\n",
    "for i in range(0,len(splitted_dataset)):\n",
    "    initial_w=np.zeros(splitted_dataset[i].shape[1])\n",
    "    w,loss = ridge_regression(splitted_y[i],splitted_dataset[i],0.01)\n",
    "    ws.append(w)\n",
    "    losses.append(loss)\n",
    "    print(f'w:{w}\\nloss:{loss}')"
   ]
  },
  {
   "cell_type": "markdown",
   "metadata": {},
   "source": [
    "### Testing with logistic (per dataset)"
   ]
  },
  {
   "cell_type": "code",
   "execution_count": 110,
   "metadata": {},
   "outputs": [
    {
     "name": "stdout",
     "output_type": "stream",
     "text": [
      "w:[-0.00590823 -0.00590823 -0.00590823 -0.00590823 -0.00590823 -0.00590823\n",
      " -0.00590823 -0.00590823 -0.00590823 -0.00590823 -0.00590823 -0.00590823\n",
      " -0.00590823 -0.00590823 -0.00590823 -0.00590823 -0.00590823 -0.00590823\n",
      " -0.00590823 -0.00590823 -0.00590823 -0.00590823 -0.00590823 -0.00590823\n",
      " -0.00590823 -0.00590823 -0.00590823 -0.00590823 -0.00590823 -0.00590823\n",
      "  0.01566237 -0.00977404 -0.00359926  0.0003127  -0.00229933  0.00376328\n",
      " -0.00245427 -0.0023892  -0.00353947 -0.00268807 -0.00253979 -0.0022541\n",
      " -0.00232521  0.00060207 -0.0023888  -0.00239324 -0.00410728 -0.00238883\n",
      " -0.0023814  -0.0026215  -0.00237918 -0.00416085 -0.00243503 -0.00046114\n",
      " -0.00130124 -0.00130138 -0.00332242 -0.00233939 -0.00234296 -0.00395689\n",
      " -0.02653514 -0.00846655 -0.00352649  0.00334514 -0.00099972  0.01892585\n",
      " -0.00112478 -0.0009662  -0.00204041 -0.00158908 -0.00108893 -0.00085692\n",
      " -0.00102135  0.00220544 -0.00096617 -0.00096953 -0.00272991 -0.00096629\n",
      " -0.00095997 -0.00075853 -0.00095817 -0.00466719 -0.00100356 -0.00116366\n",
      " -0.00258776 -0.00258845 -0.00210448 -0.0010327  -0.00103583 -0.00413873\n",
      "  0.04477449 -0.00612427 -0.00413585  0.00511249 -0.00022894  0.03877864\n",
      " -0.00030468 -0.00039076 -0.001098   -0.00164957 -0.00046578 -0.00032445\n",
      " -0.0002425   0.0021766  -0.00039092 -0.00039281 -0.0017673  -0.00039104\n",
      " -0.00038702  0.00026276 -0.00038592 -0.00731696 -0.0004136   0.00475665\n",
      "  0.0028751   0.00287433 -0.00118649 -0.00024932 -0.00025136 -0.00586984\n",
      " -0.10356546 -0.00403693 -0.00494096  0.00686166 -0.00040791  0.00098037\n",
      " -0.0004487  -0.00015804 -0.00022384 -0.00189906 -0.0001988  -0.00012228\n",
      " -0.00041546  0.00173977 -0.00015822 -0.00015917 -0.00112575 -0.00015832\n",
      " -0.00015605  0.00110621 -0.00015546 -0.01246315 -0.00017045 -0.0038822\n",
      " -0.00628827 -0.00628888 -0.00121184 -0.0004191  -0.00042028 -0.00951798]\n",
      "loss:0.5867742561861817\n"
     ]
    }
   ],
   "source": [
    "###normal dataset\n",
    "max_iters=100\n",
    "gamma=1e-8\n",
    "ws = []\n",
    "losses = []\n",
    "splitted_dataset_poly = build_poly(tX,4)\n",
    "initial_w=np.zeros(splitted_dataset_poly.shape[1])\n",
    "w,loss = logistic_regression(y[:,0],splitted_dataset_poly,initial_w,max_iters,gamma)\n",
    "ws.append(w)\n",
    "losses.append(loss)\n",
    "print(f'w:{w}\\nloss:{loss}')"
   ]
  },
  {
   "cell_type": "code",
   "execution_count": 98,
   "metadata": {},
   "outputs": [
    {
     "name": "stdout",
     "output_type": "stream",
     "text": [
      "w:[-0.01207667 -0.01207667 -0.01207667 -0.01207667 -0.01207667 -0.01207667\n",
      " -0.01207667 -0.01207667 -0.01207667 -0.01207667 -0.01207667 -0.01207667\n",
      " -0.01207667 -0.01207667 -0.01207667 -0.01207667 -0.01207667 -0.01207667\n",
      " -0.01207667 -0.01207667 -0.0166671  -0.01982419 -0.00942509  0.00489996\n",
      "  0.00742644  0.00489996 -0.00800306  0.00740606  0.00835562  0.00402421\n",
      "  0.00797565  0.00795535 -0.00406641  0.00799334  0.0079557  -0.00494276\n",
      "  0.00796947 -0.01604455  0.00796086  0.00796086 -0.03477458 -0.01753908\n",
      " -0.01856388 -0.00060295 -0.00457007 -0.00060295 -0.00442313 -0.00454031\n",
      " -0.00577783  0.00150326 -0.00527928 -0.00525995 -0.0020335  -0.00530535\n",
      " -0.00526074  0.00188782 -0.00527823 -0.0237425  -0.00524775 -0.00524775]\n",
      "loss:0.5884539349711703\n",
      "w:[-6.22414678e-03 -6.22414678e-03 -6.22414678e-03 -6.22414678e-03\n",
      " -6.22414678e-03 -6.22414678e-03 -6.22414678e-03 -6.22414678e-03\n",
      " -6.22414678e-03 -6.22414678e-03 -6.22414678e-03 -6.22414678e-03\n",
      " -6.22414678e-03 -6.22414678e-03 -6.22414678e-03 -6.22414678e-03\n",
      " -6.22414678e-03 -6.22414678e-03 -6.22414678e-03 -6.22414678e-03\n",
      " -6.22414678e-03 -6.22414678e-03 -6.22414678e-03 -3.00974219e-03\n",
      " -6.23302447e-03 -2.33220764e-03  1.34073337e-03  3.84451902e-03\n",
      "  2.90404826e-03 -4.74136240e-03  3.80358023e-03  4.18397820e-03\n",
      "  3.05614415e-03  4.03429329e-03  4.02999726e-03 -9.28803759e-04\n",
      "  4.02864073e-03  4.03620383e-03  2.53391715e-04  4.04786868e-03\n",
      " -8.79008972e-03  3.93927116e-03  1.20619571e-03  4.03464841e-03\n",
      "  4.03688735e-03  1.20619585e-03 -5.64154524e-03 -3.58777518e-03\n",
      " -5.92499049e-03  1.77747847e-03 -2.37641090e-03 -1.63375818e-03\n",
      " -5.36535010e-04 -2.32472804e-03 -2.81023516e-03 -8.60885278e-05\n",
      " -2.61862472e-03 -2.61445467e-03 -1.08218254e-03 -2.61190658e-03\n",
      " -2.62246228e-03 -4.65994818e-04 -2.63763004e-03 -1.01937066e-02\n",
      " -2.49317021e-03  1.49539428e-03 -2.61437900e-03 -2.62337169e-03\n",
      "  1.49539457e-03 -1.44765093e-02 -4.11333533e-03 -1.24036804e-02\n",
      "  1.58541116e-03  1.46998369e-03  9.87382086e-04  3.49672749e-03\n",
      "  1.42099755e-03  1.88612458e-03  4.88286016e-04  1.70214162e-03\n",
      "  1.69944231e-03 -1.33810838e-03  1.69619641e-03  1.70719681e-03\n",
      " -1.74847932e-04  1.72200398e-03  2.33722011e-04  1.57793089e-03\n",
      " -5.74225997e-05  1.69343148e-03  1.70810306e-03 -5.74217588e-05]\n",
      "loss:0.6537329025698444\n",
      "w:[-4.15892875e-03 -4.15892875e-03 -4.15892875e-03 -4.15892875e-03\n",
      " -4.15892875e-03 -4.15892875e-03 -4.15892875e-03 -4.15892875e-03\n",
      " -4.15892875e-03 -4.15892875e-03 -4.15892875e-03 -4.15892875e-03\n",
      " -4.15892875e-03 -4.15892875e-03 -4.15892875e-03 -4.15892875e-03\n",
      " -4.15892875e-03 -4.15892875e-03 -4.15892875e-03 -4.15892875e-03\n",
      " -4.15892875e-03 -4.15892875e-03 -4.15892875e-03 -4.15892875e-03\n",
      " -4.15892875e-03 -4.15892875e-03 -4.15892875e-03 -4.15892875e-03\n",
      " -4.15892875e-03 -4.15892875e-03 -1.31409756e-03 -1.59636171e-03\n",
      " -8.31034773e-04  1.48321901e-03  1.95254957e-03  2.54859817e-03\n",
      "  1.85059082e-03  1.88343707e-03 -1.95500463e-06 -6.18747861e-03\n",
      "  1.86774006e-03  1.99649038e-03  1.96186500e-03  1.86343317e-03\n",
      "  1.95002574e-03  1.95238821e-03  1.28573307e-04  1.95011288e-03\n",
      "  1.95419261e-03  7.88285248e-04  1.95803321e-03 -8.94554187e-03\n",
      "  1.86312547e-03 -6.10321095e-04  1.95521527e-03  1.95482891e-03\n",
      "  4.07084727e-05  1.95497678e-03  1.95040917e-03 -4.27255354e-03\n",
      " -5.55771760e-03 -3.95001700e-04 -2.78946025e-03  2.20844739e-03\n",
      " -9.15322536e-04  2.75295847e-02 -8.19542167e-04 -8.53351360e-04\n",
      " -3.37970788e-05 -1.32331063e-02 -8.38999815e-04 -9.58103278e-04\n",
      " -9.25356805e-04 -2.61534669e-04 -9.15023702e-04 -9.17339122e-04\n",
      " -2.78478279e-04 -9.15169167e-04 -9.19036338e-04 -2.31204602e-05\n",
      " -9.22652455e-04 -2.37806638e-02 -8.34670363e-04 -6.59309041e-04\n",
      " -9.19303618e-04 -9.19562651e-04 -5.24803174e-04 -9.19041366e-04\n",
      " -9.15468984e-04 -8.99465182e-03]\n",
      "loss:0.6357573906761511\n"
     ]
    }
   ],
   "source": [
    "max_iters=100\n",
    "gamma=1e-8\n",
    "ws = []\n",
    "losses = []\n",
    "for i in range(0,len(splitted_dataset)):\n",
    "    splitted_dataset_poly = build_poly(splitted_dataset[i],D_best[i])\n",
    "    initial_w=np.zeros(splitted_dataset_poly.shape[1])\n",
    "    w,loss = logistic_regression(splitted_y[i],splitted_dataset_poly,initial_w,max_iters,gamma)\n",
    "    ws.append(w)\n",
    "    losses.append(loss)\n",
    "    print(f'w:{w}\\nloss:{loss}')"
   ]
  },
  {
   "cell_type": "markdown",
   "metadata": {
    "tags": []
   },
   "source": [
    "## Generate predictions and save ouput in csv format for submission:"
   ]
  },
  {
   "cell_type": "code",
   "execution_count": 101,
   "metadata": {
    "collapsed": false,
    "jupyter": {
     "outputs_hidden": false
    }
   },
   "outputs": [],
   "source": [
    "DATA_TEST_PATH = '../data/test.csv'\n",
    "_, tX_test, ids_test = load_csv_data(DATA_TEST_PATH)\n",
    "#tX_test=np.delete(tX_test,remove_features,1)\n",
    "\n",
    "ids_with_tX = np.c_[ids_test,tX_test]\n",
    "tX_test_0 = tX_test[:,:][(tX_test[:,22] == 0)] ##y check\n",
    "tX_test_1 = tX_test[:,:][(tX_test[:,22] == 1)]\n",
    "tX_test_2 = tX_test[:,:][(tX_test[:,22] >= 2)]\n",
    "\n",
    "\n",
    "###drop column also in test\n",
    "col_to_delete = []\n",
    "\n",
    "for j in range(0,tX.shape[1]):\n",
    "    if np.all(tX_test_0[:,j]==-999):   \n",
    "        col_to_delete.append(j)   \n",
    "tX_test_0 = np.delete(tX_test_0,col_to_delete,1)\n",
    "\n",
    "col_to_delete = []\n",
    "for j in range(0,tX.shape[1]):\n",
    "    if np.all(tX_test_1[:,j]==-999):  \n",
    "        col_to_delete.append(j)\n",
    "tX_test_1 = np.delete(tX_test_1,col_to_delete,1)\n",
    " \n",
    "col_to_delete = []\n",
    "for j in range(0,tX.shape[1]):\n",
    "    if np.all(tX_test_2[:,j]==-999):\n",
    "        col_to_delete.append(j)\n",
    "tX_test_2 = np.delete(tX_test_2,col_to_delete,1)\n",
    "\n",
    "##first dataset\n",
    "tX_test_0 = standardize(tX_test_0)\n",
    "tX_test_0=build_poly(tX_test_0,2)\n",
    "tX_test_1 = standardize(tX_test_1)\n",
    "tX_test_1=build_poly(tX_test_1,3)\n",
    "tX_test_2 = standardize(tX_test_2)\n",
    "tX_test_2=build_poly(tX_test_2,2)"
   ]
  },
  {
   "cell_type": "code",
   "execution_count": 102,
   "metadata": {
    "collapsed": false,
    "jupyter": {
     "outputs_hidden": false
    }
   },
   "outputs": [
    {
     "name": "stdout",
     "output_type": "stream",
     "text": [
      "[[ 1.00000000e+00  1.00000000e+00  1.00000000e+00 ... -6.34266060e-02\n",
      "  -6.49601292e-02  1.71214511e-03]\n",
      " [ 1.00000000e+00  1.00000000e+00  1.00000000e+00 ... -7.84823039e-02\n",
      "  -5.40522155e-02  1.76604271e-07]\n",
      " [ 1.00000000e+00  1.00000000e+00  1.00000000e+00 ... -4.86871761e-02\n",
      "  -6.71034652e-02  7.97480860e-04]\n",
      " ...\n",
      " [ 1.00000000e+00  1.00000000e+00  1.00000000e+00 ... -6.80847674e-02\n",
      "  -4.91583508e-02  6.56537047e+00]\n",
      " [ 1.00000000e+00  1.00000000e+00  1.00000000e+00 ... -6.23788073e-02\n",
      "  -7.58988018e-02  5.14176037e-01]\n",
      " [ 1.00000000e+00  1.00000000e+00  1.00000000e+00 ... -5.36329003e-02\n",
      "  -4.84033464e-02 -2.20233065e-04]]\n",
      "[-1. -1. -1. ... -1. -1. -1.]\n"
     ]
    }
   ],
   "source": [
    "#rimuovere t0??\n",
    "weights=ws\n",
    "OUTPUT_PATH = 'output6.csv' # TODO: fill in desired name of output file for submission\n",
    "y_pred_test_0 = predict_labels(weights[0], tX_test_0)\n",
    "ids_0 = ids_with_tX[:,0][(ids_with_tX[:,23] == 0)]\n",
    "y_pred_test_1 = predict_labels(weights[1], tX_test_1)\n",
    "ids_1 = ids_with_tX[:,0][(ids_with_tX[:,23] == 1)]\n",
    "y_pred_test_2 = predict_labels(weights[2], tX_test_2)\n",
    "ids_2 = ids_with_tX[:,0][(ids_with_tX[:,23] >= 2)]\n",
    "#print(np.argwhere(np.isnan(y_pred_test_1)))\n",
    "#print(np.any(np.isnan(y_pred_test_1)))\n",
    "print(tX_test_1)\n",
    "print(y_pred_test_1)\n",
    "#the ids need to map to the dataset\n",
    "create_csv_submission(np.concatenate([ids_0,ids_1,ids_2]), np.concatenate([y_pred_test_0,y_pred_test_1,y_pred_test_2]), OUTPUT_PATH)\n"
   ]
  },
  {
   "cell_type": "markdown",
   "metadata": {},
   "source": [
    "## TESTING ACCURACY ON DATASET"
   ]
  },
  {
   "cell_type": "code",
   "execution_count": 71,
   "metadata": {},
   "outputs": [
    {
     "name": "stdout",
     "output_type": "stream",
     "text": [
      "w:[-1.75818404e-03 -1.75818404e-03 -1.75818404e-03 -1.75818404e-03\n",
      " -1.75818404e-03 -1.75818404e-03 -1.75818404e-03 -1.75818404e-03\n",
      " -1.75818404e-03 -1.75818404e-03 -1.75818404e-03 -1.75818404e-03\n",
      " -1.75818404e-03 -1.75818404e-03 -1.75818404e-03 -1.75818404e-03\n",
      " -1.75818404e-03 -1.75818404e-03 -1.75818404e-03 -1.75818404e-03\n",
      " -1.75818404e-03 -1.75818404e-03 -1.75818404e-03 -1.75818404e-03\n",
      " -1.75818404e-03 -1.75818404e-03 -1.75818404e-03 -1.75818404e-03\n",
      " -1.75818404e-03 -1.75818404e-03  4.59524925e-03 -1.72865484e-03\n",
      " -1.05778820e-03 -6.31573454e-04  1.60977110e-04  5.66969870e-04\n",
      "  1.45276607e-04 -7.15074153e-04 -9.04989519e-04 -1.34560907e-03\n",
      " -7.30035634e-04 -6.94289753e-04  1.60117154e-04 -5.21430645e-04\n",
      " -7.10496622e-04 -7.11049060e-04 -1.02427743e-03 -7.10414902e-04\n",
      " -7.09888459e-04 -9.71645850e-04 -7.09431975e-04 -1.60537242e-03\n",
      " -7.19246378e-04  4.52489614e-04  5.55083130e-04  5.55021883e-04\n",
      " -5.28434513e-05  1.59227452e-04  1.58853387e-04 -1.22056614e-03\n",
      " -8.03765057e-03 -1.33469580e-03 -8.08135851e-04 -8.78957385e-05\n",
      " -1.58650137e-03  6.66694115e-04 -1.59917236e-03 -2.90842411e-04\n",
      " -4.67885935e-04 -1.37846494e-03 -3.03040327e-04 -2.74023219e-04\n",
      " -1.58726379e-03 -7.70727628e-05 -2.87162045e-04 -2.87595655e-04\n",
      " -6.02800308e-04 -2.87106017e-04 -2.86658373e-04 -5.06873293e-04\n",
      " -2.86288479e-04 -1.95153458e-03 -2.94249953e-04 -2.27190358e-03\n",
      " -2.18045362e-03 -2.18056685e-03 -1.81197099e-03 -1.58798054e-03\n",
      " -1.58831245e-03 -1.15940388e-03  1.46698091e-02 -9.35804405e-04\n",
      " -7.56979027e-04  2.26269568e-04  2.49967785e-03  9.07127842e-03\n",
      "  2.49200449e-03 -1.18300015e-04 -2.08902299e-04 -1.89595185e-03\n",
      " -1.25758855e-04 -1.08091777e-04  2.49917385e-03  5.88587623e-05\n",
      " -1.16080511e-04 -1.16335559e-04 -3.59820793e-04 -1.16052621e-04\n",
      " -1.15767838e-04 -2.10337998e-04 -1.15543034e-04 -3.00891847e-03\n",
      " -1.20387188e-04  3.62876571e-03  3.68935874e-03  3.68925149e-03\n",
      "  2.30943962e-03  2.49874079e-03  2.49852167e-03 -1.47137599e-03\n",
      " -3.03010095e-02 -6.25750132e-04 -8.19928310e-04  6.60198211e-04\n",
      " -4.95799020e-03  8.17978174e-03 -4.96212280e-03 -4.81207921e-05\n",
      "  1.68274082e-04 -3.25587150e-03 -5.21751145e-05 -4.26132117e-05\n",
      " -4.95828485e-03  8.32631498e-05 -4.69308847e-05 -4.70641186e-05\n",
      " -2.19167141e-04 -4.69191281e-05 -4.67584414e-05  1.96300988e-04\n",
      " -4.66369928e-05 -5.48421102e-03 -4.92571252e-05 -7.22917284e-03\n",
      " -7.19509410e-03 -7.19517270e-03 -5.11429448e-03 -4.95851743e-03\n",
      " -4.95864517e-03 -2.32712891e-03]\n",
      "loss:0.6055649973180226\n"
     ]
    }
   ],
   "source": [
    "max_iters=300\n",
    "gamma=1e-9\n",
    "ws = []\n",
    "losses = []\n",
    "#build poly\n",
    "tX_tr=build_poly(tX,4)\n",
    "initial_w=np.zeros(tX_tr.shape[1])\n",
    "w,loss = logistic_regression(y[:,0],tX_tr,initial_w,max_iters,gamma)\n",
    "print(f'w:{w}\\nloss:{loss}')"
   ]
  },
  {
   "cell_type": "code",
   "execution_count": 104,
   "metadata": {},
   "outputs": [
    {
     "ename": "ValueError",
     "evalue": "shapes (250000,150) and (90,) not aligned: 150 (dim 1) != 90 (dim 0)",
     "output_type": "error",
     "traceback": [
      "\u001b[0;31m---------------------------------------------------------------------------\u001b[0m",
      "\u001b[0;31mValueError\u001b[0m                                Traceback (most recent call last)",
      "\u001b[0;32m/var/folders/7g/2ds3y3yd6319x1125r61pg1c0000gn/T/ipykernel_2596/1343039929.py\u001b[0m in \u001b[0;36m<module>\u001b[0;34m\u001b[0m\n\u001b[0;32m----> 1\u001b[0;31m \u001b[0mpred\u001b[0m \u001b[0;34m=\u001b[0m \u001b[0mpredict_labels\u001b[0m\u001b[0;34m(\u001b[0m\u001b[0mw\u001b[0m\u001b[0;34m,\u001b[0m \u001b[0mtX_tr\u001b[0m\u001b[0;34m)\u001b[0m\u001b[0;34m\u001b[0m\u001b[0;34m\u001b[0m\u001b[0m\n\u001b[0m\u001b[1;32m      2\u001b[0m \u001b[0mpred\u001b[0m \u001b[0;34m=\u001b[0m \u001b[0;34m(\u001b[0m\u001b[0mpred\u001b[0m \u001b[0;34m-\u001b[0m \u001b[0mmin\u001b[0m\u001b[0;34m(\u001b[0m\u001b[0mpred\u001b[0m\u001b[0;34m)\u001b[0m\u001b[0;34m)\u001b[0m\u001b[0;34m/\u001b[0m\u001b[0;34m(\u001b[0m\u001b[0mmax\u001b[0m\u001b[0;34m(\u001b[0m\u001b[0mpred\u001b[0m\u001b[0;34m)\u001b[0m\u001b[0;34m-\u001b[0m\u001b[0mmin\u001b[0m\u001b[0;34m(\u001b[0m\u001b[0mpred\u001b[0m\u001b[0;34m)\u001b[0m\u001b[0;34m)\u001b[0m\u001b[0;34m\u001b[0m\u001b[0;34m\u001b[0m\u001b[0m\n\u001b[1;32m      3\u001b[0m \u001b[0maccuracy\u001b[0m\u001b[0;34m(\u001b[0m\u001b[0mpred\u001b[0m\u001b[0;34m,\u001b[0m\u001b[0my\u001b[0m\u001b[0;34m[\u001b[0m\u001b[0;34m:\u001b[0m\u001b[0;34m,\u001b[0m\u001b[0;36m0\u001b[0m\u001b[0;34m]\u001b[0m\u001b[0;34m)\u001b[0m\u001b[0;34m\u001b[0m\u001b[0;34m\u001b[0m\u001b[0m\n",
      "\u001b[0;32m~/Documents/school/ML/ml-project-1-ml_ssg/scripts/proj1_helpers.py\u001b[0m in \u001b[0;36mpredict_labels\u001b[0;34m(weights, data)\u001b[0m\n\u001b[1;32m     34\u001b[0m \u001b[0;32mdef\u001b[0m \u001b[0mpredict_labels\u001b[0m\u001b[0;34m(\u001b[0m\u001b[0mweights\u001b[0m\u001b[0;34m,\u001b[0m \u001b[0mdata\u001b[0m\u001b[0;34m)\u001b[0m\u001b[0;34m:\u001b[0m\u001b[0;34m\u001b[0m\u001b[0;34m\u001b[0m\u001b[0m\n\u001b[1;32m     35\u001b[0m     \u001b[0;34m\"\"\"Generates class predictions given weights, and a test data matrix\"\"\"\u001b[0m\u001b[0;34m\u001b[0m\u001b[0;34m\u001b[0m\u001b[0m\n\u001b[0;32m---> 36\u001b[0;31m     \u001b[0my_pred\u001b[0m \u001b[0;34m=\u001b[0m \u001b[0msigmoid\u001b[0m\u001b[0;34m(\u001b[0m\u001b[0mnp\u001b[0m\u001b[0;34m.\u001b[0m\u001b[0mdot\u001b[0m\u001b[0;34m(\u001b[0m\u001b[0mdata\u001b[0m\u001b[0;34m,\u001b[0m \u001b[0mweights\u001b[0m\u001b[0;34m)\u001b[0m\u001b[0;34m)\u001b[0m\u001b[0;34m\u001b[0m\u001b[0;34m\u001b[0m\u001b[0m\n\u001b[0m\u001b[1;32m     37\u001b[0m     \u001b[0my_pred\u001b[0m\u001b[0;34m[\u001b[0m\u001b[0mnp\u001b[0m\u001b[0;34m.\u001b[0m\u001b[0mwhere\u001b[0m\u001b[0;34m(\u001b[0m\u001b[0my_pred\u001b[0m \u001b[0;34m<=\u001b[0m \u001b[0;36m0.5\u001b[0m\u001b[0;34m)\u001b[0m\u001b[0;34m]\u001b[0m \u001b[0;34m=\u001b[0m \u001b[0;34m-\u001b[0m\u001b[0;36m1\u001b[0m\u001b[0;34m\u001b[0m\u001b[0;34m\u001b[0m\u001b[0m\n\u001b[1;32m     38\u001b[0m     \u001b[0my_pred\u001b[0m\u001b[0;34m[\u001b[0m\u001b[0mnp\u001b[0m\u001b[0;34m.\u001b[0m\u001b[0mwhere\u001b[0m\u001b[0;34m(\u001b[0m\u001b[0my_pred\u001b[0m \u001b[0;34m>\u001b[0m \u001b[0;36m0.5\u001b[0m\u001b[0;34m)\u001b[0m\u001b[0;34m]\u001b[0m \u001b[0;34m=\u001b[0m \u001b[0;36m1\u001b[0m\u001b[0;34m\u001b[0m\u001b[0;34m\u001b[0m\u001b[0m\n",
      "\u001b[0;32m<__array_function__ internals>\u001b[0m in \u001b[0;36mdot\u001b[0;34m(*args, **kwargs)\u001b[0m\n",
      "\u001b[0;31mValueError\u001b[0m: shapes (250000,150) and (90,) not aligned: 150 (dim 1) != 90 (dim 0)"
     ]
    }
   ],
   "source": [
    "pred = predict_labels(w, tX_tr)\n",
    "pred = (pred - min(pred))/(max(pred)-min(pred))\n",
    "accuracy(pred,y[:,0])"
   ]
  },
  {
   "cell_type": "code",
   "execution_count": null,
   "metadata": {},
   "outputs": [],
   "source": []
  },
  {
   "cell_type": "code",
   "execution_count": 116,
   "metadata": {},
   "outputs": [
    {
     "name": "stdout",
     "output_type": "stream",
     "text": [
      "0.68696\n"
     ]
    }
   ],
   "source": [
    "##test accuracy for tx alone\n",
    "pred = predict_labels(ws[0], splitted_dataset_poly)\n",
    "pred = (pred - min(pred))/(max(pred)-min(pred))\n",
    "print(accuracy(pred,y[:,0]))"
   ]
  },
  {
   "cell_type": "code",
   "execution_count": 105,
   "metadata": {},
   "outputs": [
    {
     "name": "stdout",
     "output_type": "stream",
     "text": [
      "0.7448680351906158\n",
      "0.6454658000619004\n",
      "0.6667080214493473\n"
     ]
    },
    {
     "data": {
      "text/plain": [
       "0.685680618900621"
      ]
     },
     "execution_count": 105,
     "metadata": {},
     "output_type": "execute_result"
    }
   ],
   "source": [
    "total_acc=[]\n",
    "for i in range(0,3):\n",
    "    pred = predict_labels(ws[i], build_poly(splitted_dataset[i],D_best[i]))\n",
    "    pred = (pred - min(pred))/(max(pred)-min(pred))\n",
    "    total_acc.append(accuracy(pred,splitted_y[i]))\n",
    "    print(accuracy(pred,splitted_y[i]))\n",
    "    \n",
    "np.mean(total_acc)"
   ]
  },
  {
   "cell_type": "code",
   "execution_count": null,
   "metadata": {},
   "outputs": [],
   "source": []
  }
 ],
 "metadata": {
  "anaconda-cloud": {},
  "interpreter": {
   "hash": "769d560f7a9260275cfba8eac8dfb7a8ebd643a4b3237d9fce15021d62ac6fd5"
  },
  "kernelspec": {
   "display_name": "Python 3 (ipykernel)",
   "language": "python",
   "name": "python3"
  },
  "language_info": {
   "codemirror_mode": {
    "name": "ipython",
    "version": 3
   },
   "file_extension": ".py",
   "mimetype": "text/x-python",
   "name": "python",
   "nbconvert_exporter": "python",
   "pygments_lexer": "ipython3",
   "version": "3.7.11"
  }
 },
 "nbformat": 4,
 "nbformat_minor": 4
}
