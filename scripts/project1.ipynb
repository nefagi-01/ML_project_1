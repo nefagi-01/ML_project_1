{
 "cells": [
  {
   "cell_type": "code",
   "execution_count": 44,
   "metadata": {
    "tags": []
   },
   "outputs": [
    {
     "name": "stdout",
     "output_type": "stream",
     "text": [
      "The autoreload extension is already loaded. To reload it, use:\n",
      "  %reload_ext autoreload\n"
     ]
    }
   ],
   "source": [
    "# Useful starting lines\n",
    "%matplotlib inline\n",
    "import numpy as np\n",
    "import matplotlib.pyplot as plt\n",
    "import collections\n",
    "%load_ext autoreload\n",
    "%autoreload 2"
   ]
  },
  {
   "cell_type": "code",
   "execution_count": null,
   "metadata": {},
   "outputs": [],
   "source": []
  },
  {
   "cell_type": "markdown",
   "metadata": {},
   "source": [
    "## Load the training data into feature matrix, class labels, and event ids:"
   ]
  },
  {
   "cell_type": "code",
   "execution_count": 45,
   "metadata": {
    "collapsed": false,
    "jupyter": {
     "outputs_hidden": false
    }
   },
   "outputs": [],
   "source": [
    "from proj1_helpers import *\n",
    "DATA_TRAIN_PATH = '../data/train.csv'\n",
    "y, tX, ids = load_csv_data(DATA_TRAIN_PATH)"
   ]
  },
  {
   "cell_type": "code",
   "execution_count": 46,
   "metadata": {},
   "outputs": [],
   "source": [
    "from implementations import *"
   ]
  },
  {
   "cell_type": "markdown",
   "metadata": {
    "tags": []
   },
   "source": [
    "## Do your thing crazy machine learning thing here :) ..."
   ]
  },
  {
   "cell_type": "markdown",
   "metadata": {
    "jp-MarkdownHeadingCollapsed": true,
    "tags": []
   },
   "source": [
    "### Testing functions"
   ]
  },
  {
   "cell_type": "code",
   "execution_count": null,
   "metadata": {},
   "outputs": [],
   "source": [
    "#GD\n",
    "initial_w=np.zeros(tX.shape[1])\n",
    "max_iters=50\n",
    "gamma=1e-1\n",
    "w,loss = least_squares_GD(y,tX,initial_w,max_iters,gamma)\n",
    "print(f'w:{w}\\nloss:{loss}')"
   ]
  },
  {
   "cell_type": "code",
   "execution_count": null,
   "metadata": {},
   "outputs": [],
   "source": [
    "#SDG\n",
    "initial_w=np.zeros(tX.shape[1])\n",
    "max_iters=20\n",
    "gamma=1e-4\n",
    "w,loss = least_squares_SGD(y,tX,initial_w,max_iters,gamma)\n",
    "print(f'w:{w}\\nloss:{loss}')"
   ]
  },
  {
   "cell_type": "code",
   "execution_count": null,
   "metadata": {},
   "outputs": [],
   "source": [
    "#LS\n",
    "w,loss = least_squares(y,tX)\n",
    "print(f'w:{w}\\nloss:{loss}')"
   ]
  },
  {
   "cell_type": "code",
   "execution_count": null,
   "metadata": {},
   "outputs": [],
   "source": [
    "#RR\n",
    "lambda_=0.1\n",
    "w,loss = ridge_regression(y,tX,lambda_)\n",
    "print(f'w:{w}\\nloss:{loss}')"
   ]
  },
  {
   "cell_type": "code",
   "execution_count": null,
   "metadata": {},
   "outputs": [],
   "source": [
    "#LR\n",
    "initial_w=np.zeros(tX.shape[1])\n",
    "max_iters=300\n",
    "gamma=1e-9\n",
    "w,loss = logistic_regression(y,tX,initial_w,max_iters,gamma)\n",
    "print(f'w:{w}\\nloss:{loss}')"
   ]
  },
  {
   "cell_type": "code",
   "execution_count": null,
   "metadata": {},
   "outputs": [],
   "source": [
    "#RLR\n",
    "initial_w=np.zeros(tX.shape[1])\n",
    "max_iters=300\n",
    "gamma=1e-9\n",
    "lambda_=0.01\n",
    "w,loss = reg_logistic_regression(y,tX, lambda_, initial_w, max_iters,gamma)\n",
    "print(f'w:{w}\\nloss:{loss}')"
   ]
  },
  {
   "cell_type": "markdown",
   "metadata": {},
   "source": [
    "### Cleaning dataset"
   ]
  },
  {
   "cell_type": "markdown",
   "metadata": {},
   "source": [
    "#### Transform [-1,1] into [0,1]"
   ]
  },
  {
   "cell_type": "code",
   "execution_count": 26,
   "metadata": {},
   "outputs": [],
   "source": [
    "#tX[:,:][tX[:,:] == -999] = 0\n",
    "#we could normalize the data ranging from [0,1] since its binary prediction\",\n",
    "y = (y-min(y))/(max(y)-min(y))\n"
   ]
  },
  {
   "cell_type": "markdown",
   "metadata": {
    "tags": []
   },
   "source": [
    "### Remove columns containing over 50% of NULL values"
   ]
  },
  {
   "cell_type": "code",
   "execution_count": null,
   "metadata": {},
   "outputs": [],
   "source": [
    "\"\"\"remove_features=[]\n",
    "for i in range(tX.shape[1]):\n",
    "    col=tX[:,i]\n",
    "    total=col.shape[0]\n",
    "    counter_=collections.Counter(col)\n",
    "    nulls=counter_[-999]\n",
    "    null_percentage=round(nulls/total,2)\n",
    "    print(f'NULL percentage is: {null_percentage}')\n",
    "    if null_percentage>0.5:\n",
    "        remove_features.append(i)\n",
    "tX=np.delete(tX,remove_features,1)\"\"\""
   ]
  },
  {
   "cell_type": "code",
   "execution_count": null,
   "metadata": {},
   "outputs": [],
   "source": [
    "\"\"\"remove_features=[]\n",
    "for i in range(tX.shape[1]):\n",
    "    col=tX[:,i]\n",
    "    total=col.shape[0]\n",
    "    counter_=collections.Counter(col)\n",
    "    nulls=counter_[-999]\n",
    "    null_percentage=round(nulls/total,2)\n",
    "    print(f'NULL percentage is: {null_percentage}')\n",
    "    if null_percentage>0.5:\n",
    "        remove_features.append(i)\n",
    "tX=np.delete(tX,remove_features,1)\"\"\""
   ]
  },
  {
   "cell_type": "code",
   "execution_count": null,
   "metadata": {},
   "outputs": [],
   "source": [
    "\"\"\"tX_0 = tX[:,:][(tX[:,22] == 0)]\n",
    "print(tX_0.shape)\n",
    "tX_1 = tX[:,:][(tX[:,22] == 1)]\n",
    "print(tX_1.shape)\n",
    "tX_2 = tX[:,:][(tX[:,22] >= 2)]\n",
    "print(tX_3.shape)\n",
    "splitted_dataset = [tX_0,tX_1,tX_2,tX_3]"
   ]
  },
  {
   "cell_type": "markdown",
   "metadata": {},
   "source": [
    "### Removing outliers (for all 4 datasets)"
   ]
  },
  {
   "cell_type": "code",
   "execution_count": 47,
   "metadata": {},
   "outputs": [],
   "source": [
    "k = 1\n",
    "for i in range(0,tX.shape[1]):\n",
    "    q1 = np.percentile(tX[:,i],25)\n",
    "    q2 = np.percentile(tX[:,i],50)\n",
    "    q3 = np.percentile(tX[:,i],75)\n",
    "    tX[:,i][(tX[:,i] < q1 - k*(q3-q1))] = q2\n",
    "    tX[:,i][(tX[:,i] > q3 + k*(q3-q1))] = q2\n",
    "    tX[:,i][tX[:,i] == -999] = q2"
   ]
  },
  {
   "cell_type": "markdown",
   "metadata": {},
   "source": [
    "### Normalization of features\n"
   ]
  },
  {
   "cell_type": "code",
   "execution_count": 48,
   "metadata": {},
   "outputs": [],
   "source": [
    "tX = standardize(tX)"
   ]
  },
  {
   "cell_type": "markdown",
   "metadata": {
    "jp-MarkdownHeadingCollapsed": true,
    "tags": []
   },
   "source": [
    "### Remove less influent features"
   ]
  },
  {
   "cell_type": "code",
   "execution_count": null,
   "metadata": {},
   "outputs": [],
   "source": [
    "arr=np.array([5,4,28,1,3])\n",
    "arr.argsort()[:3]\n",
    "arr[arr<=3]"
   ]
  },
  {
   "cell_type": "code",
   "execution_count": null,
   "metadata": {},
   "outputs": [],
   "source": [
    "#Apply least squares\n",
    "threshold=1e-3\n",
    "w,loss = least_squares(y,tX)\n",
    "print(f'w:{w}\\nloss:{loss}')\n",
    "print(f'w:{w}\\n\\tshape:{w.shape}')\n",
    "w=w[np.abs(w)>=threshold]\n",
    "print(f'w:{w}\\n\\tshape:{w.shape}')\n"
   ]
  },
  {
   "cell_type": "markdown",
   "metadata": {
    "jp-MarkdownHeadingCollapsed": true,
    "tags": []
   },
   "source": [
    "### Logistic Cross Validation - Searching best Degree"
   ]
  },
  {
   "cell_type": "code",
   "execution_count": null,
   "metadata": {},
   "outputs": [],
   "source": [
    "degrees=np.arange(6)\n",
    "k_fold=5\n",
    "max_iters=50\n",
    "gamma=1e-8\n",
    "rmse_tr_list=[]\n",
    "rmse_te_list=[]\n",
    "for D in degrees:\n",
    "    #compute loss with cross-validation\n",
    "    rmse_tr, rmse_te=apply_cross_validation_logistic(y,tX,k_fold,D,max_iters,gamma,1)\n",
    "    rmse_tr_list.append(rmse_tr)\n",
    "    rmse_te_list.append(rmse_te)\n",
    "print(rmse_te_list)\n",
    "D_best_index=degrees[np.argmin(np.array(rmse_te_list))]\n",
    "D_best=degrees[D_best_index]\n",
    "    "
   ]
  },
  {
   "cell_type": "code",
   "execution_count": null,
   "metadata": {},
   "outputs": [],
   "source": [
    "D_best"
   ]
  },
  {
   "cell_type": "markdown",
   "metadata": {},
   "source": [
    "### Cross Validation Ridge Regression - Best Degree"
   ]
  },
  {
   "cell_type": "code",
   "execution_count": 61,
   "metadata": {},
   "outputs": [
    {
     "name": "stdout",
     "output_type": "stream",
     "text": [
      "0.9492020332165433\n",
      "0.9492122498853389\n",
      "0.949202033216548\n",
      "0.9492122498832929\n",
      "0.9492020332166508\n",
      "0.9492122498738765\n",
      "0.9492020332188611\n",
      "0.9492122498319037\n",
      "0.949202033266482\n",
      "0.9492122496744476\n",
      "0.9492020342922047\n",
      "0.949212249748364\n",
      "0.9492020563667545\n",
      "0.949212267406682\n",
      "0.9492025295613086\n",
      "0.9492127201387065\n",
      "0.9492124903197507\n",
      "0.9492225866892418\n",
      "0.9494057513906681\n",
      "0.9494154269663521\n",
      "0.7958262345545885\n",
      "0.7959646921851458\n",
      "0.7988753028969242\n",
      "0.7989965720816888\n",
      "0.8034495500754391\n",
      "0.8035554967368087\n",
      "0.8080524089234468\n",
      "0.8081462635295424\n",
      "0.8134750670107754\n",
      "0.8135497069106793\n",
      "0.8355752094381593\n",
      "0.8356251313297554\n",
      "0.8852759254128623\n",
      "0.8853051275410802\n",
      "0.9212473812453624\n",
      "0.9212654804475924\n",
      "0.9349879837698761\n",
      "0.9350021431147418\n",
      "0.9388810484807654\n",
      "0.9388935362582083\n",
      "0.7867189925589971\n",
      "0.7869301373870808\n",
      "0.7911978782136835\n",
      "0.7913768544147667\n",
      "0.7958563338213073\n",
      "0.7960027398363075\n",
      "0.7989286954773297\n",
      "0.7990501251361125\n",
      "0.8014943883459056\n",
      "0.8015922210488315\n",
      "0.8115612753290605\n",
      "0.8116306056098898\n",
      "0.8484563581041414\n",
      "0.8485010128634215\n",
      "0.8929897578888969\n",
      "0.893017661019754\n",
      "0.9164136845711698\n",
      "0.9164329313932261\n",
      "0.9296865411122472\n",
      "0.9297012369308207\n",
      "0.7832879305163543\n",
      "0.7836237180878026\n",
      "0.7884645630896393\n",
      "0.7887364868151977\n",
      "0.7927392361371709\n",
      "0.7929218520047563\n",
      "0.7973912616569806\n",
      "0.7975317034787658\n",
      "0.801375330512339\n",
      "0.8014890146128032\n",
      "0.8092669454271211\n",
      "0.8093525429912066\n",
      "0.839757031432772\n",
      "0.8398183689030896\n",
      "0.8864494423245776\n",
      "0.8864887381902445\n",
      "0.9133535420883865\n",
      "0.9133773017752063\n",
      "0.9285313192447365\n",
      "0.9285479442209107\n",
      "degree:3 lambda_:1e-06\n"
     ]
    }
   ],
   "source": [
    "degrees=np.arange(4)\n",
    "lambdas=np.logspace(-6,0,10)\n",
    "k_fold=3\n",
    "rmse_tr_list=np.zeros((len(degrees),len(lambdas)))\n",
    "rmse_te_list=np.zeros((len(degrees),len(lambdas)))\n",
    "for i,D in enumerate(degrees):\n",
    "    for j,lambda_ in enumerate(lambdas):\n",
    "        #compute loss with cross-validation\n",
    "        rmse_tr, rmse_te=apply_cross_validation(y,tX,k_fold,D,lambda_,1)\n",
    "        rmse_tr_list[i,j]=rmse_tr\n",
    "        rmse_te_list[i,j]=rmse_te\n",
    "        print(rmse_tr)\n",
    "        print(rmse_te)\n",
    "D_best_index,lambda_best_index=np.unravel_index(np.argmin(rmse_te_list),rmse_te_list.shape)\n",
    "D_best=degrees[D_best_index]\n",
    "lambda_best=lambdas[lambda_best_index]\n",
    "print(f'degree:{D_best} lambda_:{lambda_best}')"
   ]
  },
  {
   "cell_type": "markdown",
   "metadata": {},
   "source": [
    "### Testing accuracy (ridge-regression with best Degree)"
   ]
  },
  {
   "cell_type": "code",
   "execution_count": 60,
   "metadata": {},
   "outputs": [
    {
     "name": "stdout",
     "output_type": "stream",
     "text": [
      "w:[-0.00529393 -0.00529393 -0.00529393 -0.00529393 -0.00529393 -0.00529393\n",
      " -0.00529393 -0.00529393 -0.00529393 -0.00529393 -0.00529393 -0.00529393\n",
      " -0.00529393 -0.00529393 -0.00529393 -0.00529393 -0.00529393 -0.00529393\n",
      " -0.00529393 -0.00529393 -0.00529393 -0.00529393 -0.00529393 -0.00529393\n",
      " -0.00529393 -0.00529393 -0.00529393 -0.00529393 -0.00529393 -0.00529393\n",
      "  0.00656606 -0.01594119  0.00259931  0.00125347  0.01454261  0.01429065\n",
      "  0.01393553 -0.00180997 -0.0025833   0.00501892 -0.00200386 -0.00150371\n",
      "  0.01437256  0.00122577 -0.00183069 -0.00183896 -0.0030895  -0.00182765\n",
      " -0.00181994 -0.00472922 -0.00181341  0.00520404 -0.00181727  0.00231826\n",
      " -0.00172664 -0.00171629  0.01418428  0.01432716  0.01432203  0.00385188]\n",
      "loss:0.4407502253527115\n",
      "0.657332\n"
     ]
    }
   ],
   "source": [
    "#no split\n",
    "max_iters=150\n",
    "tX_poly = build_poly(tX,1)\n",
    "initial_w=np.zeros(tX_poly.shape[1])\n",
    "w,loss = ridge_regression(y,tX_poly,1)\n",
    "print(f'w:{w}\\nloss:{loss}')\n",
    "\n",
    "##test accuracy for tx alone\n",
    "pred = predict_labels(w, tX_poly)\n",
    "print(accuracy(pred,y))"
   ]
  },
  {
   "cell_type": "markdown",
   "metadata": {
    "jp-MarkdownHeadingCollapsed": true,
    "tags": []
   },
   "source": [
    "## Generate predictions and save ouput in csv format for submission:"
   ]
  },
  {
   "cell_type": "code",
   "execution_count": null,
   "metadata": {
    "collapsed": false,
    "jupyter": {
     "outputs_hidden": false
    }
   },
   "outputs": [],
   "source": [
    "DATA_TEST_PATH = '../data/test.csv'\n",
    "_, tX_test, ids_test = load_csv_data(DATA_TEST_PATH)\n",
    "tX_test=np.delete(tX_test,remove_features,1)\n",
    "tX_test,_,_ = standardize(tX_test)\n",
    "tX_test=build_poly(tX_test,D_best)"
   ]
  },
  {
   "cell_type": "code",
   "execution_count": null,
   "metadata": {
    "collapsed": false,
    "jupyter": {
     "outputs_hidden": false
    }
   },
   "outputs": [],
   "source": [
    "weights=w\n",
    "OUTPUT_PATH = 'output6.csv' # TODO: fill in desired name of output file for submission\n",
    "y_pred = predict_labels(weights, tX_test)\n",
    "create_csv_submission(ids_test, y_pred, OUTPUT_PATH)"
   ]
  },
  {
   "cell_type": "code",
   "execution_count": null,
   "metadata": {},
   "outputs": [],
   "source": []
  }
 ],
 "metadata": {
  "anaconda-cloud": {},
  "interpreter": {
   "hash": "769d560f7a9260275cfba8eac8dfb7a8ebd643a4b3237d9fce15021d62ac6fd5"
  },
  "kernelspec": {
   "display_name": "Python 3 (ipykernel)",
   "language": "python",
   "name": "python3"
  },
  "language_info": {
   "codemirror_mode": {
    "name": "ipython",
    "version": 3
   },
   "file_extension": ".py",
   "mimetype": "text/x-python",
   "name": "python",
   "nbconvert_exporter": "python",
   "pygments_lexer": "ipython3",
   "version": "3.7.11"
  }
 },
 "nbformat": 4,
 "nbformat_minor": 4
}
