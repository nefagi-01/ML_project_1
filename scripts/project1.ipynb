{
 "cells": [
  {
   "cell_type": "code",
   "execution_count": 1,
   "metadata": {
    "tags": []
   },
   "outputs": [],
   "source": [
    "# Useful starting lines\n",
    "%matplotlib inline\n",
    "import numpy as np\n",
    "import matplotlib.pyplot as plt\n",
    "import collections\n",
    "%load_ext autoreload\n",
    "%autoreload 2"
   ]
  },
  {
   "cell_type": "code",
   "execution_count": null,
   "metadata": {},
   "outputs": [],
   "source": []
  },
  {
   "cell_type": "markdown",
   "metadata": {},
   "source": [
    "## Load the training data into feature matrix, class labels, and event ids:"
   ]
  },
  {
   "cell_type": "code",
   "execution_count": 2,
   "metadata": {
    "collapsed": false,
    "jupyter": {
     "outputs_hidden": false
    }
   },
   "outputs": [],
   "source": [
    "from proj1_helpers import *\n",
    "DATA_TRAIN_PATH = '../data/train.csv'\n",
    "y, tX, ids = load_csv_data(DATA_TRAIN_PATH)"
   ]
  },
  {
   "cell_type": "code",
   "execution_count": 3,
   "metadata": {},
   "outputs": [],
   "source": [
    "from implementations import *"
   ]
  },
  {
   "cell_type": "markdown",
   "metadata": {},
   "source": [
    "## Do your thing crazy machine learning thing here :) ..."
   ]
  },
  {
   "cell_type": "markdown",
   "metadata": {},
   "source": [
    "### Testing functions"
   ]
  },
  {
   "cell_type": "code",
   "execution_count": 8,
   "metadata": {},
   "outputs": [
    {
     "name": "stdout",
     "output_type": "stream",
     "text": [
      "w:[ 0.11112437 -0.13193399  0.04037909 -0.00803781 -0.02708453 -0.0223206\n",
      "  0.00779246 -0.03420333  0.05561468  0.03422516 -0.00105068 -0.00066237\n",
      " -0.00608488 -0.00058758  0.00156592 -0.00889026  0.00025142  0.00813071\n",
      " -0.01832749 -0.00046272 -0.0061188  -0.00612021  0.02563551]\n",
      "loss:0.1395303893969341\n"
     ]
    }
   ],
   "source": [
    "#GD\n",
    "initial_w=np.zeros(tX.shape[1])\n",
    "max_iters=50\n",
    "gamma=1e-1\n",
    "w,loss = least_squares_GD(y,tX,initial_w,max_iters,gamma)\n",
    "print(f'w:{w}\\nloss:{loss}')"
   ]
  },
  {
   "cell_type": "code",
   "execution_count": 9,
   "metadata": {},
   "outputs": [
    {
     "name": "stdout",
     "output_type": "stream",
     "text": [
      "w:[-2.12019520e-05 -4.94044289e-04  2.96246543e-04 -3.90707777e-04\n",
      "  5.23482579e-04 -3.96331563e-05 -3.26669559e-04 -2.34230418e-04\n",
      " -2.89782918e-04  2.86668362e-04  2.73303996e-04  4.23914015e-04\n",
      " -1.55248458e-04  7.87813873e-05 -5.77554012e-04 -6.49139391e-04\n",
      " -2.30441205e-06 -3.09842634e-04 -3.89619583e-04 -4.49892352e-04\n",
      " -4.44022628e-04 -4.44122978e-04 -3.33623512e-04]\n",
      "loss:2.673066034017251e-06\n"
     ]
    }
   ],
   "source": [
    "#SDG\n",
    "initial_w=np.zeros(tX.shape[1])\n",
    "max_iters=20\n",
    "gamma=1e-4\n",
    "w,loss = least_squares_SGD(y,tX,initial_w,max_iters,gamma)\n",
    "print(f'w:{w}\\nloss:{loss}')"
   ]
  },
  {
   "cell_type": "code",
   "execution_count": 51,
   "metadata": {},
   "outputs": [
    {
     "name": "stdout",
     "output_type": "stream",
     "text": [
      "w:[ 1.16975242e-01 -1.38150093e-01  3.99292663e-02 -1.40284132e-02\n",
      " -3.11943953e-02 -1.95051690e-02  2.73461699e-03 -3.06395624e-02\n",
      "  5.08073509e-02  3.30298815e-02 -1.09746816e-03 -7.30123610e-04\n",
      " -6.91177499e-03 -4.81678407e-04  1.61056629e-03 -7.18376228e-03\n",
      "  1.36619527e-04  8.37007020e-03 -3.31878295e-02  6.62202272e-02\n",
      " -4.58988756e-02 -2.22432239e-02  3.71830081e-02]\n",
      "loss:0.13944857218343729\n"
     ]
    }
   ],
   "source": [
    "#LS\n",
    "w,loss = least_squares(y,tX)\n",
    "print(f'w:{w}\\nloss:{loss}')"
   ]
  },
  {
   "cell_type": "code",
   "execution_count": 11,
   "metadata": {},
   "outputs": [
    {
     "name": "stdout",
     "output_type": "stream",
     "text": [
      "w:[ 1.16975236e-01 -1.38150109e-01  3.99292551e-02 -1.40284495e-02\n",
      " -3.11945405e-02 -1.95051926e-02  2.73460955e-03 -3.06396224e-02\n",
      "  5.08074435e-02  3.30298741e-02 -1.09762787e-03 -7.30454628e-04\n",
      " -6.91169931e-03 -4.81894884e-04  1.61011610e-03 -7.18370672e-03\n",
      "  1.36252158e-04  8.37011761e-03 -3.31874576e-02  6.62133575e-02\n",
      " -4.52931581e-02 -2.28424122e-02  3.71828946e-02]\n",
      "loss:0.13944857218627876\n"
     ]
    }
   ],
   "source": [
    "#RR\n",
    "lambda_=0.1\n",
    "w,loss = ridge_regression(y,tX,lambda_)\n",
    "print(f'w:{w}\\nloss:{loss}')"
   ]
  },
  {
   "cell_type": "code",
   "execution_count": 24,
   "metadata": {},
   "outputs": [
    {
     "name": "stdout",
     "output_type": "stream",
     "text": [
      "w:[ 3.61693779e-02 -4.26731181e-02  2.47892544e-02  1.35885870e-02\n",
      "  2.84150090e-03 -2.78721701e-03  1.82247463e-02 -2.78851045e-02\n",
      "  2.85221632e-02  3.00225544e-02 -1.54914500e-04 -4.93351655e-04\n",
      " -5.07625648e-03  8.29133480e-05  4.65271525e-04 -1.08609288e-02\n",
      "  7.93451544e-04  1.60605082e-02  1.19874227e-02  1.45442786e-02\n",
      "  1.37426720e-02  1.37425392e-02  1.71246877e-02]\n",
      "loss:165038.8117323399\n"
     ]
    }
   ],
   "source": [
    "#LR\n",
    "initial_w=np.zeros(tX.shape[1])\n",
    "max_iters=300\n",
    "gamma=1e-9\n",
    "w,loss = logistic_regression(y,tX,initial_w,max_iters,gamma)\n",
    "print(f'w:{w}\\nloss:{loss}')"
   ]
  },
  {
   "cell_type": "code",
   "execution_count": 14,
   "metadata": {},
   "outputs": [
    {
     "name": "stdout",
     "output_type": "stream",
     "text": [
      "w:[ 1.13364711e-02 -1.34978769e-02  7.78999852e-03  4.79497665e-03\n",
      "  7.14284076e-04 -6.87324090e-04  6.28894532e-03 -8.90103135e-03\n",
      "  9.30938355e-03  9.59857275e-03 -3.79480247e-05 -1.54127430e-04\n",
      " -1.55693970e-03  4.42507009e-05  1.44617030e-04 -3.28219370e-03\n",
      "  2.57120978e-04  5.55872862e-03  4.37007061e-03  5.19719183e-03\n",
      "  4.94763083e-03  4.94758864e-03  5.92705875e-03]\n",
      "loss:170394.17750370037\n"
     ]
    }
   ],
   "source": [
    "#RLR\n",
    "initial_w=np.zeros(tX.shape[1])\n",
    "max_iters=300\n",
    "gamma=1e-9\n",
    "lambda_=0.01\n",
    "w,loss = reg_logistic_regression(y,tX, lambda_, initial_w, max_iters,gamma)\n",
    "print(f'w:{w}\\nloss:{loss}')"
   ]
  },
  {
   "cell_type": "markdown",
   "metadata": {},
   "source": [
    "### Cleaning dataset"
   ]
  },
  {
   "cell_type": "markdown",
   "metadata": {},
   "source": [
    "#### Transform [-1,1] into [0,1]"
   ]
  },
  {
   "cell_type": "code",
   "execution_count": 4,
   "metadata": {},
   "outputs": [],
   "source": [
    "#tX[:,:][tX[:,:] == -999] = 0\n",
    "#we could normalize the data ranging from [0,1] since its binary prediction\",\n",
    "y = (y-min(y))/(max(y)-min(y))\n"
   ]
  },
  {
   "cell_type": "markdown",
   "metadata": {},
   "source": [
    "### Remove columns containing over 50% of NULL values"
   ]
  },
  {
   "cell_type": "code",
   "execution_count": 5,
   "metadata": {},
   "outputs": [
    {
     "name": "stdout",
     "output_type": "stream",
     "text": [
      "NULL percentage is: 0.15\n",
      "NULL percentage is: 0.0\n",
      "NULL percentage is: 0.0\n",
      "NULL percentage is: 0.0\n",
      "NULL percentage is: 0.71\n",
      "NULL percentage is: 0.71\n",
      "NULL percentage is: 0.71\n",
      "NULL percentage is: 0.0\n",
      "NULL percentage is: 0.0\n",
      "NULL percentage is: 0.0\n",
      "NULL percentage is: 0.0\n",
      "NULL percentage is: 0.0\n",
      "NULL percentage is: 0.71\n",
      "NULL percentage is: 0.0\n",
      "NULL percentage is: 0.0\n",
      "NULL percentage is: 0.0\n",
      "NULL percentage is: 0.0\n",
      "NULL percentage is: 0.0\n",
      "NULL percentage is: 0.0\n",
      "NULL percentage is: 0.0\n",
      "NULL percentage is: 0.0\n",
      "NULL percentage is: 0.0\n",
      "NULL percentage is: 0.0\n",
      "NULL percentage is: 0.4\n",
      "NULL percentage is: 0.4\n",
      "NULL percentage is: 0.4\n",
      "NULL percentage is: 0.71\n",
      "NULL percentage is: 0.71\n",
      "NULL percentage is: 0.71\n",
      "NULL percentage is: 0.0\n"
     ]
    }
   ],
   "source": [
    "remove_features=[]\n",
    "for i in range(tX.shape[1]):\n",
    "    col=tX[:,i]\n",
    "    total=col.shape[0]\n",
    "    counter_=collections.Counter(col)\n",
    "    nulls=counter_[-999]\n",
    "    null_percentage=round(nulls/total,2)\n",
    "    print(f'NULL percentage is: {null_percentage}')\n",
    "    if null_percentage>0.5:\n",
    "        remove_features.append(i)\n",
    "tX=np.delete(tX,remove_features,1)"
   ]
  },
  {
   "cell_type": "code",
   "execution_count": null,
   "metadata": {},
   "outputs": [],
   "source": [
    "remove_features=[]\n",
    "for i in range(tX.shape[1]):\n",
    "    col=tX[:,i]\n",
    "    total=col.shape[0]\n",
    "    counter_=collections.Counter(col)\n",
    "    nulls=counter_[-999]\n",
    "    null_percentage=round(nulls/total,2)\n",
    "    print(f'NULL percentage is: {null_percentage}')\n",
    "    if null_percentage>0.5:\n",
    "        remove_features.append(i)\n",
    "tX=np.delete(tX,remove_features,1)"
   ]
  },
  {
   "cell_type": "markdown",
   "metadata": {},
   "source": [
    "### Removing outliers"
   ]
  },
  {
   "cell_type": "code",
   "execution_count": 6,
   "metadata": {},
   "outputs": [],
   "source": [
    "q1 = []\n",
    "q2 = []\n",
    "k = 1\n",
    "for i in range(0,tX.shape[1]):\n",
    "    q1 = np.percentile(tX[:,i],25)\n",
    "    q2 = np.percentile(tX[:,i],50)\n",
    "    q3 = np.percentile(tX[:,i],75)\n",
    "    tX[:,i][(tX[:,i] < q1 - k*(q3-q1))] = q2\n",
    "    tX[:,i][(tX[:,i] > q3 + k*(q3-q1))] = q2\n"
   ]
  },
  {
   "cell_type": "markdown",
   "metadata": {},
   "source": [
    "### Normalization of features"
   ]
  },
  {
   "cell_type": "code",
   "execution_count": 48,
   "metadata": {},
   "outputs": [
    {
     "name": "stdout",
     "output_type": "stream",
     "text": [
      "[1. 1. 1. 1. 1. 1. 1. 1. 1. 1. 1. 1. 1. 1. 1. 1. 1. 1. 1. 1. 1. 1. 1.]\n"
     ]
    }
   ],
   "source": [
    "tX,_,_ = standardize(tX)\n",
    "    \n",
    "#tX[:,:][tX[:,:] = -999].shape[0]\n"
   ]
  },
  {
   "cell_type": "markdown",
   "metadata": {},
   "source": [
    "### Remove less influent features"
   ]
  },
  {
   "cell_type": "code",
   "execution_count": 50,
   "metadata": {},
   "outputs": [
    {
     "data": {
      "text/plain": [
       "array([1, 3])"
      ]
     },
     "execution_count": 50,
     "metadata": {},
     "output_type": "execute_result"
    }
   ],
   "source": [
    "arr=np.array([5,4,28,1,3])\n",
    "arr.argsort()[:3]\n",
    "arr[arr<=3]"
   ]
  },
  {
   "cell_type": "code",
   "execution_count": 59,
   "metadata": {},
   "outputs": [
    {
     "name": "stdout",
     "output_type": "stream",
     "text": [
      "w:[ 1.16975242e-01 -1.38150093e-01  3.99292663e-02 -1.40284132e-02\n",
      " -3.11943953e-02 -1.95051690e-02  2.73461699e-03 -3.06395624e-02\n",
      "  5.08073509e-02  3.30298815e-02 -1.09746816e-03 -7.30123610e-04\n",
      " -6.91177499e-03 -4.81678407e-04  1.61056629e-03 -7.18376228e-03\n",
      "  1.36619527e-04  8.37007020e-03 -3.31878295e-02  6.62202272e-02\n",
      " -4.58988756e-02 -2.22432239e-02  3.71830081e-02]\n",
      "loss:0.13944857218343729\n",
      "w:[ 1.16975242e-01 -1.38150093e-01  3.99292663e-02 -1.40284132e-02\n",
      " -3.11943953e-02 -1.95051690e-02  2.73461699e-03 -3.06395624e-02\n",
      "  5.08073509e-02  3.30298815e-02 -1.09746816e-03 -7.30123610e-04\n",
      " -6.91177499e-03 -4.81678407e-04  1.61056629e-03 -7.18376228e-03\n",
      "  1.36619527e-04  8.37007020e-03 -3.31878295e-02  6.62202272e-02\n",
      " -4.58988756e-02 -2.22432239e-02  3.71830081e-02]\n",
      "\tshape:(23,)\n",
      "w:[ 0.11697524 -0.13815009  0.03992927 -0.01402841 -0.0311944  -0.01950517\n",
      "  0.00273462 -0.03063956  0.05080735  0.03302988 -0.00109747 -0.00691177\n",
      "  0.00161057 -0.00718376  0.00837007 -0.03318783  0.06622023 -0.04589888\n",
      " -0.02224322  0.03718301]\n",
      "\tshape:(20,)\n"
     ]
    }
   ],
   "source": [
    "#Apply least squares\n",
    "threshold=1e-3\n",
    "w,loss = least_squares(y,tX)\n",
    "print(f'w:{w}\\nloss:{loss}')\n",
    "print(f'w:{w}\\n\\tshape:{w.shape}')\n",
    "w=w[np.abs(w)>=threshold]\n",
    "print(f'w:{w}\\n\\tshape:{w.shape}')\n"
   ]
  },
  {
   "cell_type": "markdown",
   "metadata": {},
   "source": [
    "### Logistic Cross Validation - Searching best Degree"
   ]
  },
  {
   "cell_type": "code",
   "execution_count": 15,
   "metadata": {},
   "outputs": [
    {
     "name": "stdout",
     "output_type": "stream",
     "text": [
      "[0.5946081976956543, 0.57258475274175, 0.769664518409219, 0.7800454783380737, 1.1340303010250576, 1.3728935014020909]\n"
     ]
    }
   ],
   "source": [
    "degrees=np.arange(6)\n",
    "k_fold=5\n",
    "max_iters=50\n",
    "gamma=1e-8\n",
    "rmse_tr_list=[]\n",
    "rmse_te_list=[]\n",
    "for D in degrees:\n",
    "    #compute loss with cross-validation\n",
    "    rmse_tr, rmse_te=apply_cross_validation_logistic(y,tX,k_fold,D,max_iters,gamma,1)\n",
    "    rmse_tr_list.append(rmse_tr)\n",
    "    rmse_te_list.append(rmse_te)\n",
    "print(rmse_te_list)\n",
    "D_best_index=degrees[np.argmin(np.array(rmse_te_list))]\n",
    "D_best=degrees[D_best_index]\n",
    "    "
   ]
  },
  {
   "cell_type": "code",
   "execution_count": 16,
   "metadata": {},
   "outputs": [
    {
     "data": {
      "text/plain": [
       "1"
      ]
     },
     "execution_count": 16,
     "metadata": {},
     "output_type": "execute_result"
    }
   ],
   "source": [
    "D_best"
   ]
  },
  {
   "cell_type": "markdown",
   "metadata": {},
   "source": [
    "### Cross Validation Ridge Regression - Best Degree"
   ]
  },
  {
   "cell_type": "code",
   "execution_count": 60,
   "metadata": {},
   "outputs": [
    {
     "name": "stdout",
     "output_type": "stream",
     "text": [
      "degree:5 lambda_:0.0001\n"
     ]
    }
   ],
   "source": [
    "degrees=np.arange(6)\n",
    "lambdas=np.logspace(-6,0,10)\n",
    "k_fold=10\n",
    "rmse_tr_list=np.zeros((len(degrees),len(lambdas)))\n",
    "rmse_te_list=np.zeros((len(degrees),len(lambdas)))\n",
    "for i,D in enumerate(degrees):\n",
    "    for j,lambda_ in enumerate(lambdas):\n",
    "        #compute loss with cross-validation\n",
    "        rmse_tr, rmse_te=apply_cross_validation(y,tX,k_fold,D,lambda_,1)\n",
    "        rmse_tr_list[i,j]=rmse_tr\n",
    "        rmse_te_list[i,j]=rmse_te\n",
    "D_best_index,lambda_best_index=np.unravel_index(np.argmin(rmse_te_list),rmse_te_list.shape)\n",
    "D_best=degrees[D_best_index]\n",
    "lambda_best=lambdas[lambda_best_index]\n",
    "print(f'degree:{D_best} lambda_:{lambda_best}')    "
   ]
  },
  {
   "cell_type": "markdown",
   "metadata": {},
   "source": [
    "### Testing ridge-regression with best Degree"
   ]
  },
  {
   "cell_type": "code",
   "execution_count": 61,
   "metadata": {},
   "outputs": [
    {
     "name": "stdout",
     "output_type": "stream",
     "text": [
      "w:[ 4.49194916e+02  3.37350622e-01 -2.07981427e-01  1.19106993e-02\n",
      " -3.21258465e-02 -1.43233988e-02 -2.15183691e-02 -8.27066892e-03\n",
      " -3.01615397e-02 -3.91084251e-02  2.85889649e-02 -9.89020450e-04\n",
      " -4.05536127e-03 -1.32385199e-02 -1.71464011e-04  2.31157332e-03\n",
      " -3.92496271e-03 -6.93262789e-04  8.76510651e-03 -2.39755687e+01\n",
      "  3.67831678e+01 -4.53846408e+02  1.16963732e+02  2.73576681e-02\n",
      " -1.77049329e-02 -5.97305031e-02 -3.17167466e-03  1.51709603e-02\n",
      "  4.83252214e-03  1.26459450e-04  3.79595880e-02  2.57357457e-02\n",
      "  3.68755081e-02 -1.01021570e-02 -7.46933219e-03 -9.18574504e-03\n",
      " -5.55925907e-03 -3.22946753e-02 -8.23481796e-03 -1.21166419e-02\n",
      "  1.58333965e-03 -1.02037443e-02  2.80809352e+01 -5.51456944e+01\n",
      " -5.02800694e+02  6.65514231e+01 -8.31335366e-02 -8.85960820e-02\n",
      "  6.07393701e-02  1.04700462e-02 -1.00029537e-03 -1.47836607e-02\n",
      "  1.38422719e-02 -1.40721501e-02 -5.85230900e-03  1.66241742e-01\n",
      " -1.63676379e-03 -4.15861075e-04  4.42018326e-03  9.00625497e-03\n",
      "  2.23280789e-03  2.80893459e-04  4.29758733e-04  1.72497086e-03\n",
      " -2.13862522e-03 -2.93931503e+01  3.95640404e+01 -3.33626375e+02\n",
      " -8.01123370e+01  9.20847165e-02  7.54221970e-04  1.59087810e-02\n",
      " -3.71124261e-03 -3.75395338e-03 -6.46632334e-03 -6.11081506e-03\n",
      " -7.62611291e-03 -3.28668305e-03  1.93581113e-02  2.42463632e-03\n",
      " -3.30084523e-03  2.78610621e-03 -3.60270546e-03  8.42878525e-05\n",
      "  2.11637224e-03  6.96270908e-03 -1.07611403e-03 -1.13575068e-03\n",
      "  3.60542357e+01 -1.35056367e+01  2.51783286e+02  4.51919867e+01\n",
      " -3.70482387e-02  5.85839071e-03 -8.47340887e-03 -1.96459478e-03\n",
      "  1.20485503e-03  1.87208535e-03  6.22584337e-04  2.89916088e-03\n",
      "  1.31909697e-03 -8.62911852e-02 -6.03611828e-04  1.78106794e-04\n",
      " -1.11557918e-03  4.91046960e-04 -7.34079804e-04 -5.41978187e-04\n",
      " -1.94990878e-03 -5.21867405e-04  9.22072411e-04 -1.24429668e+01\n",
      "  1.74419944e+00  6.28904251e+02 -7.39232466e+01  4.96730008e-03]\n",
      "loss:0.06993653599707152\n"
     ]
    }
   ],
   "source": [
    "phi_tX=build_poly(tX,D_best)\n",
    "w,loss=ridge_regression(y,phi_tX,lambda_best)\n",
    "print(f'w:{w}\\nloss:{loss}')"
   ]
  },
  {
   "cell_type": "markdown",
   "metadata": {},
   "source": []
  },
  {
   "cell_type": "markdown",
   "metadata": {
    "jp-MarkdownHeadingCollapsed": true,
    "tags": []
   },
   "source": [
    "## Generate predictions and save ouput in csv format for submission:"
   ]
  },
  {
   "cell_type": "code",
   "execution_count": 62,
   "metadata": {
    "collapsed": false,
    "jupyter": {
     "outputs_hidden": false
    }
   },
   "outputs": [
    {
     "name": "stdout",
     "output_type": "stream",
     "text": [
      "[406.01834519  35.39343386  40.47399952  63.30439439   0.77997775\n",
      "  21.76043127 116.25814329   0.84526994   1.19452041  22.43646206\n",
      "   1.2132615    1.81577961  22.17629532   1.26392824   1.81442676\n",
      "  32.31916029   1.81291407 126.95594878   0.97939339 533.15593608\n",
      " 489.46814712 489.45777374  98.47043502]\n"
     ]
    }
   ],
   "source": [
    "DATA_TEST_PATH = '../data/test.csv'\n",
    "_, tX_test, ids_test = load_csv_data(DATA_TEST_PATH)\n",
    "tX_test=np.delete(tX_test,remove_features,1)\n",
    "tX_test,_,_ = standardize(tX_test)\n",
    "tX_test=build_poly(tX_test,D_best)"
   ]
  },
  {
   "cell_type": "code",
   "execution_count": 64,
   "metadata": {
    "collapsed": false,
    "jupyter": {
     "outputs_hidden": false
    }
   },
   "outputs": [],
   "source": [
    "weights=w\n",
    "OUTPUT_PATH = 'output6.csv' # TODO: fill in desired name of output file for submission\n",
    "y_pred = predict_labels(weights, tX_test)\n",
    "create_csv_submission(ids_test, y_pred, OUTPUT_PATH)"
   ]
  },
  {
   "cell_type": "code",
   "execution_count": null,
   "metadata": {},
   "outputs": [],
   "source": []
  }
 ],
 "metadata": {
  "anaconda-cloud": {},
  "interpreter": {
   "hash": "769d560f7a9260275cfba8eac8dfb7a8ebd643a4b3237d9fce15021d62ac6fd5"
  },
  "kernelspec": {
   "display_name": "Python 3.8.8 64-bit ('base': conda)",
   "name": "python3"
  },
  "language_info": {
   "codemirror_mode": {
    "name": "ipython",
    "version": 3
   },
   "file_extension": ".py",
   "mimetype": "text/x-python",
   "name": "python",
   "nbconvert_exporter": "python",
   "pygments_lexer": "ipython3",
   "version": "3.8.8"
  }
 },
 "nbformat": 4,
 "nbformat_minor": 4
}
