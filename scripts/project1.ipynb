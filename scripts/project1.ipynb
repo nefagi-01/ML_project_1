{
 "cells": [
  {
   "cell_type": "code",
   "execution_count": 54,
   "metadata": {
    "tags": []
   },
   "outputs": [
    {
     "name": "stdout",
     "output_type": "stream",
     "text": [
      "The autoreload extension is already loaded. To reload it, use:\n",
      "  %reload_ext autoreload\n"
     ]
    }
   ],
   "source": [
    "# Useful starting lines\n",
    "%matplotlib inline\n",
    "import numpy as np\n",
    "import matplotlib.pyplot as plt\n",
    "%load_ext autoreload\n",
    "%autoreload 2"
   ]
  },
  {
   "cell_type": "markdown",
   "metadata": {},
   "source": [
    "## Load the training data into feature matrix, class labels, and event ids:"
   ]
  },
  {
   "cell_type": "code",
   "execution_count": 55,
   "metadata": {
    "collapsed": false,
    "jupyter": {
     "outputs_hidden": false
    }
   },
   "outputs": [],
   "source": [
    "from proj1_helpers import *\n",
    "DATA_TRAIN_PATH = '../data/train.csv'\n",
    "y, tX, ids = load_csv_data(DATA_TRAIN_PATH)"
   ]
  },
  {
   "cell_type": "code",
   "execution_count": null,
   "metadata": {},
   "outputs": [],
   "source": []
  },
  {
   "cell_type": "code",
   "execution_count": 56,
   "metadata": {},
   "outputs": [],
   "source": [
    "from implementations import *"
   ]
  },
  {
   "cell_type": "markdown",
   "metadata": {},
   "source": [
    "## Do your thing crazy machine learning thing here :) ..."
   ]
  },
  {
   "cell_type": "markdown",
   "metadata": {},
   "source": [
    "### Testing functions"
   ]
  },
  {
   "cell_type": "code",
   "execution_count": 68,
   "metadata": {},
   "outputs": [
    {
     "name": "stdout",
     "output_type": "stream",
     "text": [
      "w:[ 7.78069080e+89  3.75595575e+89  5.33146999e+89  2.10447516e+89\n",
      " -7.26881329e+90 -7.34784021e+90 -7.26843738e+90  1.82589402e+88\n",
      "  9.76942216e+88  7.20271270e+89  9.45313458e+87 -3.51706697e+87\n",
      " -7.26859520e+90  2.34216643e+89 -1.17786028e+86 -8.96959680e+85\n",
      "  2.94865547e+89 -2.17205354e+86  3.11643298e+86  2.31457642e+89\n",
      " -1.25424077e+86  1.08362944e+90  2.52915489e+87 -4.33607534e+90\n",
      " -4.50259146e+90 -4.50262992e+90 -7.27548994e+90 -7.26853993e+90\n",
      " -7.26854228e+90  1.59083782e+89]\n",
      "loss:3.782829607510557e+179\n"
     ]
    }
   ],
   "source": [
    "#GD\n",
    "initial_w=np.zeros(tX.shape[1])\n",
    "max_iters=20\n",
    "gamma=0.01\n",
    "w,loss = least_squares_GD(y,tX,initial_w,max_iters,gamma)\n",
    "print(f'w:{w}\\nloss:{loss}')"
   ]
  },
  {
   "cell_type": "code",
   "execution_count": 59,
   "metadata": {},
   "outputs": [
    {
     "name": "stdout",
     "output_type": "stream",
     "text": [
      "w:[-1.14177880e+37 -9.23466643e+36 -9.19520989e+36 -1.40024925e+37\n",
      " -1.14517606e+35 -1.41669410e+37 -2.12703926e+35 -1.70854133e+35\n",
      " -5.90760237e+36 -3.35953402e+37 -3.52723040e+35  1.09026157e+34\n",
      "  8.56548786e+33 -3.67921963e+36 -1.10549306e+35 -9.95920841e+34\n",
      " -1.01297199e+37  7.80998009e+34 -6.43789692e+34 -3.61752551e+36\n",
      " -3.33732344e+35 -4.97169147e+37 -2.58385384e+35 -1.05163270e+37\n",
      " -9.67934829e+34  4.35085292e+35 -9.25236128e+36 -2.62605373e+35\n",
      "  2.56673692e+35 -1.97862644e+37]\n",
      "loss:9.292159809852051e+77\n"
     ]
    }
   ],
   "source": [
    "#SDG\n",
    "initial_w=np.zeros(tX.shape[1])\n",
    "max_iters=20\n",
    "gamma=0.0001\n",
    "w,loss = least_squares_SGD(y,tX,initial_w,max_iters,gamma)\n",
    "print(f'w:{w}\\nloss:{loss}')"
   ]
  },
  {
   "cell_type": "code",
   "execution_count": 60,
   "metadata": {},
   "outputs": [
    {
     "name": "stdout",
     "output_type": "stream",
     "text": [
      "w:[ 8.66449927e-03 -8.67853194e-03  4.09297842e-03 -8.80367749e-04\n",
      "  2.98488106e-02 -4.71769577e-05 -4.00640280e-02 -9.86416872e-02\n",
      " -1.15656502e-03 -5.46401937e-05 -1.40907270e-01  7.92360038e-02\n",
      "  2.59045315e-02  4.94027838e-03 -1.49793598e-03 -1.28588312e-03\n",
      " -1.08822300e-03 -2.52807414e-04  1.17754335e-03 -1.31328474e-03\n",
      "  3.62511280e-05  1.82765835e-05 -3.66680254e-01  1.75936379e-04\n",
      " -1.72510726e-04  3.13320130e-04 -3.80980841e-04 -5.83914113e-03\n",
      " -8.98019819e-03  5.54269426e-04]\n",
      "loss:0.3155719238476981\n"
     ]
    }
   ],
   "source": [
    "#LS\n",
    "w,loss = least_squares(y,tX)\n",
    "print(f'w:{w}\\nloss:{loss}')"
   ]
  },
  {
   "cell_type": "code",
   "execution_count": 61,
   "metadata": {},
   "outputs": [
    {
     "name": "stdout",
     "output_type": "stream",
     "text": [
      "w:[ 8.66449749e-03 -8.67853397e-03  4.09297851e-03 -8.80368432e-04\n",
      "  2.98486078e-02 -4.71770541e-05 -4.00640997e-02 -9.86418046e-02\n",
      " -1.15657194e-03 -5.46412338e-05 -1.40907154e-01  7.92359838e-02\n",
      "  2.59047803e-02  4.94027345e-03 -1.49793599e-03 -1.28588239e-03\n",
      " -1.08823292e-03 -2.52808999e-04  1.17754341e-03 -1.31328786e-03\n",
      "  3.62514153e-05  1.82757996e-05 -3.66678851e-01  1.75935821e-04\n",
      " -1.72510098e-04  3.13318989e-04 -3.80995170e-04 -5.83912382e-03\n",
      " -8.98017563e-03  5.54267225e-04]\n",
      "loss:0.3155719238478015\n"
     ]
    }
   ],
   "source": [
    "#RR\n",
    "lambda_=0.1\n",
    "w,loss = ridge_regression(y,tX,lambda_)\n",
    "print(f'w:{w}\\nloss:{loss}')"
   ]
  },
  {
   "cell_type": "code",
   "execution_count": 70,
   "metadata": {},
   "outputs": [
    {
     "name": "stdout",
     "output_type": "stream",
     "text": [
      "w:[-2.70211090e+04 -9.03689665e+04 -2.20871046e+04 -2.83350241e+04\n",
      "  1.14297779e+03 -2.71029888e+05  2.52144265e+02 -1.13847229e+03\n",
      " -1.49726885e+04 -9.31188272e+04 -1.60865871e+03  1.15689378e+03\n",
      "  1.64801299e+03 -6.86754249e+03 -1.47372800e+01 -4.70078700e+01\n",
      " -3.26725701e+04  1.06899500e+00  1.82857150e+01 -3.92332897e+04\n",
      "  7.41035800e+01 -1.27662515e+05 -1.54813000e+03  1.78834599e+05\n",
      "  2.23868475e+05  2.23865161e+05 -4.09994204e+04  1.75428290e+03\n",
      "  1.72423929e+03 -4.67402179e+04]\n",
      "loss:nan\n"
     ]
    }
   ],
   "source": [
    "#LR\n",
    "initial_w=np.zeros(tX.shape[1])\n",
    "max_iters=5\n",
    "gamma=0.01\n",
    "w,loss = logistic_regression(y_,tX,initial_w,max_iters,gamma)\n",
    "print(f'w:{w}\\nloss:{loss}')"
   ]
  },
  {
   "cell_type": "code",
   "execution_count": null,
   "metadata": {},
   "outputs": [],
   "source": [
    "#RLR\n",
    "initial_w=np.zeros(tX.shape[1])\n",
    "max_iters=5\n",
    "gamma=0.00001\n",
    "lambda_=0.01\n",
    "w,loss = reg_logistic_regression(y,tX, lambda_, initial_w, max_iters,gamma)\n",
    "print(f'w:{w}\\nloss:{loss}')"
   ]
  },
  {
   "cell_type": "markdown",
   "metadata": {},
   "source": [
    "### Cleaning dataset"
   ]
  },
  {
   "cell_type": "code",
   "execution_count": 45,
   "metadata": {},
   "outputs": [],
   "source": [
    "tX[:,:][tX[:,:] == -999] = 0\n",
    "#we could normalize the data ranging from [0,1] since its binary prediction\",\n",
    "y = (y-min(y))/(max(y)-min(y))\n"
   ]
  },
  {
   "cell_type": "code",
   "execution_count": 51,
   "metadata": {},
   "outputs": [],
   "source": [
    "q1 = []\n",
    "q2 = []\n",
    "k = 1\n",
    "for i in range(0,tX.shape[1]):\n",
    "    q1 = np.percentile(tX[:,i],25)\n",
    "    q2 = np.percentile(tX[:,i],50)\n",
    "    q3 = np.percentile(tX[:,i],75)\n",
    "    tX[:,i][(tX[:,i] < q1 - k*(q3-q1))] = q2\n",
    "    tX[:,i][(tX[:,i] > q3 + k*(q3-q1))] = q2\n",
    "    \n",
    "#tX[:,:][tX[:,:] = -999].shape[0]"
   ]
  },
  {
   "cell_type": "markdown",
   "metadata": {},
   "source": [
    "## Generate predictions and save ouput in csv format for submission:"
   ]
  },
  {
   "cell_type": "code",
   "execution_count": 47,
   "metadata": {
    "collapsed": false,
    "jupyter": {
     "outputs_hidden": false
    }
   },
   "outputs": [],
   "source": [
    "DATA_TEST_PATH = '../data/test.csv'\n",
    "_, tX_test, ids_test = load_csv_data(DATA_TEST_PATH)"
   ]
  },
  {
   "cell_type": "code",
   "execution_count": 11,
   "metadata": {
    "collapsed": false,
    "jupyter": {
     "outputs_hidden": false
    }
   },
   "outputs": [
    {
     "ename": "NameError",
     "evalue": "name 'weights' is not defined",
     "output_type": "error",
     "traceback": [
      "\u001b[0;31m---------------------------------------------------------------------------\u001b[0m",
      "\u001b[0;31mNameError\u001b[0m                                 Traceback (most recent call last)",
      "\u001b[0;32m/var/folders/7g/2ds3y3yd6319x1125r61pg1c0000gn/T/ipykernel_5972/2223051364.py\u001b[0m in \u001b[0;36m<module>\u001b[0;34m\u001b[0m\n\u001b[1;32m      1\u001b[0m \u001b[0mOUTPUT_PATH\u001b[0m \u001b[0;34m=\u001b[0m \u001b[0;34m''\u001b[0m \u001b[0;31m# TODO: fill in desired name of output file for submission\u001b[0m\u001b[0;34m\u001b[0m\u001b[0;34m\u001b[0m\u001b[0m\n\u001b[0;32m----> 2\u001b[0;31m \u001b[0my_pred\u001b[0m \u001b[0;34m=\u001b[0m \u001b[0mpredict_labels\u001b[0m\u001b[0;34m(\u001b[0m\u001b[0mweights\u001b[0m\u001b[0;34m,\u001b[0m \u001b[0mtX_test\u001b[0m\u001b[0;34m)\u001b[0m\u001b[0;34m\u001b[0m\u001b[0;34m\u001b[0m\u001b[0m\n\u001b[0m\u001b[1;32m      3\u001b[0m \u001b[0mcreate_csv_submission\u001b[0m\u001b[0;34m(\u001b[0m\u001b[0mids_test\u001b[0m\u001b[0;34m,\u001b[0m \u001b[0my_pred\u001b[0m\u001b[0;34m,\u001b[0m \u001b[0mOUTPUT_PATH\u001b[0m\u001b[0;34m)\u001b[0m\u001b[0;34m\u001b[0m\u001b[0;34m\u001b[0m\u001b[0m\n",
      "\u001b[0;31mNameError\u001b[0m: name 'weights' is not defined"
     ]
    }
   ],
   "source": [
    "OUTPUT_PATH = '' # TODO: fill in desired name of output file for submission\n",
    "y_pred = predict_labels(weights, tX_test)\n",
    "create_csv_submission(ids_test, y_pred, OUTPUT_PATH)"
   ]
  },
  {
   "cell_type": "code",
   "execution_count": null,
   "metadata": {},
   "outputs": [],
   "source": []
  }
 ],
 "metadata": {
  "anaconda-cloud": {},
  "kernelspec": {
   "display_name": "Python 3 (ipykernel)",
   "language": "python",
   "name": "python3"
  },
  "language_info": {
   "codemirror_mode": {
    "name": "ipython",
    "version": 3
   },
   "file_extension": ".py",
   "mimetype": "text/x-python",
   "name": "python",
   "nbconvert_exporter": "python",
   "pygments_lexer": "ipython3",
   "version": "3.7.11"
  }
 },
 "nbformat": 4,
 "nbformat_minor": 4
}
