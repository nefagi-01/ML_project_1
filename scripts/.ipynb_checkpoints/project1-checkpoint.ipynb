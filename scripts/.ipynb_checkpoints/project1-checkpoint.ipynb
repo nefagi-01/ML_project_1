{
 "cells": [
  {
   "cell_type": "code",
   "execution_count": 2,
   "metadata": {
    "tags": []
   },
   "outputs": [],
   "source": [
    "# Useful starting lines\n",
    "%matplotlib inline\n",
    "import numpy as np\n",
    "import matplotlib.pyplot as plt\n",
    "%load_ext autoreload\n",
    "%autoreload 2"
   ]
  },
  {
   "cell_type": "markdown",
   "metadata": {},
   "source": [
    "## Load the training data into feature matrix, class labels, and event ids:"
   ]
  },
  {
   "cell_type": "code",
   "execution_count": 21,
   "metadata": {
    "collapsed": false,
    "jupyter": {
     "outputs_hidden": false
    }
   },
   "outputs": [],
   "source": [
    "from proj1_helpers import *\n",
    "DATA_TRAIN_PATH = '../data/train.csv'\n",
    "y, tX, ids = load_csv_data(DATA_TRAIN_PATH)"
   ]
  },
  {
   "cell_type": "code",
   "execution_count": 4,
   "metadata": {},
   "outputs": [],
   "source": [
    "#import all scripts\n",
    "from least_square import *"
   ]
  },
  {
   "cell_type": "markdown",
   "metadata": {},
   "source": [
    "## Do your thing crazy machine learning thing here :) ..."
   ]
  },
  {
   "cell_type": "code",
   "execution_count": 22,
   "metadata": {},
   "outputs": [
    {
     "name": "stdout",
     "output_type": "stream",
     "text": [
      "[ 1. -1. -1. ...  1. -1. -1.]\n",
      "[[ 138.47    51.655   97.827 ...    1.24    -2.475  113.497]\n",
      " [ 160.937   68.768  103.235 ... -999.    -999.      46.226]\n",
      " [   0.     162.172  125.953 ... -999.    -999.      44.251]\n",
      " ...\n",
      " [ 105.457   60.526   75.839 ... -999.    -999.      41.992]\n",
      " [  94.951   19.362   68.812 ... -999.    -999.       0.   ]\n",
      " [   0.      72.756   70.831 ... -999.    -999.       0.   ]]\n"
     ]
    }
   ],
   "source": [
    "##clean dataset\n",
    "print(y)\n",
    "tX[:,0][tX[:,0] == -999] = 0\n",
    "print(tX)"
   ]
  },
  {
   "cell_type": "code",
   "execution_count": 5,
   "metadata": {},
   "outputs": [
    {
     "name": "stdout",
     "output_type": "stream",
     "text": [
      "Gradient Descent(0/29): loss=0.3396868094770931, w0=8.034943108457065e-05, w1=-0.007202022733290323\n",
      "Gradient Descent(1/29): loss=0.3396868094770931, w0=8.035619448807387e-05, w1=-0.007202026652906316\n",
      "Gradient Descent(2/29): loss=0.33968692971209086, w0=-0.00035005137957202354, w1=-0.006983038624760862\n",
      "Gradient Descent(3/29): loss=395.6995428246848, w0=24.91765433850139, w1=-12.55490699054905\n",
      "Gradient Descent(4/29): loss=1300133461436.722, w0=-1430061.5639749074, w1=719537.6533415294\n",
      "Gradient Descent(5/29): loss=4.275466816759471e+21, w0=82012917917.39722, w1=-41262080190.54301\n",
      "Gradient Descent(6/29): loss=1.4059800103023793e+31, w0=-4703082536861912.0, w1=2366186192473752.5\n",
      "Gradient Descent(7/29): loss=4.623541414659205e+40, w0=2.6969979755201787e+20, w1=-1.356896488487091e+20\n",
      "Gradient Descent(8/29): loss=1.5204437514354157e+50, w0=-1.5466015535367216e+25, w1=7.781163152828814e+24\n",
      "Gradient Descent(9/29): loss=4.9999534857619515e+59, w0=8.869032507098266e+29, w1=-4.462131085624397e+29\n",
      "Gradient Descent(10/29): loss=1.6442262225209987e+69, w0=-5.085972994610616e+34, w1=2.5588223038473104e+34\n",
      "Gradient Descent(11/29): loss=5.407010042241794e+78, w0=2.916566296686903e+39, w1=-1.467364238527575e+39\n",
      "Gradient Descent(12/29): loss=1.7780860806415105e+88, w0=-1.6725135921429778e+44, w1=8.414643741662973e+43\n",
      "Gradient Descent(13/29): loss=5.847205915046286e+97, w0=9.591078793835913e+48, w1=-4.825402407936443e+48\n",
      "Gradient Descent(14/29): loss=1.922843746722151e+107, w0=-5.500032577414664e+53, w1=2.7671413209369167e+53\n",
      "Gradient Descent(15/29): loss=6.323239044471405e+116, w0=3.1540099922923914e+58, w1=-1.5868253966638627e+58\n",
      "Gradient Descent(16/29): loss=2.0793864338528172e+126, w0=-1.808676383541764e+63, w1=9.099697295708984e+62\n",
      "Gradient Descent(17/29): loss=6.838027015713732e+135, w0=1.0371908359123693e+68, w1=-5.2182484000836695e+67\n",
      "Gradient Descent(18/29): loss=2.2486735849763904e+145, w0=-5.9478016072395925e+72, w1=2.9924200201490566e+72\n",
      "Gradient Descent(19/29): loss=7.394724940616205e+154, w0=3.4107844703393406e+77, w1=-1.7160121348085498e+77\n",
      "Gradient Descent(20/29): loss=2.431742753270499e+164, w0=-1.9559244694624517e+82, w1=9.84052247673279e+81\n",
      "Gradient Descent(21/29): loss=7.996744795203734e+173, w0=1.1216306874592276e+87, w1=-5.643076797116409e+86\n",
      "Gradient Descent(22/29): loss=2.629715961263303e+183, w0=-6.432024440064462e+91, w1=3.236039124289102e+91\n",
      "Gradient Descent(23/29): loss=8.647776331527652e+192, w0=3.6884634898231946e+96, w1=-1.8557162325490393e+96\n",
      "Gradient Descent(24/29): loss=2.843806577658064e+202, w0=-2.1151603266641748e+101, w1=1.0641659768259196e+101\n",
      "Gradient Descent(25/29): loss=9.351809691986615e+211, w0=1.2129449619978627e+106, w1=-6.102491352777109e+105\n",
      "Gradient Descent(26/29): loss=3.075326754014227e+221, w0=-6.955668855402022e+110, w1=3.4994917636622884e+110\n",
      "Gradient Descent(27/29): loss=1.0113159864726234e+231, w0=3.988748932706719e+115, w1=-2.0067939298868668e+115\n",
      "Gradient Descent(28/29): loss=3.325695466864083e+240, w0=-2.2873599044055446e+120, w1=1.1508019303969458e+120\n",
      "Gradient Descent(29/29): loss=1.093649313000325e+250, w0=1.3116933205248777e+125, w1=-6.599307797786677e+124\n"
     ]
    }
   ],
   "source": [
    "#least_square for normal equation\n",
    "weights_norm_eq,err_norm_eq = least_squares(y, tX)\n",
    "\n",
    "#gradient_descent\n",
    "#initial_w = np.array([10]*30)\n",
    "initial_w = weights_norm_eq\n",
    "max_iters = 30\n",
    "gamma = 0.01\n",
    "weights_GD,err_GD = least_squares_GD(y, tX, initial_w, max_iters, gamma)\n",
    "#ERR: why loss to inf?"
   ]
  },
  {
   "cell_type": "code",
   "execution_count": null,
   "metadata": {},
   "outputs": [],
   "source": []
  },
  {
   "cell_type": "code",
   "execution_count": null,
   "metadata": {},
   "outputs": [],
   "source": []
  },
  {
   "cell_type": "code",
   "execution_count": null,
   "metadata": {},
   "outputs": [],
   "source": []
  },
  {
   "cell_type": "code",
   "execution_count": null,
   "metadata": {},
   "outputs": [],
   "source": []
  },
  {
   "cell_type": "markdown",
   "metadata": {},
   "source": [
    "## Generate predictions and save ouput in csv format for submission:"
   ]
  },
  {
   "cell_type": "code",
   "execution_count": 10,
   "metadata": {
    "collapsed": false,
    "jupyter": {
     "outputs_hidden": false
    }
   },
   "outputs": [],
   "source": [
    "DATA_TEST_PATH = '../data/test.csv'\n",
    "_, tX_test, ids_test = load_csv_data(DATA_TEST_PATH)"
   ]
  },
  {
   "cell_type": "code",
   "execution_count": 31,
   "metadata": {
    "collapsed": false,
    "jupyter": {
     "outputs_hidden": false
    }
   },
   "outputs": [],
   "source": [
    "OUTPUT_PATH = '' # TODO: fill in desired name of output file for submission\n",
    "y_pred = predict_labels(weights, tX_test)\n",
    "create_csv_submission(ids_test, y_pred, OUTPUT_PATH)"
   ]
  },
  {
   "cell_type": "code",
   "execution_count": null,
   "metadata": {
    "collapsed": true,
    "jupyter": {
     "outputs_hidden": true
    }
   },
   "outputs": [],
   "source": []
  }
 ],
 "metadata": {
  "anaconda-cloud": {},
  "kernelspec": {
   "display_name": "Python 3 (ipykernel)",
   "language": "python",
   "name": "python3"
  },
  "language_info": {
   "codemirror_mode": {
    "name": "ipython",
    "version": 3
   },
   "file_extension": ".py",
   "mimetype": "text/x-python",
   "name": "python",
   "nbconvert_exporter": "python",
   "pygments_lexer": "ipython3",
   "version": "3.7.11"
  }
 },
 "nbformat": 4,
 "nbformat_minor": 4
}
